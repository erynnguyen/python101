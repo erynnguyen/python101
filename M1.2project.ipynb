{
 "cells": [
  {
   "cell_type": "code",
   "execution_count": 2,
   "metadata": {},
   "outputs": [],
   "source": [
    "from selenium import webdriver\n",
    "from selenium.webdriver.common.by import By\n",
    "from selenium.webdriver.common.keys import Keys"
   ]
  },
  {
   "cell_type": "code",
   "execution_count": 1,
   "metadata": {},
   "outputs": [],
   "source": [
    "import re\n",
    "import time\n",
    "import pandas as pd\n",
    "\n",
    "from selenium import webdriver\n",
    "from selenium.webdriver.common.by import By\n",
    "from selenium.common.exceptions import NoSuchElementException"
   ]
  },
  {
   "cell_type": "code",
   "execution_count": 3,
   "metadata": {},
   "outputs": [],
   "source": [
    "# Global driver to use throughout the script\n",
    "DRIVER = None\n",
    "\n",
    "# Wrapper to close driver if its created\n",
    "def close_driver():\n",
    "    global DRIVER\n",
    "    if DRIVER is not None:\n",
    "        DRIVER.close()\n",
    "    DRIVER = None\n",
    "\n",
    "# Function to (re)start driver\n",
    "def start_driver(force_restart=False):\n",
    "    global DRIVER\n",
    "    \n",
    "    if force_restart:\n",
    "        close_driver()\n",
    "    \n",
    "    # Setting up the driver\n",
    "    options = webdriver.ChromeOptions()\n",
    "    options.add_argument('-headless') # we don't want a chrome browser opens, so it will run in the background\n",
    "    options.add_argument('-no-sandbox')\n",
    "    options.add_argument('-disable-dev-shm-usage')\n",
    "\n",
    "    DRIVER = webdriver.Chrome('chromedriver',options=options)"
   ]
  },
  {
   "cell_type": "code",
   "execution_count": 7,
   "metadata": {},
   "outputs": [
    {
     "name": "stdout",
     "output_type": "stream",
     "text": [
      "Initiating driver...\n",
      "Finished!\n"
     ]
    }
   ],
   "source": [
    "DRIVER = None\n",
    "\n",
    "def initialize_driver():\n",
    "    global DRIVER\n",
    "    if DRIVER is None:\n",
    "        print('Initiating driver...')\n",
    "        chrome_options = webdriver.ChromeOptions()\n",
    "        chrome_options.add_argument('-headless') \n",
    "        chrome_options.add_argument('-no-sandbox') \n",
    "        DRIVER = webdriver.Chrome('chromedriver', options=chrome_options)  # Create the new chrome browser with specific options\n",
    "        print('Finished!')\n",
    "\n",
    "def close_driver():\n",
    "    global DRIVER\n",
    "    if not DRIVER is None:\n",
    "        DRIVER.quit()\n",
    "\n",
    "    DRIVER = None\n",
    "\n",
    "close_driver()\n",
    "\n",
    "initialize_driver()"
   ]
  },
  {
   "cell_type": "code",
   "execution_count": 8,
   "metadata": {},
   "outputs": [
    {
     "data": {
      "text/plain": [
       "'https://tiki.vn/'"
      ]
     },
     "execution_count": 8,
     "metadata": {},
     "output_type": "execute_result"
    }
   ],
   "source": [
    "# Urls\n",
    "TIKI = 'https://tiki.vn'\n",
    "DRIVER.get('https://tiki.vn')\n",
    "DRIVER.current_url"
   ]
  },
  {
   "cell_type": "code",
   "execution_count": 9,
   "metadata": {},
   "outputs": [
    {
     "name": "stdout",
     "output_type": "stream",
     "text": [
      "<span class=\"slider\"><a href=\"https://tiki.vn/tikingon\"><div class=\"style__StyledCateName-sc-x9fskq-1 fVbTIP\">Thịt, Rau Củ</div></a><a href=\"https://tiki.vn/bach-hoa-online/c4384\"><div class=\"style__StyledCateName-sc-x9fskq-1 fVbTIP\">Bách Hóa</div></a><a href=\"https://tiki.vn/nha-cua-doi-song/c1883\"><div class=\"style__StyledCateName-sc-x9fskq-1 fVbTIP\">Nhà Cửa</div></a><a href=\"https://tiki.vn/dien-tu-dien-lanh/c4221\"><div class=\"style__StyledCateName-sc-x9fskq-1 fVbTIP\">Điện Tử</div></a><a href=\"https://tiki.vn/thiet-bi-kts-phu-kien-so/c1815\"><div class=\"style__StyledCateName-sc-x9fskq-1 fVbTIP\">Thiết Bị Số</div></a><a href=\"https://tiki.vn/dien-thoai-may-tinh-bang/c1789\"><div class=\"style__StyledCateName-sc-x9fskq-1 fVbTIP\">Điện Thoại</div></a><a href=\"https://tiki.vn/do-choi-me-be/c2549\"><div class=\"style__StyledCateName-sc-x9fskq-1 fVbTIP\">Mẹ &amp; Bé</div></a><a href=\"https://tiki.vn/lam-dep-suc-khoe/c1520\"><div class=\"style__StyledCateName-sc-x9fskq-1 fVbTIP\">Làm Đẹp</div></a><a href=\"https://tiki.vn/dien-gia-dung/c1882\"><div class=\"style__StyledCateName-sc-x9fskq-1 fVbTIP\">Gia Dụng</div></a><a href=\"https://tiki.vn/thoi-trang-nu/c931\"><div class=\"style__StyledCateName-sc-x9fskq-1 fVbTIP\">Thời trang nữ</div></a><a href=\"https://tiki.vn/thoi-trang-nam/c915\"><div class=\"style__StyledCateName-sc-x9fskq-1 fVbTIP\">Thời trang nam</div></a><a href=\"https://tiki.vn/giay-dep-nu/c1703\"><div class=\"style__StyledCateName-sc-x9fskq-1 fVbTIP\">Giày nữ</div></a><a href=\"https://tiki.vn/tui-vi-nu/c976\"><div class=\"style__StyledCateName-sc-x9fskq-1 fVbTIP\">Túi nữ</div></a><a href=\"https://tiki.vn/giay-dep-nam/c1686\"><div class=\"style__StyledCateName-sc-x9fskq-1 fVbTIP\">Giày nam</div></a><a href=\"https://tiki.vn/tui-thoi-trang-nam/c27616\"><div class=\"style__StyledCateName-sc-x9fskq-1 fVbTIP\">Túi nam</div></a><a href=\"https://tiki.vn/balo-va-vali/c6000\"><div class=\"style__StyledCateName-sc-x9fskq-1 fVbTIP\">Balo &amp; Vali</div></a><a href=\"https://tiki.vn/phu-kien-thoi-trang/c27498\"><div class=\"style__StyledCateName-sc-x9fskq-1 fVbTIP\">Phụ kiện</div></a><a href=\"https://tiki.vn/dong-ho-va-trang-suc/c8371\"><div class=\"style__StyledCateName-sc-x9fskq-1 fVbTIP\">Đồng hồ</div></a><a href=\"https://tiki.vn/laptop-may-vi-tinh-linh-kien/c1846\"><div class=\"style__StyledCateName-sc-x9fskq-1 fVbTIP\">Laptop</div></a><a href=\"https://tiki.vn/hang-quoc-te/c17166\"><div class=\"style__StyledCateName-sc-x9fskq-1 fVbTIP\">Quốc Tế</div></a><a href=\"https://tiki.vn/voucher-dich-vu/c11312\"><div class=\"style__StyledCateName-sc-x9fskq-1 fVbTIP\">Voucher</div></a><a href=\"https://tiki.vn/o-to-xe-may-xe-dap/c8594\"><div class=\"style__StyledCateName-sc-x9fskq-1 fVbTIP\">Xe</div></a><a href=\"https://tiki.vn/nha-sach-tiki/c8322\"><div class=\"style__StyledCateName-sc-x9fskq-1 fVbTIP\">Sách</div></a><a href=\"https://tiki.vn/the-thao-da-ngoai/c1975\"><div class=\"style__StyledCateName-sc-x9fskq-1 fVbTIP\">Thể Thao</div></a><a href=\"https://tiki.vn/may-anh/c1801\"><div class=\"style__StyledCateName-sc-x9fskq-1 fVbTIP\">Máy Ảnh</div></a></span>\n"
     ]
    }
   ],
   "source": [
    "all_categories = DRIVER.find_element(By.CLASS_NAME, 'slider')\n",
    "print(all_categories.get_attribute('outerHTML'))"
   ]
  },
  {
   "cell_type": "code",
   "execution_count": null,
   "metadata": {},
   "outputs": [],
   "source": []
  },
  {
   "cell_type": "code",
   "execution_count": null,
   "metadata": {},
   "outputs": [],
   "source": [
    "category_name = all_categories.find_elements(By.TAG_NAME, 'a')\n",
    "len(category_name) \n",
    "print(category_name)\n",
    "main_categories = []\n",
    "category_dict = {'name':'' , 'url':''}\n",
    "name = ''\n",
    "url = ''\n",
    "for i in range(len(category_name)):\n",
    "  name = category_name[i].text\n",
    "  url = category_name[i].get_attribute('href')\n",
    "  category_dict['name'] = name\n",
    "  category_dict['url'] = url\n",
    "  i+=1\n",
    "  main_categories.append(category_dict)\n",
    "  print('Main category',  main_categories)\n",
    "\n",
    "\n",
    "  \n"
   ]
  },
  {
   "cell_type": "code",
   "execution_count": 40,
   "metadata": {},
   "outputs": [
    {
     "name": "stdout",
     "output_type": "stream",
     "text": [
      "[{'name': 'Thịt, Rau Củ'}, {'name': 'Bách Hóa'}, {'name': 'Nhà Cửa'}, {'name': 'Điện Tử'}, {'name': 'Thiết Bị Số'}, {'name': 'Điện Thoại'}, {'name': 'Mẹ & Bé'}, {'name': 'Làm Đẹp'}, {'name': 'Gia Dụng'}, {'name': ''}, {'name': ''}, {'name': ''}, {'name': ''}, {'name': ''}, {'name': ''}, {'name': ''}, {'name': ''}, {'name': ''}, {'name': ''}, {'name': ''}, {'name': ''}, {'name': ''}, {'name': ''}, {'name': ''}, {'name': ''}]\n"
     ]
    }
   ],
   "source": [
    "main_categories = [dict(zip(['name'],[category_name[i].text])) for i in range(len(category_name))]\n",
    "print(main_categories)\n",
    "main_categories = []"
   ]
  },
  {
   "cell_type": "code",
   "execution_count": 42,
   "metadata": {},
   "outputs": [
    {
     "name": "stdout",
     "output_type": "stream",
     "text": [
      "{'url': 'https://tiki.vn/tikingon'}\n",
      "{'url': 'https://tiki.vn/bach-hoa-online/c4384'}\n",
      "{'url': 'https://tiki.vn/nha-cua-doi-song/c1883'}\n",
      "{'url': 'https://tiki.vn/dien-tu-dien-lanh/c4221'}\n",
      "{'url': 'https://tiki.vn/thiet-bi-kts-phu-kien-so/c1815'}\n",
      "{'url': 'https://tiki.vn/dien-thoai-may-tinh-bang/c1789'}\n",
      "{'url': 'https://tiki.vn/do-choi-me-be/c2549'}\n",
      "{'url': 'https://tiki.vn/lam-dep-suc-khoe/c1520'}\n",
      "{'url': 'https://tiki.vn/dien-gia-dung/c1882'}\n",
      "{'url': 'https://tiki.vn/thoi-trang-nu/c931'}\n",
      "{'url': 'https://tiki.vn/thoi-trang-nam/c915'}\n",
      "{'url': 'https://tiki.vn/giay-dep-nu/c1703'}\n",
      "{'url': 'https://tiki.vn/tui-vi-nu/c976'}\n",
      "{'url': 'https://tiki.vn/giay-dep-nam/c1686'}\n",
      "{'url': 'https://tiki.vn/tui-thoi-trang-nam/c27616'}\n",
      "{'url': 'https://tiki.vn/balo-va-vali/c6000'}\n",
      "{'url': 'https://tiki.vn/phu-kien-thoi-trang/c27498'}\n",
      "{'url': 'https://tiki.vn/dong-ho-va-trang-suc/c8371'}\n",
      "{'url': 'https://tiki.vn/laptop-may-vi-tinh-linh-kien/c1846'}\n",
      "{'url': 'https://tiki.vn/hang-quoc-te/c17166'}\n",
      "{'url': 'https://tiki.vn/voucher-dich-vu/c11312'}\n",
      "{'url': 'https://tiki.vn/o-to-xe-may-xe-dap/c8594'}\n",
      "{'url': 'https://tiki.vn/nha-sach-tiki/c8322'}\n",
      "{'url': 'https://tiki.vn/the-thao-da-ngoai/c1975'}\n",
      "{'url': 'https://tiki.vn/may-anh/c1801'}\n"
     ]
    }
   ],
   "source": [
    "for i in range(len(category_name)):\n",
    "    main_categories = dict(zip(['name'],[category_name[i].text]))\n",
    "    main_categories = dict(zip(['url'], [category_name[i].get_attribute('href')]))\n",
    "    i+=1\n",
    "    print(main_categories)\n",
    "\n"
   ]
  },
  {
   "cell_type": "code",
   "execution_count": null,
   "metadata": {},
   "outputs": [],
   "source": []
  },
  {
   "cell_type": "code",
   "execution_count": 29,
   "metadata": {},
   "outputs": [
    {
     "name": "stdout",
     "output_type": "stream",
     "text": [
      "Nhà Cửa\n"
     ]
    },
    {
     "data": {
      "text/plain": [
       "'https://tiki.vn/nha-cua-doi-song/c1883'"
      ]
     },
     "execution_count": 29,
     "metadata": {},
     "output_type": "execute_result"
    }
   ],
   "source": [
    "print(category_name[2].text)\n",
    "category_name[2].get_attribute('href')"
   ]
  },
  {
   "cell_type": "code",
   "execution_count": 5,
   "metadata": {},
   "outputs": [],
   "source": [
    "#@title <a name=\"tiki-cats\"></a> { form-width:'1px' }\n",
    "# Pre-defined links to each categories\n",
    "MAIN_CATEGORIES = [\n",
    "    {'Name': 'Đồ Chơi - Mẹ &amp; Bé',            'URL': 'https://tiki.vn/do-choi-me-be/c2549'},\n",
    "    {'Name': 'Điện Thoại - Máy Tính Bảng',       'URL': 'https://tiki.vn/dien-thoai-may-tinh-bang/c1789'},\n",
    "    {'Name': 'Làm Đẹp - Sức Khỏe',               'URL': 'https://tiki.vn/lam-dep-suc-khoe/c1520'},\n",
    "    {'Name': 'Điện Gia Dụng',                    'URL': 'https://tiki.vn/dien-gia-dung/c1882'},\n",
    "    {'Name': 'Thời trang nữ',                    'URL': 'https://tiki.vn/thoi-trang-nu/c931'},\n",
    "    {'Name': 'Thời trang nam',                   'URL': 'https://tiki.vn/thoi-trang-nam/c915'},\n",
    "    {'Name': 'Giày - Dép nữ',                    'URL': 'https://tiki.vn/giay-dep-nu/c1703'},\n",
    "    {'Name': 'Giày - Dép nam',                   'URL': 'https://tiki.vn/giay-dep-nam/c1686'},\n",
    "    {'Name': 'Túi thời trang nữ',                'URL': 'https://tiki.vn/tui-vi-nu/c976'},\n",
    "    {'Name': 'Túi thời trang nam',               'URL': 'https://tiki.vn/tui-thoi-trang-nam/c27616'},\n",
    "    {'Name': 'Balo và Vali',                     'URL': 'https://tiki.vn/balo-va-vali/c6000'},\n",
    "    {'Name': 'Phụ kiện thời trang',              'URL': 'https://tiki.vn/phu-kien-thoi-trang/c27498'},\n",
    "    {'Name': 'Đồng hồ và Trang sức',             'URL': 'https://tiki.vn/dong-ho-va-trang-suc/c8371'},\n",
    "    {'Name': 'Laptop - Máy Vi Tính - Linh kiện', 'URL': 'https://tiki.vn/laptop-may-vi-tinh-linh-kien/c1846'},\n",
    "    {'Name': 'Nhà Cửa - Đời Sống',               'URL': 'https://tiki.vn/nha-cua-doi-song/c1883'},\n",
    "    {'Name': 'Bách Hóa Online',                  'URL': 'https://tiki.vn/bach-hoa-online/c4384'},\n",
    "    {'Name': 'Hàng Quốc Tế',                     'URL': 'https://tiki.vn/hang-quoc-te/c17166'},\n",
    "    {'Name': 'Thiết Bị Số - Phụ Kiện Số',        'URL': 'https://tiki.vn/thiet-bi-kts-phu-kien-so/c1815'},\n",
    "    {'Name': 'Voucher - Dịch vụ',                'URL': 'https://tiki.vn/voucher-dich-vu/c11312'},\n",
    "    {'Name': 'Ô Tô - Xe Máy - Xe Đạp',           'URL': 'https://tiki.vn/o-to-xe-may-xe-dap/c8594'},\n",
    "    {'Name': 'Nhà Sách Tiki',                    'URL': 'https://tiki.vn/nha-sach-tiki/c8322'},\n",
    "    {'Name': 'Điện Tử - Điện Lạnh',              'URL': 'https://tiki.vn/dien-tu-dien-lanh/c4221'},\n",
    "    {'Name': 'Thể Thao - Dã Ngoại',              'URL': 'https://tiki.vn/the-thao-da-ngoai/c1975'},\n",
    "    {'Name': 'Máy Ảnh - Máy Quay Phim',          'URL': 'https://tiki.vn/may-anh/c1801'}\n",
    "]"
   ]
  },
  {
   "cell_type": "code",
   "execution_count": null,
   "metadata": {},
   "outputs": [],
   "source": [
    "# Function to extract product info from the product\n",
    "def get_product_info_single(product_item):\n",
    "    "
   ]
  }
 ],
 "metadata": {
  "kernelspec": {
   "display_name": "Python 3.10.7 64-bit",
   "language": "python",
   "name": "python3"
  },
  "language_info": {
   "codemirror_mode": {
    "name": "ipython",
    "version": 3
   },
   "file_extension": ".py",
   "mimetype": "text/x-python",
   "name": "python",
   "nbconvert_exporter": "python",
   "pygments_lexer": "ipython3",
   "version": "3.10.7"
  },
  "orig_nbformat": 4,
  "vscode": {
   "interpreter": {
    "hash": "d623b9fff8078de0876853c29573a4030e6e93105518608febd6bbf89a4f39fa"
   }
  }
 },
 "nbformat": 4,
 "nbformat_minor": 2
}
