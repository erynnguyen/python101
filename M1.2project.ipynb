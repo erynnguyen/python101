{
 "cells": [
  {
   "cell_type": "code",
   "execution_count": 2,
   "metadata": {},
   "outputs": [],
   "source": [
    "from selenium import webdriver\n",
    "from selenium.webdriver.common.by import By\n",
    "from selenium.webdriver.common.keys import Keys"
   ]
  },
  {
   "cell_type": "code",
   "execution_count": 1,
   "metadata": {},
   "outputs": [],
   "source": [
    "import re\n",
    "import time\n",
    "import pandas as pd\n",
    "\n",
    "from selenium import webdriver\n",
    "from selenium.webdriver.common.by import By\n",
    "from selenium.common.exceptions import NoSuchElementException"
   ]
  },
  {
   "cell_type": "code",
   "execution_count": 3,
   "metadata": {},
   "outputs": [],
   "source": [
    "# Global driver to use throughout the script\n",
    "DRIVER = None\n",
    "\n",
    "# Wrapper to close driver if its created\n",
    "def close_driver():\n",
    "    global DRIVER\n",
    "    if DRIVER is not None:\n",
    "        DRIVER.close()\n",
    "    DRIVER = None\n",
    "\n",
    "# Function to (re)start driver\n",
    "def start_driver(force_restart=False):\n",
    "    global DRIVER\n",
    "    \n",
    "    if force_restart:\n",
    "        close_driver()\n",
    "    \n",
    "    # Setting up the driver\n",
    "    options = webdriver.ChromeOptions()\n",
    "    options.add_argument('-headless') # we don't want a chrome browser opens, so it will run in the background\n",
    "    options.add_argument('-no-sandbox')\n",
    "    options.add_argument('-disable-dev-shm-usage')\n",
    "\n",
    "    DRIVER = webdriver.Chrome('chromedriver',options=options)"
   ]
  },
  {
   "cell_type": "code",
   "execution_count": 4,
   "metadata": {},
   "outputs": [],
   "source": [
    "# Urls\n",
    "TIKI = 'https://tiki.vn'"
   ]
  },
  {
   "cell_type": "code",
   "execution_count": 5,
   "metadata": {},
   "outputs": [],
   "source": [
    "#@title <a name=\"tiki-cats\"></a> { form-width:'1px' }\n",
    "# Pre-defined links to each categories\n",
    "MAIN_CATEGORIES = [\n",
    "    {'Name': 'Đồ Chơi - Mẹ &amp; Bé',            'URL': 'https://tiki.vn/do-choi-me-be/c2549'},\n",
    "    {'Name': 'Điện Thoại - Máy Tính Bảng',       'URL': 'https://tiki.vn/dien-thoai-may-tinh-bang/c1789'},\n",
    "    {'Name': 'Làm Đẹp - Sức Khỏe',               'URL': 'https://tiki.vn/lam-dep-suc-khoe/c1520'},\n",
    "    {'Name': 'Điện Gia Dụng',                    'URL': 'https://tiki.vn/dien-gia-dung/c1882'},\n",
    "    {'Name': 'Thời trang nữ',                    'URL': 'https://tiki.vn/thoi-trang-nu/c931'},\n",
    "    {'Name': 'Thời trang nam',                   'URL': 'https://tiki.vn/thoi-trang-nam/c915'},\n",
    "    {'Name': 'Giày - Dép nữ',                    'URL': 'https://tiki.vn/giay-dep-nu/c1703'},\n",
    "    {'Name': 'Giày - Dép nam',                   'URL': 'https://tiki.vn/giay-dep-nam/c1686'},\n",
    "    {'Name': 'Túi thời trang nữ',                'URL': 'https://tiki.vn/tui-vi-nu/c976'},\n",
    "    {'Name': 'Túi thời trang nam',               'URL': 'https://tiki.vn/tui-thoi-trang-nam/c27616'},\n",
    "    {'Name': 'Balo và Vali',                     'URL': 'https://tiki.vn/balo-va-vali/c6000'},\n",
    "    {'Name': 'Phụ kiện thời trang',              'URL': 'https://tiki.vn/phu-kien-thoi-trang/c27498'},\n",
    "    {'Name': 'Đồng hồ và Trang sức',             'URL': 'https://tiki.vn/dong-ho-va-trang-suc/c8371'},\n",
    "    {'Name': 'Laptop - Máy Vi Tính - Linh kiện', 'URL': 'https://tiki.vn/laptop-may-vi-tinh-linh-kien/c1846'},\n",
    "    {'Name': 'Nhà Cửa - Đời Sống',               'URL': 'https://tiki.vn/nha-cua-doi-song/c1883'},\n",
    "    {'Name': 'Bách Hóa Online',                  'URL': 'https://tiki.vn/bach-hoa-online/c4384'},\n",
    "    {'Name': 'Hàng Quốc Tế',                     'URL': 'https://tiki.vn/hang-quoc-te/c17166'},\n",
    "    {'Name': 'Thiết Bị Số - Phụ Kiện Số',        'URL': 'https://tiki.vn/thiet-bi-kts-phu-kien-so/c1815'},\n",
    "    {'Name': 'Voucher - Dịch vụ',                'URL': 'https://tiki.vn/voucher-dich-vu/c11312'},\n",
    "    {'Name': 'Ô Tô - Xe Máy - Xe Đạp',           'URL': 'https://tiki.vn/o-to-xe-may-xe-dap/c8594'},\n",
    "    {'Name': 'Nhà Sách Tiki',                    'URL': 'https://tiki.vn/nha-sach-tiki/c8322'},\n",
    "    {'Name': 'Điện Tử - Điện Lạnh',              'URL': 'https://tiki.vn/dien-tu-dien-lanh/c4221'},\n",
    "    {'Name': 'Thể Thao - Dã Ngoại',              'URL': 'https://tiki.vn/the-thao-da-ngoai/c1975'},\n",
    "    {'Name': 'Máy Ảnh - Máy Quay Phim',          'URL': 'https://tiki.vn/may-anh/c1801'}\n",
    "]"
   ]
  },
  {
   "cell_type": "code",
   "execution_count": null,
   "metadata": {},
   "outputs": [],
   "source": []
  }
 ],
 "metadata": {
  "kernelspec": {
   "display_name": "Python 3.8.2 ('venv': venv)",
   "language": "python",
   "name": "python3"
  },
  "language_info": {
   "codemirror_mode": {
    "name": "ipython",
    "version": 3
   },
   "file_extension": ".py",
   "mimetype": "text/x-python",
   "name": "python",
   "nbconvert_exporter": "python",
   "pygments_lexer": "ipython3",
   "version": "3.8.2"
  },
  "orig_nbformat": 4,
  "vscode": {
   "interpreter": {
    "hash": "7f0f0a5bda54a88f8eafd9259a42c924127259bb15ff958c7c019fa136360609"
   }
  }
 },
 "nbformat": 4,
 "nbformat_minor": 2
}
