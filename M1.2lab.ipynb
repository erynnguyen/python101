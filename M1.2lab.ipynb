{
 "cells": [
  {
   "cell_type": "code",
   "execution_count": 1,
   "metadata": {},
   "outputs": [],
   "source": [
    "from selenium import webdriver\n",
    "from selenium.webdriver.common.by import By\n",
    "from selenium.webdriver.common.keys import Keys"
   ]
  },
  {
   "cell_type": "code",
   "execution_count": 5,
   "metadata": {},
   "outputs": [
    {
     "name": "stdout",
     "output_type": "stream",
     "text": [
      "Initiating driver...\n",
      "Finished!\n"
     ]
    },
    {
     "data": {
      "text/plain": [
       "<selenium.webdriver.chrome.webdriver.WebDriver (session=\"c9a29c014a5e7e5ebd0be4c493fef694\")>"
      ]
     },
     "execution_count": 5,
     "metadata": {},
     "output_type": "execute_result"
    }
   ],
   "source": [
    "DRIVER = None\n",
    "def initialize_driver():\n",
    "    global DRIVER\n",
    "    if DRIVER is None:\n",
    "        print('Initiating driver...')\n",
    "        chrome_options = webdriver.ChromeOptions()\n",
    "        chrome_options.add_argument('-headless') \n",
    "        chrome_options.add_argument('-no-sandbox') \n",
    "        DRIVER = webdriver.Chrome('chromedriver',options=chrome_options)  # Create the new chrome browser with specific options\n",
    "        print('Finished!')\n",
    "\n",
    "def close_driver():\n",
    "    global DRIVER\n",
    "    if not DRIVER is None:\n",
    "        print(\"Quitting driver...\")\n",
    "        DRIVER.quit()\n",
    "        print(\"Done!\")\n",
    "\n",
    "    DRIVER = None\n",
    "\n",
    "initialize_driver()\n",
    "\n",
    "DRIVER"
   ]
  },
  {
   "cell_type": "code",
   "execution_count": 6,
   "metadata": {},
   "outputs": [
    {
     "data": {
      "text/plain": [
       "'https://vnexpress.net/'"
      ]
     },
     "execution_count": 6,
     "metadata": {},
     "output_type": "execute_result"
    }
   ],
   "source": [
    "DRIVER.get('https://vnexpress.net/')\n",
    "DRIVER.current_url"
   ]
  },
  {
   "cell_type": "code",
   "execution_count": 13,
   "metadata": {},
   "outputs": [
    {
     "name": "stdout",
     "output_type": "stream",
     "text": [
      "<article class=\"item-news item-news-common \" data-id=\"4504759\">\n",
      "<h3 class=\"title-news\">\n",
      "<a href=\"https://vnexpress.net/dong-dat-o-quang-ngai-4504759.html\" title=\"Động đất ở Quảng Ngãi\" data-medium=\"Item-11\" data-thumb=\"1\" data-itm-source=\"#vn_source=Home&amp;vn_campaign=ThuongVien&amp;vn_medium=Item-11&amp;vn_term=Desktop&amp;vn_thumb=1\" data-itm-added=\"1\">Động đất ở Quảng Ngãi</a>\n",
      "</h3>\n",
      "<div class=\"thumb-art\">\n",
      "<a href=\"https://vnexpress.net/dong-dat-o-quang-ngai-4504759.html\" class=\"thumb thumb-5x3\" title=\"Động đất ở Quảng Ngãi\" data-medium=\"Item-11\" data-thumb=\"1\" data-itm-source=\"#vn_source=Home&amp;vn_campaign=ThuongVien&amp;vn_medium=Item-11&amp;vn_term=Desktop&amp;vn_thumb=1\" data-itm-added=\"1\">\n",
      "<picture>\n",
      "<!--[if IE 9]><video style=\"display: none;\"><![endif]-->\n",
      "<source data-srcset=\"https://i1-vnexpress.vnecdn.net/2022/08/28/dongdat-1661657439-6814-1661657445.jpg?w=220&amp;h=132&amp;q=100&amp;dpr=1&amp;fit=crop&amp;s=b9z2HRH1OhD62Q9bXlFe_Q 1x, https://i1-vnexpress.vnecdn.net/2022/08/28/dongdat-1661657439-6814-1661657445.jpg?w=220&amp;h=132&amp;q=100&amp;dpr=2&amp;fit=crop&amp;s=tiXXWia73MC4d3iv-f8ijw 2x\" srcset=\"https://i1-vnexpress.vnecdn.net/2022/08/28/dongdat-1661657439-6814-1661657445.jpg?w=220&amp;h=132&amp;q=100&amp;dpr=1&amp;fit=crop&amp;s=b9z2HRH1OhD62Q9bXlFe_Q 1x, https://i1-vnexpress.vnecdn.net/2022/08/28/dongdat-1661657439-6814-1661657445.jpg?w=220&amp;h=132&amp;q=100&amp;dpr=2&amp;fit=crop&amp;s=tiXXWia73MC4d3iv-f8ijw 2x\">\n",
      "<!--[if IE 9]></video><![endif]-->\n",
      "<img itemprop=\"contentUrl\" style=\"transform: translateX(-50%); left: 50%;\" loading=\"lazy\" intrinsicsize=\"220x132\" alt=\"Động đất ở Quảng Ngãi\" class=\"lazy lazied\" src=\"https://i1-vnexpress.vnecdn.net/2022/08/28/dongdat-1661657439-6814-1661657445.jpg?w=220&amp;h=132&amp;q=100&amp;dpr=1&amp;fit=crop&amp;s=b9z2HRH1OhD62Q9bXlFe_Q\" data-src=\"https://i1-vnexpress.vnecdn.net/2022/08/28/dongdat-1661657439-6814-1661657445.jpg?w=220&amp;h=132&amp;q=100&amp;dpr=1&amp;fit=crop&amp;s=b9z2HRH1OhD62Q9bXlFe_Q\" data-ll-status=\"loaded\">\n",
      "</picture> </a>\n",
      "</div>\n",
      "<p class=\"description\">\n",
      "<a href=\"https://vnexpress.net/dong-dat-o-quang-ngai-4504759.html\" title=\"Động đất ở Quảng Ngãi\" data-medium=\"Item-11\" data-thumb=\"1\" data-itm-source=\"#vn_source=Home&amp;vn_campaign=ThuongVien&amp;vn_medium=Item-11&amp;vn_term=Desktop&amp;vn_thumb=1\" data-itm-added=\"1\">Trận động đất mạnh 2,5 độ xảy ra ở xã Sơn Kỳ, huyện Sơn Hà, độ sâu chấn tiêu 10 km, sáng 28/8.</a>\n",
      "<span class=\"meta-news\">\n",
      "<a class=\"count_cmt\" href=\"https://vnexpress.net/dong-dat-o-quang-ngai-4504759.html#box_comment_vne\" style=\"white-space: nowrap; display: none;\">\n",
      "<svg class=\"ic ic-comment\"><use xlink:href=\"#Comment-Reg\"></use></svg>\n",
      "<span class=\"font_icon widget-comment-4504759-1\"></span>\n",
      "</a>\n",
      "</span>\n",
      "</p>\n",
      "</article>\n"
     ]
    }
   ],
   "source": [
    "all_news_elements = DRIVER.find_elements(By.CLASS_NAME, 'item-news')\n",
    "len(all_news_elements)\n",
    "news_element = all_news_elements[10]\n",
    "print(news_element.get_attribute('outerHTML'))"
   ]
  },
  {
   "cell_type": "code",
   "execution_count": 18,
   "metadata": {},
   "outputs": [
    {
     "name": "stdout",
     "output_type": "stream",
     "text": [
      "https://vnexpress.net/dong-dat-o-quang-ngai-4504759.html\n",
      "Động đất ở Quảng Ngãi\n"
     ]
    },
    {
     "data": {
      "text/plain": [
       "'Trận động đất mạnh 2,5 độ xảy ra ở xã Sơn Kỳ, huyện Sơn Hà, độ sâu chấn tiêu 10 km, sáng 28/8.'"
      ]
     },
     "execution_count": 18,
     "metadata": {},
     "output_type": "execute_result"
    }
   ],
   "source": [
    "description_element = news_element.find_element(By.CLASS_NAME, 'description')\n",
    "a_element = description_element.find_element(By.TAG_NAME, 'a')\n",
    "article_link = a_element.get_attribute('href')\n",
    "print(article_link)\n",
    "title = a_element.get_attribute('title')\n",
    "print(title)\n",
    "a_element.text"
   ]
  },
  {
   "cell_type": "code",
   "execution_count": 24,
   "metadata": {},
   "outputs": [
    {
     "data": {
      "text/plain": [
       "('https://vnexpress.net/dong-dat-o-quang-ngai-4504759.html',\n",
       " 'Động đất ở Quảng Ngãi',\n",
       " 'Trận động đất mạnh 2,5 độ xảy ra ở xã Sơn Kỳ, huyện Sơn Hà, độ sâu chấn tiêu 10 km, sáng 28/8.')"
      ]
     },
     "execution_count": 24,
     "metadata": {},
     "output_type": "execute_result"
    }
   ],
   "source": [
    "def get_link_title_description(news_element):\n",
    "    '''\n",
    "    Return link, title and description of an article from a web element\n",
    "    '''\n",
    "    \n",
    "    description_element = news_element.find_element(By.CLASS_NAME, 'description')\n",
    "    a_element           = description_element.find_element(By.TAG_NAME, 'a')\n",
    "\n",
    "    # article link\n",
    "    article_link = a_element.get_attribute('href')\n",
    "\n",
    "    # title\n",
    "    title = a_element.get_attribute('title')\n",
    "\n",
    "    # description\n",
    "    desc = a_element.text\n",
    "\n",
    "    return article_link, title, desc\n",
    "\n",
    "news_element = all_news_elements[10]\n",
    "\n",
    "a, b, c = get_link_title_description(news_element)\n",
    "a, b, c"
   ]
  },
  {
   "cell_type": "code",
   "execution_count": 25,
   "metadata": {},
   "outputs": [
    {
     "name": "stdout",
     "output_type": "stream",
     "text": [
      "https://i1-vnexpress.vnecdn.net/2022/08/28/dongdat-1661657439-6814-1661657445.jpg?w=220&h=132&q=100&dpr=1&fit=crop&s=b9z2HRH1OhD62Q9bXlFe_Q\n"
     ]
    }
   ],
   "source": [
    "thumbnail_link = news_element.find_element(By.TAG_NAME, 'img').get_attribute('src')\n",
    "print(thumbnail_link)"
   ]
  },
  {
   "cell_type": "code",
   "execution_count": 30,
   "metadata": {},
   "outputs": [
    {
     "name": "stdout",
     "output_type": "stream",
     "text": [
      "https://i1-vnexpress.vnecdn.net/2022/08/28/dongdat-1661657439-6814-1661657445.jpg?w=220&h=132&q=100&dpr=1&fit=crop&s=b9z2HRH1OhD62Q9bXlFe_Q\n"
     ]
    }
   ],
   "source": [
    "def get_thumbnail_link(news_element):\n",
    "    '''\n",
    "    Return thumbnail link (if possible) given the web element\n",
    "    '''\n",
    "    \n",
    "    thumbnail_link = ''\n",
    "    try:\n",
    "        thumbnail_link = news_element.find_element(By.TAG_NAME, 'img').get_attribute('src')\n",
    "    except Exception:  # if there's an error\n",
    "        print('Cannot find thumbnail_link')\n",
    "    \n",
    "    return thumbnail_link\n",
    "\n",
    "news_element = all_news_elements[10]\n",
    "print(get_thumbnail_link(news_element))"
   ]
  },
  {
   "cell_type": "code",
   "execution_count": 31,
   "metadata": {},
   "outputs": [
    {
     "name": "stdout",
     "output_type": "stream",
     "text": [
      "Quitting driver...\n",
      "Done!\n",
      "Initiating driver...\n",
      "Finished!\n"
     ]
    }
   ],
   "source": [
    "close_driver()\n",
    "initialize_driver()"
   ]
  },
  {
   "cell_type": "code",
   "execution_count": 32,
   "metadata": {},
   "outputs": [],
   "source": [
    "DRIVER.get('https://vnexpress.net/')"
   ]
  },
  {
   "cell_type": "code",
   "execution_count": 38,
   "metadata": {},
   "outputs": [
    {
     "name": "stdout",
     "output_type": "stream",
     "text": [
      "Cannot get this article. Skip\n",
      "Cannot get this article. Skip\n",
      "Cannot get this article. Skip\n",
      "Cannot get this article. Skip\n",
      "Cannot get this article. Skip\n",
      "Cannot get this article. Skip\n",
      "Cannot get this article. Skip\n",
      "Cannot get this article. Skip\n",
      "Cannot get this article. Skip\n",
      "Cannot get this article. Skip\n",
      "Cannot get this article. Skip\n",
      "Cannot get this article. Skip\n",
      "Cannot get this article. Skip\n",
      "Cannot get this article. Skip\n",
      "Cannot get this article. Skip\n",
      "Cannot get this article. Skip\n",
      "Cannot get this article. Skip\n",
      "Cannot get this article. Skip\n",
      "Cannot get this article. Skip\n",
      "Cannot get this article. Skip\n",
      "Cannot get this article. Skip\n",
      "Cannot get this article. Skip\n",
      "Cannot get this article. Skip\n",
      "Cannot get this article. Skip\n",
      "Cannot get this article. Skip\n",
      "Cannot get this article. Skip\n",
      "Cannot get this article. Skip\n",
      "Cannot get this article. Skip\n",
      "Cannot get this article. Skip\n",
      "Cannot get this article. Skip\n",
      "Cannot get this article. Skip\n",
      "Cannot get this article. Skip\n",
      "Cannot get this article. Skip\n",
      "Cannot get this article. Skip\n",
      "Cannot get this article. Skip\n",
      "Cannot get this article. Skip\n",
      "Cannot get this article. Skip\n",
      "Cannot get this article. Skip\n",
      "Cannot get this article. Skip\n",
      "Cannot get this article. Skip\n",
      "Cannot get this article. Skip\n",
      "Cannot get this article. Skip\n",
      "Cannot get this article. Skip\n",
      "Cannot get this article. Skip\n",
      "Cannot get this article. Skip\n",
      "Cannot get this article. Skip\n",
      "Cannot get this article. Skip\n",
      "Cannot get this article. Skip\n",
      "Cannot get this article. Skip\n",
      "Cannot get this article. Skip\n",
      "Cannot get this article. Skip\n",
      "Cannot get this article. Skip\n",
      "Cannot get this article. Skip\n",
      "Cannot get this article. Skip\n",
      "Cannot get this article. Skip\n",
      "Cannot get this article. Skip\n",
      "Cannot get this article. Skip\n",
      "Cannot get this article. Skip\n",
      "Cannot get this article. Skip\n",
      "Cannot get this article. Skip\n",
      "Cannot get this article. Skip\n",
      "Cannot get this article. Skip\n",
      "Cannot get this article. Skip\n",
      "Cannot get this article. Skip\n",
      "Cannot get this article. Skip\n",
      "Cannot get this article. Skip\n",
      "Cannot get this article. Skip\n",
      "Cannot get this article. Skip\n",
      "Cannot get this article. Skip\n",
      "Cannot get this article. Skip\n",
      "Cannot get this article. Skip\n",
      "Cannot get this article. Skip\n",
      "Cannot get this article. Skip\n",
      "Cannot get this article. Skip\n",
      "Cannot get this article. Skip\n",
      "Cannot get this article. Skip\n",
      "Cannot get this article. Skip\n",
      "Cannot get this article. Skip\n",
      "Cannot get this article. Skip\n",
      "Cannot get this article. Skip\n",
      "Cannot get this article. Skip\n",
      "Cannot get this article. Skip\n",
      "Cannot get this article. Skip\n",
      "Cannot get this article. Skip\n",
      "Cannot get this article. Skip\n",
      "Cannot get this article. Skip\n",
      "Cannot get this article. Skip\n",
      "Cannot get this article. Skip\n",
      "Cannot get this article. Skip\n",
      "Cannot get this article. Skip\n",
      "Cannot get this article. Skip\n",
      "Cannot get this article. Skip\n",
      "Cannot get this article. Skip\n",
      "Cannot get this article. Skip\n",
      "Cannot get this article. Skip\n",
      "Cannot get this article. Skip\n",
      "Cannot get this article. Skip\n",
      "Cannot get this article. Skip\n",
      "Cannot get this article. Skip\n",
      "Cannot get this article. Skip\n",
      "Cannot get this article. Skip\n",
      "Cannot get this article. Skip\n",
      "Cannot get this article. Skip\n",
      "Cannot get this article. Skip\n",
      "Cannot get this article. Skip\n",
      "Cannot get this article. Skip\n",
      "Cannot get this article. Skip\n",
      "Cannot get this article. Skip\n",
      "Cannot get this article. Skip\n",
      "Cannot get this article. Skip\n",
      "Cannot get this article. Skip\n",
      "Cannot get this article. Skip\n",
      "Cannot get this article. Skip\n",
      "Cannot get this article. Skip\n",
      "Cannot get this article. Skip\n",
      "Cannot get this article. Skip\n",
      "Cannot get this article. Skip\n",
      "Cannot get this article. Skip\n",
      "Cannot get this article. Skip\n",
      "Cannot get this article. Skip\n",
      "Cannot get this article. Skip\n",
      "Cannot get this article. Skip\n",
      "Cannot get this article. Skip\n",
      "Cannot get this article. Skip\n",
      "Cannot get this article. Skip\n",
      "Cannot get this article. Skip\n",
      "Cannot get this article. Skip\n",
      "Number of scraped articles: 82\n",
      "Number of skipped articles: 127\n"
     ]
    }
   ],
   "source": [
    "def scrape_vnexpress(DRIVER): \n",
    "    all_news_elements = DRIVER.find_elements(By.CLASS_NAME, 'item-news')\n",
    "    results = []\n",
    "    n_skip = 0\n",
    "    n_success = 0\n",
    "    for news_element in all_news_elements:\n",
    "        def get_link_title_description(news_element):\n",
    "            description_element = news_element.find_element(By.CLASS_NAME, 'description')\n",
    "            a_element           = description_element.find_element(By.TAG_NAME, 'a')\n",
    "            article_link = a_element.get_attribute('href')\n",
    "            title = a_element.get_attribute('title')\n",
    "            desc = a_element.text\n",
    "            return article_link, title, desc\n",
    "        try:\n",
    "            article_link, title, desc = get_link_title_description(news_element) # must have 3\n",
    "            n_success += 1\n",
    "        except Exception:\n",
    "            print('Cannot get this article. Skip')\n",
    "            n_skip += 1\n",
    "            continue\n",
    "        \n",
    "        def get_thumbnail_link(news_element):\n",
    "            thumbnail_link = ''\n",
    "            try:\n",
    "                thumbnail_link = news_element.find_element(By.TAG_NAME, 'img').get_attribute('src')\n",
    "            except Exception:  # if there's an error\n",
    "                print('Cannot find thumbnail_link')\n",
    "\n",
    "        results.append([article_link, title, desc, thumbnail_link])\n",
    "\n",
    "    print(f'Number of scraped articles: {n_success}')\n",
    "    print(f'Number of skipped articles: {n_skip}')       \n",
    "    return results\n",
    "\n",
    "results = scrape_vnexpress(DRIVER)"
   ]
  },
  {
   "cell_type": "code",
   "execution_count": 39,
   "metadata": {},
   "outputs": [
    {
     "data": {
      "text/plain": [
       "[['https://vnexpress.net/ca-covid-tai-tp-hcm-tang-nguy-co-xuat-hien-lan-song-dich-moi-4504772.html',\n",
       "  'Ca Covid tại TP HCM tăng, nguy cơ xuất hiện làn sóng dịch mới',\n",
       "  'TP HCM ghi nhận hơn 1.100 ca Covid mới trong tuần qua, tăng 258 ca so với tuần trước, số bệnh nhân nặng tại các bệnh viện cũng ở mức cao.',\n",
       "  'https://i1-vnexpress.vnecdn.net/2022/08/28/dongdat-1661657439-6814-1661657445.jpg?w=220&h=132&q=100&dpr=1&fit=crop&s=b9z2HRH1OhD62Q9bXlFe_Q'],\n",
       " ['https://vnexpress.net/shinkansen-o-viet-nam-4504662.html',\n",
       "  'Shinkansen ở Việt Nam?',\n",
       "  'Đường sắt cao tốc theo mô hình Shinkansen có ít nhất bốn khiếm khuyết, không phù hợp áp dụng cho tuyến Hà Nội - TP HCM.',\n",
       "  'https://i1-vnexpress.vnecdn.net/2022/08/28/dongdat-1661657439-6814-1661657445.jpg?w=220&h=132&q=100&dpr=1&fit=crop&s=b9z2HRH1OhD62Q9bXlFe_Q'],\n",
       " ['https://vnexpress.net/ong-jonathan-hanh-nguyen-ipp-air-cargo-chua-duoc-cap-phep-da-co-don-hang-4503417.html',\n",
       "  \"Ông Jonathan Hạnh Nguyễn: 'IPP Air Cargo chưa được cấp phép đã có đơn hàng'\",\n",
       "  'IPP Air Cargo - hãng bay chở hàng đầu tiên của Việt Nam - được kỳ vọng cất cánh vào tháng 11, hiện đã có nhiều đối tác ký hợp đồng vận chuyển, theo ông Johnathan Hạnh Nguyễn.',\n",
       "  'https://i1-vnexpress.vnecdn.net/2022/08/28/dongdat-1661657439-6814-1661657445.jpg?w=220&h=132&q=100&dpr=1&fit=crop&s=b9z2HRH1OhD62Q9bXlFe_Q'],\n",
       " ['https://vnexpress.net/runner-nuoc-ngoai-chinh-phuc-duong-chay-vm-nha-trang-4504774.html',\n",
       "  'Runner nước ngoài chinh phục đường chạy VM Nha Trang',\n",
       "  'KHÁNH HÒANhiều runner người nước ngoài bất ngờ với không khí náo nhiệt ở VnExpress Marathon Marvelous Nha Trang sáng 28/8 và mong muốn tham dự thêm các giải chạy khác tại Việt Nam.',\n",
       "  'https://i1-vnexpress.vnecdn.net/2022/08/28/dongdat-1661657439-6814-1661657445.jpg?w=220&h=132&q=100&dpr=1&fit=crop&s=b9z2HRH1OhD62Q9bXlFe_Q'],\n",
       " ['https://vnexpress.net/pakistan-cau-cuu-the-gioi-vi-lu-lut-4504781.html',\n",
       "  'Pakistan cầu cứu thế giới vì lũ lụt',\n",
       "  'Pakistan đang kêu gọi hỗ trợ nhiều hơn từ quốc tế sau khi những đợt lũ lụt càn quét nước này từ tháng 6 khiến hơn 1.000 người thiệt mạng.',\n",
       "  'https://i1-vnexpress.vnecdn.net/2022/08/28/dongdat-1661657439-6814-1661657445.jpg?w=220&h=132&q=100&dpr=1&fit=crop&s=b9z2HRH1OhD62Q9bXlFe_Q']]"
      ]
     },
     "execution_count": 39,
     "metadata": {},
     "output_type": "execute_result"
    }
   ],
   "source": [
    "results[:5]"
   ]
  },
  {
   "cell_type": "code",
   "execution_count": 40,
   "metadata": {},
   "outputs": [
    {
     "ename": "ModuleNotFoundError",
     "evalue": "No module named 'pandas'",
     "output_type": "error",
     "traceback": [
      "\u001b[0;31m---------------------------------------------------------------------------\u001b[0m",
      "\u001b[0;31mModuleNotFoundError\u001b[0m                       Traceback (most recent call last)",
      "\u001b[1;32m/Users/trang/Documents/github/python101/python101/M1.2lab.ipynb Cell 13\u001b[0m in \u001b[0;36m<cell line: 1>\u001b[0;34m()\u001b[0m\n\u001b[0;32m----> <a href='vscode-notebook-cell:/Users/trang/Documents/github/python101/python101/M1.2lab.ipynb#ch0000014?line=0'>1</a>\u001b[0m \u001b[39mimport\u001b[39;00m \u001b[39mpandas\u001b[39;00m \u001b[39mas\u001b[39;00m \u001b[39mpd\u001b[39;00m\n",
      "\u001b[0;31mModuleNotFoundError\u001b[0m: No module named 'pandas'"
     ]
    }
   ],
   "source": [
    "import pandas as pd"
   ]
  }
 ],
 "metadata": {
  "kernelspec": {
   "display_name": "Python 3.8.2 ('venv': venv)",
   "language": "python",
   "name": "python3"
  },
  "language_info": {
   "codemirror_mode": {
    "name": "ipython",
    "version": 3
   },
   "file_extension": ".py",
   "mimetype": "text/x-python",
   "name": "python",
   "nbconvert_exporter": "python",
   "pygments_lexer": "ipython3",
   "version": "3.8.2"
  },
  "orig_nbformat": 4,
  "vscode": {
   "interpreter": {
    "hash": "7f0f0a5bda54a88f8eafd9259a42c924127259bb15ff958c7c019fa136360609"
   }
  }
 },
 "nbformat": 4,
 "nbformat_minor": 2
}
