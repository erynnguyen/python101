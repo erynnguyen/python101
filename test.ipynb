{
 "cells": [
  {
   "cell_type": "code",
   "execution_count": null,
   "metadata": {},
   "outputs": [],
   "source": [
    "import re\n",
    "import time\n",
    "import pandas as pd\n",
    "\n",
    "from selenium import webdriver\n",
    "from selenium.webdriver.common.by import By\n",
    "from selenium.common.exceptions import NoSuchElementException"
   ]
  },
  {
   "cell_type": "code",
   "execution_count": 22,
   "metadata": {},
   "outputs": [],
   "source": [
    "# Global driver to use throughout the script\n",
    "DRIVER = None\n",
    "\n",
    "# Wrapper to close driver if its created\n",
    "def close_driver():\n",
    "    global DRIVER\n",
    "    if DRIVER is not None:\n",
    "        DRIVER.close()\n",
    "    DRIVER = None\n",
    "\n",
    "# Function to (re)start driver\n",
    "def start_driver(force_restart=False):\n",
    "    global DRIVER\n",
    "    \n",
    "    if force_restart:\n",
    "        close_driver()\n",
    "    \n",
    "# Setting up the driver\n",
    "options = webdriver.ChromeOptions()\n",
    "options.add_argument('-headless') # we don't want a chrome browser opens, so it will run in the background\n",
    "options.add_argument('-no-sandbox')\n",
    "options.add_argument('-disable-dev-shm-usage')\n",
    "\n",
    "DRIVER = webdriver.Chrome('chromedriver',options=options)"
   ]
  },
  {
   "cell_type": "code",
   "execution_count": 23,
   "metadata": {},
   "outputs": [
    {
     "data": {
      "text/plain": [
       "'https://tiki.vn/'"
      ]
     },
     "execution_count": 23,
     "metadata": {},
     "output_type": "execute_result"
    }
   ],
   "source": [
    "DRIVER.get('https://tiki.vn')\n",
    "DRIVER.current_url"
   ]
  },
  {
   "cell_type": "code",
   "execution_count": 24,
   "metadata": {},
   "outputs": [
    {
     "name": "stdout",
     "output_type": "stream",
     "text": [
      "<span class=\"slider\"><a href=\"https://tiki.vn/tikingon\"><div class=\"style__StyledCateName-sc-x9fskq-1 fVbTIP\">Thịt, Rau Củ</div></a><a href=\"https://tiki.vn/bach-hoa-online/c4384\"><div class=\"style__StyledCateName-sc-x9fskq-1 fVbTIP\">Bách Hóa</div></a><a href=\"https://tiki.vn/nha-cua-doi-song/c1883\"><div class=\"style__StyledCateName-sc-x9fskq-1 fVbTIP\">Nhà Cửa</div></a><a href=\"https://tiki.vn/dien-tu-dien-lanh/c4221\"><div class=\"style__StyledCateName-sc-x9fskq-1 fVbTIP\">Điện Tử</div></a><a href=\"https://tiki.vn/thiet-bi-kts-phu-kien-so/c1815\"><div class=\"style__StyledCateName-sc-x9fskq-1 fVbTIP\">Thiết Bị Số</div></a><a href=\"https://tiki.vn/dien-thoai-may-tinh-bang/c1789\"><div class=\"style__StyledCateName-sc-x9fskq-1 fVbTIP\">Điện Thoại</div></a><a href=\"https://tiki.vn/do-choi-me-be/c2549\"><div class=\"style__StyledCateName-sc-x9fskq-1 fVbTIP\">Mẹ &amp; Bé</div></a><a href=\"https://tiki.vn/lam-dep-suc-khoe/c1520\"><div class=\"style__StyledCateName-sc-x9fskq-1 fVbTIP\">Làm Đẹp</div></a><a href=\"https://tiki.vn/dien-gia-dung/c1882\"><div class=\"style__StyledCateName-sc-x9fskq-1 fVbTIP\">Gia Dụng</div></a><a href=\"https://tiki.vn/thoi-trang-nu/c931\"><div class=\"style__StyledCateName-sc-x9fskq-1 fVbTIP\">Thời trang nữ</div></a><a href=\"https://tiki.vn/thoi-trang-nam/c915\"><div class=\"style__StyledCateName-sc-x9fskq-1 fVbTIP\">Thời trang nam</div></a><a href=\"https://tiki.vn/giay-dep-nu/c1703\"><div class=\"style__StyledCateName-sc-x9fskq-1 fVbTIP\">Giày nữ</div></a><a href=\"https://tiki.vn/tui-vi-nu/c976\"><div class=\"style__StyledCateName-sc-x9fskq-1 fVbTIP\">Túi nữ</div></a><a href=\"https://tiki.vn/giay-dep-nam/c1686\"><div class=\"style__StyledCateName-sc-x9fskq-1 fVbTIP\">Giày nam</div></a><a href=\"https://tiki.vn/tui-thoi-trang-nam/c27616\"><div class=\"style__StyledCateName-sc-x9fskq-1 fVbTIP\">Túi nam</div></a><a href=\"https://tiki.vn/balo-va-vali/c6000\"><div class=\"style__StyledCateName-sc-x9fskq-1 fVbTIP\">Balo &amp; Vali</div></a><a href=\"https://tiki.vn/phu-kien-thoi-trang/c27498\"><div class=\"style__StyledCateName-sc-x9fskq-1 fVbTIP\">Phụ kiện</div></a><a href=\"https://tiki.vn/dong-ho-va-trang-suc/c8371\"><div class=\"style__StyledCateName-sc-x9fskq-1 fVbTIP\">Đồng hồ</div></a><a href=\"https://tiki.vn/laptop-may-vi-tinh-linh-kien/c1846\"><div class=\"style__StyledCateName-sc-x9fskq-1 fVbTIP\">Laptop</div></a><a href=\"https://tiki.vn/hang-quoc-te/c17166\"><div class=\"style__StyledCateName-sc-x9fskq-1 fVbTIP\">Quốc Tế</div></a><a href=\"https://tiki.vn/voucher-dich-vu/c11312\"><div class=\"style__StyledCateName-sc-x9fskq-1 fVbTIP\">Voucher</div></a><a href=\"https://tiki.vn/o-to-xe-may-xe-dap/c8594\"><div class=\"style__StyledCateName-sc-x9fskq-1 fVbTIP\">Xe</div></a><a href=\"https://tiki.vn/nha-sach-tiki/c8322\"><div class=\"style__StyledCateName-sc-x9fskq-1 fVbTIP\">Sách</div></a><a href=\"https://tiki.vn/the-thao-da-ngoai/c1975\"><div class=\"style__StyledCateName-sc-x9fskq-1 fVbTIP\">Thể Thao</div></a><a href=\"https://tiki.vn/may-anh/c1801\"><div class=\"style__StyledCateName-sc-x9fskq-1 fVbTIP\">Máy Ảnh</div></a></span>\n"
     ]
    }
   ],
   "source": [
    "all_categories = DRIVER.find_element(By.CLASS_NAME, 'slider')\n",
    "print(all_categories.get_attribute('outerHTML'))"
   ]
  },
  {
   "cell_type": "code",
   "execution_count": 25,
   "metadata": {},
   "outputs": [
    {
     "name": "stdout",
     "output_type": "stream",
     "text": [
      "[<selenium.webdriver.remote.webelement.WebElement (session=\"a54abe75d30c83dd5ad1e4c079502dca\", element=\"c9a2011c-a779-413b-98bc-b60506d87183\")>, <selenium.webdriver.remote.webelement.WebElement (session=\"a54abe75d30c83dd5ad1e4c079502dca\", element=\"86535557-1a73-47f7-a7d5-e1dabc2b21d1\")>, <selenium.webdriver.remote.webelement.WebElement (session=\"a54abe75d30c83dd5ad1e4c079502dca\", element=\"f8a90d75-13ee-47bf-a9a8-ccd0f7b8e657\")>, <selenium.webdriver.remote.webelement.WebElement (session=\"a54abe75d30c83dd5ad1e4c079502dca\", element=\"6c362aa8-7c96-4c8f-a47b-6e2ff74a535b\")>, <selenium.webdriver.remote.webelement.WebElement (session=\"a54abe75d30c83dd5ad1e4c079502dca\", element=\"53a207eb-e939-4de3-87d6-b24245ddd4cd\")>, <selenium.webdriver.remote.webelement.WebElement (session=\"a54abe75d30c83dd5ad1e4c079502dca\", element=\"8e76bdb6-46a1-4b0a-8a7c-41eb3b4dc497\")>, <selenium.webdriver.remote.webelement.WebElement (session=\"a54abe75d30c83dd5ad1e4c079502dca\", element=\"b504cce4-b4e8-4b3d-8e16-90764d27a9f5\")>, <selenium.webdriver.remote.webelement.WebElement (session=\"a54abe75d30c83dd5ad1e4c079502dca\", element=\"49e5a003-c7e1-4466-b46c-be796b776fc1\")>, <selenium.webdriver.remote.webelement.WebElement (session=\"a54abe75d30c83dd5ad1e4c079502dca\", element=\"f4cefb82-b84a-4628-8bcb-2511333919e8\")>, <selenium.webdriver.remote.webelement.WebElement (session=\"a54abe75d30c83dd5ad1e4c079502dca\", element=\"135703dd-009e-420f-b36a-e0df3ee67333\")>, <selenium.webdriver.remote.webelement.WebElement (session=\"a54abe75d30c83dd5ad1e4c079502dca\", element=\"f4a0b6a8-94aa-4b68-8b46-94748eb91e67\")>, <selenium.webdriver.remote.webelement.WebElement (session=\"a54abe75d30c83dd5ad1e4c079502dca\", element=\"020f32ee-45c6-454a-bfda-59b00bf7b011\")>, <selenium.webdriver.remote.webelement.WebElement (session=\"a54abe75d30c83dd5ad1e4c079502dca\", element=\"9524eb53-7676-4512-9ae6-dee642e77f8e\")>, <selenium.webdriver.remote.webelement.WebElement (session=\"a54abe75d30c83dd5ad1e4c079502dca\", element=\"92b52e51-6430-44f9-a0cd-504e20bc420f\")>, <selenium.webdriver.remote.webelement.WebElement (session=\"a54abe75d30c83dd5ad1e4c079502dca\", element=\"b4cf3ae2-4a33-4449-82bf-e62b95a00cb1\")>, <selenium.webdriver.remote.webelement.WebElement (session=\"a54abe75d30c83dd5ad1e4c079502dca\", element=\"3508f3e5-b441-49a5-9d60-1d1ca8db109f\")>, <selenium.webdriver.remote.webelement.WebElement (session=\"a54abe75d30c83dd5ad1e4c079502dca\", element=\"cb35c32b-ca71-4118-ba40-d9ad159ed36c\")>, <selenium.webdriver.remote.webelement.WebElement (session=\"a54abe75d30c83dd5ad1e4c079502dca\", element=\"c92e05a7-a3b4-4f3a-af3d-33af0ca209b9\")>, <selenium.webdriver.remote.webelement.WebElement (session=\"a54abe75d30c83dd5ad1e4c079502dca\", element=\"ee9fac9a-9f1c-4403-a28e-b751d1b6bf1f\")>, <selenium.webdriver.remote.webelement.WebElement (session=\"a54abe75d30c83dd5ad1e4c079502dca\", element=\"1afc68f1-c0bb-4f19-bc0b-25d89751d7ee\")>, <selenium.webdriver.remote.webelement.WebElement (session=\"a54abe75d30c83dd5ad1e4c079502dca\", element=\"5260980a-f8d4-46df-a1db-9376485c31c7\")>, <selenium.webdriver.remote.webelement.WebElement (session=\"a54abe75d30c83dd5ad1e4c079502dca\", element=\"fb67ab3c-0301-45c0-9866-99f84a6cc168\")>, <selenium.webdriver.remote.webelement.WebElement (session=\"a54abe75d30c83dd5ad1e4c079502dca\", element=\"6275d108-8d79-4b66-b92d-68567d90d5ab\")>, <selenium.webdriver.remote.webelement.WebElement (session=\"a54abe75d30c83dd5ad1e4c079502dca\", element=\"23246d8d-d38e-45ae-bb73-c2e04c2eca88\")>, <selenium.webdriver.remote.webelement.WebElement (session=\"a54abe75d30c83dd5ad1e4c079502dca\", element=\"45259890-966f-45a6-a3ae-1a6a2129301e\")>]\n",
      "[{'name': '<div class=\"style__StyledCateName-sc-x9fskq-1 fVbTIP\">Máy Ảnh</div>', 'url': 'https://tiki.vn/may-anh/c1801'}, {'name': '<div class=\"style__StyledCateName-sc-x9fskq-1 fVbTIP\">Máy Ảnh</div>', 'url': 'https://tiki.vn/may-anh/c1801'}, {'name': '<div class=\"style__StyledCateName-sc-x9fskq-1 fVbTIP\">Máy Ảnh</div>', 'url': 'https://tiki.vn/may-anh/c1801'}, {'name': '<div class=\"style__StyledCateName-sc-x9fskq-1 fVbTIP\">Máy Ảnh</div>', 'url': 'https://tiki.vn/may-anh/c1801'}, {'name': '<div class=\"style__StyledCateName-sc-x9fskq-1 fVbTIP\">Máy Ảnh</div>', 'url': 'https://tiki.vn/may-anh/c1801'}, {'name': '<div class=\"style__StyledCateName-sc-x9fskq-1 fVbTIP\">Máy Ảnh</div>', 'url': 'https://tiki.vn/may-anh/c1801'}, {'name': '<div class=\"style__StyledCateName-sc-x9fskq-1 fVbTIP\">Máy Ảnh</div>', 'url': 'https://tiki.vn/may-anh/c1801'}, {'name': '<div class=\"style__StyledCateName-sc-x9fskq-1 fVbTIP\">Máy Ảnh</div>', 'url': 'https://tiki.vn/may-anh/c1801'}, {'name': '<div class=\"style__StyledCateName-sc-x9fskq-1 fVbTIP\">Máy Ảnh</div>', 'url': 'https://tiki.vn/may-anh/c1801'}, {'name': '<div class=\"style__StyledCateName-sc-x9fskq-1 fVbTIP\">Máy Ảnh</div>', 'url': 'https://tiki.vn/may-anh/c1801'}, {'name': '<div class=\"style__StyledCateName-sc-x9fskq-1 fVbTIP\">Máy Ảnh</div>', 'url': 'https://tiki.vn/may-anh/c1801'}, {'name': '<div class=\"style__StyledCateName-sc-x9fskq-1 fVbTIP\">Máy Ảnh</div>', 'url': 'https://tiki.vn/may-anh/c1801'}, {'name': '<div class=\"style__StyledCateName-sc-x9fskq-1 fVbTIP\">Máy Ảnh</div>', 'url': 'https://tiki.vn/may-anh/c1801'}, {'name': '<div class=\"style__StyledCateName-sc-x9fskq-1 fVbTIP\">Máy Ảnh</div>', 'url': 'https://tiki.vn/may-anh/c1801'}, {'name': '<div class=\"style__StyledCateName-sc-x9fskq-1 fVbTIP\">Máy Ảnh</div>', 'url': 'https://tiki.vn/may-anh/c1801'}, {'name': '<div class=\"style__StyledCateName-sc-x9fskq-1 fVbTIP\">Máy Ảnh</div>', 'url': 'https://tiki.vn/may-anh/c1801'}, {'name': '<div class=\"style__StyledCateName-sc-x9fskq-1 fVbTIP\">Máy Ảnh</div>', 'url': 'https://tiki.vn/may-anh/c1801'}, {'name': '<div class=\"style__StyledCateName-sc-x9fskq-1 fVbTIP\">Máy Ảnh</div>', 'url': 'https://tiki.vn/may-anh/c1801'}, {'name': '<div class=\"style__StyledCateName-sc-x9fskq-1 fVbTIP\">Máy Ảnh</div>', 'url': 'https://tiki.vn/may-anh/c1801'}, {'name': '<div class=\"style__StyledCateName-sc-x9fskq-1 fVbTIP\">Máy Ảnh</div>', 'url': 'https://tiki.vn/may-anh/c1801'}, {'name': '<div class=\"style__StyledCateName-sc-x9fskq-1 fVbTIP\">Máy Ảnh</div>', 'url': 'https://tiki.vn/may-anh/c1801'}, {'name': '<div class=\"style__StyledCateName-sc-x9fskq-1 fVbTIP\">Máy Ảnh</div>', 'url': 'https://tiki.vn/may-anh/c1801'}, {'name': '<div class=\"style__StyledCateName-sc-x9fskq-1 fVbTIP\">Máy Ảnh</div>', 'url': 'https://tiki.vn/may-anh/c1801'}, {'name': '<div class=\"style__StyledCateName-sc-x9fskq-1 fVbTIP\">Máy Ảnh</div>', 'url': 'https://tiki.vn/may-anh/c1801'}, {'name': '<div class=\"style__StyledCateName-sc-x9fskq-1 fVbTIP\">Máy Ảnh</div>', 'url': 'https://tiki.vn/may-anh/c1801'}]\n"
     ]
    }
   ],
   "source": [
    "category_name = all_categories.find_elements(By.TAG_NAME, 'a')\n",
    "len(category_name) \n",
    "print(category_name)\n",
    "main_categories = []\n",
    "category_dict = {'name':'' , 'url':''}\n",
    "name = ''\n",
    "url = ''\n",
    "for i in range(len(category_name)):\n",
    "  name = category_name[i].get_attribute('innerHTML')\n",
    "  url = category_name[i].get_attribute('href')\n",
    "  category_dict['name'] = name\n",
    "  category_dict['url'] = url\n",
    "  main_categories.append(category_dict)\n",
    "  i+=1\n",
    "print(main_categories)\n",
    "  "
   ]
  },
  {
   "cell_type": "code",
   "execution_count": 100,
   "metadata": {},
   "outputs": [
    {
     "ename": "InvalidSessionIdException",
     "evalue": "Message: invalid session id\nStacktrace:\n0   chromedriver                        0x000000010db20149 chromedriver + 4469065\n1   chromedriver                        0x000000010daaa233 chromedriver + 3985971\n2   chromedriver                        0x000000010d740eab chromedriver + 409259\n3   chromedriver                        0x000000010d76a2a4 chromedriver + 578212\n4   chromedriver                        0x000000010d794bdc chromedriver + 752604\n5   chromedriver                        0x000000010d792974 chromedriver + 743796\n6   chromedriver                        0x000000010d792217 chromedriver + 741911\n7   chromedriver                        0x000000010d71abba chromedriver + 252858\n8   chromedriver                        0x000000010daf16ad chromedriver + 4277933\n9   chromedriver                        0x000000010daf5b3a chromedriver + 4295482\n10  chromedriver                        0x000000010dafacdf chromedriver + 4316383\n11  chromedriver                        0x000000010daf6857 chromedriver + 4298839\n12  chromedriver                        0x000000010dacf64f chromedriver + 4138575\n13  chromedriver                        0x000000010d719c7e chromedriver + 248958\n14  libdyld.dylib                       0x00007fff20418f3d start + 1\n",
     "output_type": "error",
     "traceback": [
      "\u001b[0;31m---------------------------------------------------------------------------\u001b[0m",
      "\u001b[0;31mInvalidSessionIdException\u001b[0m                 Traceback (most recent call last)",
      "\u001b[1;32m/Users/trang/Documents/github/python101/python101/test.ipynb Cell 6\u001b[0m in \u001b[0;36m<cell line: 1>\u001b[0;34m()\u001b[0m\n\u001b[0;32m----> <a href='vscode-notebook-cell:/Users/trang/Documents/github/python101/python101/test.ipynb#ch0000006?line=0'>1</a>\u001b[0m \u001b[39mprint\u001b[39m(category_name[\u001b[39m5\u001b[39;49m]\u001b[39m.\u001b[39;49mtext)\n\u001b[1;32m      <a href='vscode-notebook-cell:/Users/trang/Documents/github/python101/python101/test.ipynb#ch0000006?line=1'>2</a>\u001b[0m category_name[\u001b[39m5\u001b[39m]\u001b[39m.\u001b[39mget_attribute(\u001b[39m'\u001b[39m\u001b[39mhref\u001b[39m\u001b[39m'\u001b[39m)\n",
      "File \u001b[0;32m~/Documents/github/python101/python101/venv/lib/python3.8/site-packages/selenium/webdriver/remote/webelement.py:84\u001b[0m, in \u001b[0;36mWebElement.text\u001b[0;34m(self)\u001b[0m\n\u001b[1;32m     81\u001b[0m \u001b[39m@property\u001b[39m\n\u001b[1;32m     82\u001b[0m \u001b[39mdef\u001b[39;00m \u001b[39mtext\u001b[39m(\u001b[39mself\u001b[39m) \u001b[39m-\u001b[39m\u001b[39m>\u001b[39m \u001b[39mstr\u001b[39m:\n\u001b[1;32m     83\u001b[0m     \u001b[39m\"\"\"The text of the element.\"\"\"\u001b[39;00m\n\u001b[0;32m---> 84\u001b[0m     \u001b[39mreturn\u001b[39;00m \u001b[39mself\u001b[39;49m\u001b[39m.\u001b[39;49m_execute(Command\u001b[39m.\u001b[39;49mGET_ELEMENT_TEXT)[\u001b[39m'\u001b[39m\u001b[39mvalue\u001b[39m\u001b[39m'\u001b[39m]\n",
      "File \u001b[0;32m~/Documents/github/python101/python101/venv/lib/python3.8/site-packages/selenium/webdriver/remote/webelement.py:396\u001b[0m, in \u001b[0;36mWebElement._execute\u001b[0;34m(self, command, params)\u001b[0m\n\u001b[1;32m    394\u001b[0m     params \u001b[39m=\u001b[39m {}\n\u001b[1;32m    395\u001b[0m params[\u001b[39m'\u001b[39m\u001b[39mid\u001b[39m\u001b[39m'\u001b[39m] \u001b[39m=\u001b[39m \u001b[39mself\u001b[39m\u001b[39m.\u001b[39m_id\n\u001b[0;32m--> 396\u001b[0m \u001b[39mreturn\u001b[39;00m \u001b[39mself\u001b[39;49m\u001b[39m.\u001b[39;49m_parent\u001b[39m.\u001b[39;49mexecute(command, params)\n",
      "File \u001b[0;32m~/Documents/github/python101/python101/venv/lib/python3.8/site-packages/selenium/webdriver/remote/webdriver.py:428\u001b[0m, in \u001b[0;36mWebDriver.execute\u001b[0;34m(self, driver_command, params)\u001b[0m\n\u001b[1;32m    426\u001b[0m response \u001b[39m=\u001b[39m \u001b[39mself\u001b[39m\u001b[39m.\u001b[39mcommand_executor\u001b[39m.\u001b[39mexecute(driver_command, params)\n\u001b[1;32m    427\u001b[0m \u001b[39mif\u001b[39;00m response:\n\u001b[0;32m--> 428\u001b[0m     \u001b[39mself\u001b[39;49m\u001b[39m.\u001b[39;49merror_handler\u001b[39m.\u001b[39;49mcheck_response(response)\n\u001b[1;32m    429\u001b[0m     response[\u001b[39m'\u001b[39m\u001b[39mvalue\u001b[39m\u001b[39m'\u001b[39m] \u001b[39m=\u001b[39m \u001b[39mself\u001b[39m\u001b[39m.\u001b[39m_unwrap_value(\n\u001b[1;32m    430\u001b[0m         response\u001b[39m.\u001b[39mget(\u001b[39m'\u001b[39m\u001b[39mvalue\u001b[39m\u001b[39m'\u001b[39m, \u001b[39mNone\u001b[39;00m))\n\u001b[1;32m    431\u001b[0m     \u001b[39mreturn\u001b[39;00m response\n",
      "File \u001b[0;32m~/Documents/github/python101/python101/venv/lib/python3.8/site-packages/selenium/webdriver/remote/errorhandler.py:243\u001b[0m, in \u001b[0;36mErrorHandler.check_response\u001b[0;34m(self, response)\u001b[0m\n\u001b[1;32m    241\u001b[0m         alert_text \u001b[39m=\u001b[39m value[\u001b[39m'\u001b[39m\u001b[39malert\u001b[39m\u001b[39m'\u001b[39m]\u001b[39m.\u001b[39mget(\u001b[39m'\u001b[39m\u001b[39mtext\u001b[39m\u001b[39m'\u001b[39m)\n\u001b[1;32m    242\u001b[0m     \u001b[39mraise\u001b[39;00m exception_class(message, screen, stacktrace, alert_text)  \u001b[39m# type: ignore[call-arg]  # mypy is not smart enough here\u001b[39;00m\n\u001b[0;32m--> 243\u001b[0m \u001b[39mraise\u001b[39;00m exception_class(message, screen, stacktrace)\n",
      "\u001b[0;31mInvalidSessionIdException\u001b[0m: Message: invalid session id\nStacktrace:\n0   chromedriver                        0x000000010db20149 chromedriver + 4469065\n1   chromedriver                        0x000000010daaa233 chromedriver + 3985971\n2   chromedriver                        0x000000010d740eab chromedriver + 409259\n3   chromedriver                        0x000000010d76a2a4 chromedriver + 578212\n4   chromedriver                        0x000000010d794bdc chromedriver + 752604\n5   chromedriver                        0x000000010d792974 chromedriver + 743796\n6   chromedriver                        0x000000010d792217 chromedriver + 741911\n7   chromedriver                        0x000000010d71abba chromedriver + 252858\n8   chromedriver                        0x000000010daf16ad chromedriver + 4277933\n9   chromedriver                        0x000000010daf5b3a chromedriver + 4295482\n10  chromedriver                        0x000000010dafacdf chromedriver + 4316383\n11  chromedriver                        0x000000010daf6857 chromedriver + 4298839\n12  chromedriver                        0x000000010dacf64f chromedriver + 4138575\n13  chromedriver                        0x000000010d719c7e chromedriver + 248958\n14  libdyld.dylib                       0x00007fff20418f3d start + 1\n"
     ]
    }
   ],
   "source": [
    "print(category_name[5].text)\n",
    "category_name[5].get_attribute('href')"
   ]
  },
  {
   "cell_type": "code",
   "execution_count": 33,
   "metadata": {},
   "outputs": [
    {
     "name": "stdout",
     "output_type": "stream",
     "text": [
      "48\n",
      "<a class=\"product-item\" data-view-index=\"0\" data-view-id=\"product_list_item\" data-view-content=\"{&quot;click_data&quot;:{&quot;id&quot;:184036446,&quot;spid&quot;:32033723,&quot;position&quot;:0,&quot;trace_id&quot;:&quot;WZ0gYXsqzYuCXrnk&quot;}}\" href=\"/apple-iphone-11-p184036446.html?spid=32033723\"><span class=\"style__StyledItem-sc-18svp8n-0 fkDgwT\"><div><div class=\"thumbnail\"><img src=\"https://salt.tikicdn.com/ts/upload/dc/0d/49/3251737db2de83b74eba8a9ad6d03338.png\" width=\"136\" height=\"24\" style=\"bottom:0;left:0\" class=\"styles__StyledDynamicIconBadge-sc-cxexs7-0 hdozRK\"><img src=\"https://salt.tikicdn.com/ts/upload/b9/1f/4b/557eac9c67a4466ccebfa74cde854215.png\" width=\"74\" height=\"18\" style=\"top:0;left:0\" class=\"styles__StyledDynamicIconBadge-sc-cxexs7-0 hdozRK\"><div class=\"image-wrapper\"><picture class=\"webpimg-container\"><source type=\"image/webp\" srcset=\"https://salt.tikicdn.com/cache/200x200/ts/product/6e/86/1f/883df272895afe2ae38465b8aa1d3d5c.jpg.webp 1x, https://salt.tikicdn.com/cache/280x280/ts/product/6e/86/1f/883df272895afe2ae38465b8aa1d3d5c.jpg.webp 2x\"><img src=\"https://salt.tikicdn.com/cache/280x280/ts/product/6e/86/1f/883df272895afe2ae38465b8aa1d3d5c.jpg\" alt=\"Apple iPhone 11\" srcset=\"https://salt.tikicdn.com/cache/200x200/ts/product/6e/86/1f/883df272895afe2ae38465b8aa1d3d5c.jpg 1x, https://salt.tikicdn.com/cache/280x280/ts/product/6e/86/1f/883df272895afe2ae38465b8aa1d3d5c.jpg 2x\" class=\"WebpImg__StyledImg-sc-h3ozu8-0 fWjUGo\"></picture></div></div><div class=\"style__OptionColor-sc-18svp8n-2 dWRAlJ option-color\"><div style=\"width:144px;margin:16px auto 12px auto;positon:relative\" class=\"Slide__Root-sc-1bhg4sj-0 cDhDcg\"><div class=\"Slide__Slider-sc-1bhg4sj-1 edueVq\"><div class=\"Slide__Frame-sc-1bhg4sj-2 kkgqeG\"><div style=\"border:1px solid #fd820a\" width=\"25\" class=\"Slide__Item-sc-1bhg4sj-3 kydcof\"><div class=\"image-wrapper\"><picture class=\"webpimg-container\"><source type=\"image/webp\" srcset=\"https://salt.tikicdn.com/cache/100x100/media/catalog/producttmp/c9/89/90/805a472efb3337e10e17fde9a3a95ed4.jpg.webp\"><img src=\"https://salt.tikicdn.com/cache/100x100/media/catalog/producttmp/c9/89/90/805a472efb3337e10e17fde9a3a95ed4.jpg\" class=\"WebpImg__StyledImg-sc-h3ozu8-0 fWjUGo style__BlockImg-sc-18svp8n-5 jepyFG\" srcset=\"https://salt.tikicdn.com/cache/100x100/media/catalog/producttmp/c9/89/90/805a472efb3337e10e17fde9a3a95ed4.jpg\"></picture></div></div><div style=\"border:1px solid transparent\" width=\"25\" class=\"Slide__Item-sc-1bhg4sj-3 kydcof\"><div class=\"image-wrapper\"><picture class=\"webpimg-container\"><source type=\"image/webp\" srcset=\"https://salt.tikicdn.com/cache/100x100/ts/product/0c/62/39/499c08d6ec13cd33b33ee601d9e4251e.jpg.webp\"><img src=\"https://salt.tikicdn.com/cache/100x100/ts/product/0c/62/39/499c08d6ec13cd33b33ee601d9e4251e.jpg\" class=\"WebpImg__StyledImg-sc-h3ozu8-0 fWjUGo style__BlockImg-sc-18svp8n-5 jepyFG\" srcset=\"https://salt.tikicdn.com/cache/100x100/ts/product/0c/62/39/499c08d6ec13cd33b33ee601d9e4251e.jpg\"></picture></div></div><div style=\"border:1px solid transparent\" width=\"25\" class=\"Slide__Item-sc-1bhg4sj-3 kydcof\"><div class=\"image-wrapper\"><picture class=\"webpimg-container\"><source type=\"image/webp\" srcset=\"https://salt.tikicdn.com/cache/100x100/media/catalog/producttmp/84/3d/55/f86c2a0c2027505403d32c371b036f44.jpg.webp\"><img src=\"https://salt.tikicdn.com/cache/100x100/media/catalog/producttmp/84/3d/55/f86c2a0c2027505403d32c371b036f44.jpg\" class=\"WebpImg__StyledImg-sc-h3ozu8-0 fWjUGo style__BlockImg-sc-18svp8n-5 jepyFG\" srcset=\"https://salt.tikicdn.com/cache/100x100/media/catalog/producttmp/84/3d/55/f86c2a0c2027505403d32c371b036f44.jpg\"></picture></div></div><div style=\"border:1px solid transparent\" width=\"25\" class=\"Slide__Item-sc-1bhg4sj-3 kydcof\"><div class=\"image-wrapper\"><picture class=\"webpimg-container\"><source type=\"image/webp\" srcset=\"https://salt.tikicdn.com/cache/100x100/media/catalog/producttmp/b7/94/b3/9831429bf682f8978fb07c05513c3e1a.jpg.webp\"><img src=\"https://salt.tikicdn.com/cache/100x100/media/catalog/producttmp/b7/94/b3/9831429bf682f8978fb07c05513c3e1a.jpg\" class=\"WebpImg__StyledImg-sc-h3ozu8-0 fWjUGo style__BlockImg-sc-18svp8n-5 jepyFG\" srcset=\"https://salt.tikicdn.com/cache/100x100/media/catalog/producttmp/b7/94/b3/9831429bf682f8978fb07c05513c3e1a.jpg\"></picture></div></div><div style=\"border:1px solid transparent\" width=\"25\" class=\"Slide__Item-sc-1bhg4sj-3 kydcof\"><div class=\"image-wrapper\"><picture class=\"webpimg-container\"><source type=\"image/webp\" srcset=\"https://salt.tikicdn.com/cache/100x100/media/catalog/producttmp/5b/b2/c4/04695a62aceb31e73260cb03a38b5ca9.jpg.webp\"><img src=\"https://salt.tikicdn.com/cache/100x100/media/catalog/producttmp/5b/b2/c4/04695a62aceb31e73260cb03a38b5ca9.jpg\" class=\"WebpImg__StyledImg-sc-h3ozu8-0 fWjUGo style__BlockImg-sc-18svp8n-5 jepyFG\" srcset=\"https://salt.tikicdn.com/cache/100x100/media/catalog/producttmp/5b/b2/c4/04695a62aceb31e73260cb03a38b5ca9.jpg\"></picture></div></div></div></div><div class=\"Slide__Nav-sc-1bhg4sj-5 easgFy\"><div disabled=\"\" class=\"Slide__NavControll-sc-1bhg4sj-4 cFTsdX\"><div class=\"style__NavLeft-sc-18svp8n-3 flJeWI\"><i class=\"tikicon icon-arrow-back\"></i></div></div><div class=\"Slide__NavControll-sc-1bhg4sj-4\"><div class=\"style__NavRight-sc-18svp8n-4 sEyqE\"><i class=\"tikicon icon-arrow-back\"></i></div></div></div><div class=\"Slide__Dot-sc-1bhg4sj-6 cYMQXT\"></div></div></div><div class=\"info\"><div class=\"badge-service\"><div class=\"item\"><div><img width=\"56\" height=\"16\" src=\"https://salt.tikicdn.com/ts/upload/9f/32/dd/8a8d39d4453399569dfb3e80fe01de75.png\"></div><span style=\"color:#00AB56\">GIAO SIÊU TỐC 2H</span></div></div><div class=\"name\"><h3>Apple iPhone 11</h3></div><div style=\"margin-top:2px;margin-bottom:2px\" class=\"styles__StyledRatingQtySold-sc-732h27-0 uDeVr\"><div class=\"full-rating\"><div class=\"total\"><svg stroke=\"currentColor\" fill=\"currentColor\" stroke-width=\"0\" viewBox=\"0 0 24 24\" size=\"14\" color=\"#c7c7c7\" style=\"color:#c7c7c7\" height=\"14\" width=\"14\" xmlns=\"http://www.w3.org/2000/svg\"><path d=\"M12 17.27L18.18 21l-1.64-7.03L22 9.24l-7.19-.61L12 2 9.19 8.63 2 9.24l5.46 4.73L5.82 21z\"></path></svg><svg stroke=\"currentColor\" fill=\"currentColor\" stroke-width=\"0\" viewBox=\"0 0 24 24\" size=\"14\" color=\"#c7c7c7\" style=\"color:#c7c7c7\" height=\"14\" width=\"14\" xmlns=\"http://www.w3.org/2000/svg\"><path d=\"M12 17.27L18.18 21l-1.64-7.03L22 9.24l-7.19-.61L12 2 9.19 8.63 2 9.24l5.46 4.73L5.82 21z\"></path></svg><svg stroke=\"currentColor\" fill=\"currentColor\" stroke-width=\"0\" viewBox=\"0 0 24 24\" size=\"14\" color=\"#c7c7c7\" style=\"color:#c7c7c7\" height=\"14\" width=\"14\" xmlns=\"http://www.w3.org/2000/svg\"><path d=\"M12 17.27L18.18 21l-1.64-7.03L22 9.24l-7.19-.61L12 2 9.19 8.63 2 9.24l5.46 4.73L5.82 21z\"></path></svg><svg stroke=\"currentColor\" fill=\"currentColor\" stroke-width=\"0\" viewBox=\"0 0 24 24\" size=\"14\" color=\"#c7c7c7\" style=\"color:#c7c7c7\" height=\"14\" width=\"14\" xmlns=\"http://www.w3.org/2000/svg\"><path d=\"M12 17.27L18.18 21l-1.64-7.03L22 9.24l-7.19-.61L12 2 9.19 8.63 2 9.24l5.46 4.73L5.82 21z\"></path></svg><svg stroke=\"currentColor\" fill=\"currentColor\" stroke-width=\"0\" viewBox=\"0 0 24 24\" size=\"14\" color=\"#c7c7c7\" style=\"color:#c7c7c7\" height=\"14\" width=\"14\" xmlns=\"http://www.w3.org/2000/svg\"><path d=\"M12 17.27L18.18 21l-1.64-7.03L22 9.24l-7.19-.61L12 2 9.19 8.63 2 9.24l5.46 4.73L5.82 21z\"></path></svg></div><div class=\"average\" style=\"width:96%\"><svg stroke=\"currentColor\" fill=\"currentColor\" stroke-width=\"0\" viewBox=\"0 0 24 24\" size=\"14\" color=\"#fdd836\" style=\"color:#fdd836\" height=\"14\" width=\"14\" xmlns=\"http://www.w3.org/2000/svg\"><path d=\"M12 17.27L18.18 21l-1.64-7.03L22 9.24l-7.19-.61L12 2 9.19 8.63 2 9.24l5.46 4.73L5.82 21z\"></path></svg><svg stroke=\"currentColor\" fill=\"currentColor\" stroke-width=\"0\" viewBox=\"0 0 24 24\" size=\"14\" color=\"#fdd836\" style=\"color:#fdd836\" height=\"14\" width=\"14\" xmlns=\"http://www.w3.org/2000/svg\"><path d=\"M12 17.27L18.18 21l-1.64-7.03L22 9.24l-7.19-.61L12 2 9.19 8.63 2 9.24l5.46 4.73L5.82 21z\"></path></svg><svg stroke=\"currentColor\" fill=\"currentColor\" stroke-width=\"0\" viewBox=\"0 0 24 24\" size=\"14\" color=\"#fdd836\" style=\"color:#fdd836\" height=\"14\" width=\"14\" xmlns=\"http://www.w3.org/2000/svg\"><path d=\"M12 17.27L18.18 21l-1.64-7.03L22 9.24l-7.19-.61L12 2 9.19 8.63 2 9.24l5.46 4.73L5.82 21z\"></path></svg><svg stroke=\"currentColor\" fill=\"currentColor\" stroke-width=\"0\" viewBox=\"0 0 24 24\" size=\"14\" color=\"#fdd836\" style=\"color:#fdd836\" height=\"14\" width=\"14\" xmlns=\"http://www.w3.org/2000/svg\"><path d=\"M12 17.27L18.18 21l-1.64-7.03L22 9.24l-7.19-.61L12 2 9.19 8.63 2 9.24l5.46 4.73L5.82 21z\"></path></svg><svg stroke=\"currentColor\" fill=\"currentColor\" stroke-width=\"0\" viewBox=\"0 0 24 24\" size=\"14\" color=\"#fdd836\" style=\"color:#fdd836\" height=\"14\" width=\"14\" xmlns=\"http://www.w3.org/2000/svg\"><path d=\"M12 17.27L18.18 21l-1.64-7.03L22 9.24l-7.19-.61L12 2 9.19 8.63 2 9.24l5.46 4.73L5.82 21z\"></path></svg></div></div><div class=\"styles__StyledSeparator-sc-732h27-1 gcwbHk\"></div><div class=\"styles__StyledQtySold-sc-732h27-2 fCfYNm\">Đã bán 5000+</div></div><div class=\"price-discount has-discount\"><div class=\"price-discount__price\">10.850.000 ₫</div><div class=\"price-discount__discount\">-<!-- -->16<!-- -->%</div></div><div class=\"badge-under-price\"></div><div class=\"badge-benefits\"><div class=\"item\"><img width=\"16\" height=\"16\" src=\"https://salt.tikicdn.com/ts/upload/fc/d8/25/e61805952396b6ed4143194298112b0a.png\"><span>Trả góp</span></div></div><div class=\"badge-additional-info\"></div></div></div></span></a>\n"
     ]
    }
   ],
   "source": [
    "DRIVER.get('https://tiki.vn/dien-thoai-may-tinh-bang/c1789')\n",
    "all_products = DRIVER.find_elements(By.CLASS_NAME, 'product-item')\n",
    "print(len(all_products))\n",
    "print(all_products[0].get_attribute('outerHTML'))"
   ]
  },
  {
   "cell_type": "code",
   "execution_count": 106,
   "metadata": {},
   "outputs": [
    {
     "ename": "AttributeError",
     "evalue": "'NoneType' object has no attribute 'find_elements'",
     "output_type": "error",
     "traceback": [
      "\u001b[0;31m---------------------------------------------------------------------------\u001b[0m",
      "\u001b[0;31mAttributeError\u001b[0m                            Traceback (most recent call last)",
      "\u001b[1;32m/Users/trang/Documents/github/python101/python101/test.ipynb Cell 8\u001b[0m in \u001b[0;36m<cell line: 1>\u001b[0;34m()\u001b[0m\n\u001b[0;32m----> <a href='vscode-notebook-cell:/Users/trang/Documents/github/python101/python101/test.ipynb#ch0000014?line=0'>1</a>\u001b[0m product_item \u001b[39m=\u001b[39m DRIVER\u001b[39m.\u001b[39;49mfind_elements(By\u001b[39m.\u001b[39mCLASS_NAME, \u001b[39m'\u001b[39m\u001b[39mproduct-item\u001b[39m\u001b[39m'\u001b[39m)[\u001b[39m0\u001b[39m]\n\u001b[1;32m      <a href='vscode-notebook-cell:/Users/trang/Documents/github/python101/python101/test.ipynb#ch0000014?line=1'>2</a>\u001b[0m \u001b[39m#print(product_item.get_attribute('outerHTML'))\u001b[39;00m\n\u001b[1;32m      <a href='vscode-notebook-cell:/Users/trang/Documents/github/python101/python101/test.ipynb#ch0000014?line=2'>3</a>\u001b[0m name \u001b[39m=\u001b[39m product_item\u001b[39m.\u001b[39mfind_element(By\u001b[39m.\u001b[39mCLASS_NAME, \u001b[39m'\u001b[39m\u001b[39mname\u001b[39m\u001b[39m'\u001b[39m)\u001b[39m.\u001b[39mtext\n",
      "\u001b[0;31mAttributeError\u001b[0m: 'NoneType' object has no attribute 'find_elements'"
     ]
    }
   ],
   "source": [
    "product_item = DRIVER.find_elements(By.CLASS_NAME, 'product-item')[0]\n",
    "#print(product_item.get_attribute('outerHTML'))\n",
    "name = product_item.find_element(By.CLASS_NAME, 'name').text\n",
    "price = product_item.find_element(By.CLASS_NAME, 'price-discount__price').text\n",
    "product_url = product_item.get_attribute('href')\n",
    "try:\n",
    "    image = product_item.find_element(By.CLASS_NAME, 'image-wrapper').find_element(By.TAG_NAME, 'img').get_attribute('src')\n",
    "except Exception:\n",
    "    print('Cannot find this element')\n",
    "   \n",
    "print(name)\n",
    "print(price)\n",
    "print(product_url)\n",
    "print(image)"
   ]
  },
  {
   "cell_type": "code",
   "execution_count": 105,
   "metadata": {},
   "outputs": [
    {
     "ename": "InvalidSessionIdException",
     "evalue": "Message: invalid session id\nStacktrace:\n0   chromedriver                        0x000000010db20149 chromedriver + 4469065\n1   chromedriver                        0x000000010daaa233 chromedriver + 3985971\n2   chromedriver                        0x000000010d740eab chromedriver + 409259\n3   chromedriver                        0x000000010d76a2a4 chromedriver + 578212\n4   chromedriver                        0x000000010d794bdc chromedriver + 752604\n5   chromedriver                        0x000000010d792974 chromedriver + 743796\n6   chromedriver                        0x000000010d792217 chromedriver + 741911\n7   chromedriver                        0x000000010d71abba chromedriver + 252858\n8   chromedriver                        0x000000010daf16ad chromedriver + 4277933\n9   chromedriver                        0x000000010daf5b3a chromedriver + 4295482\n10  chromedriver                        0x000000010dafacdf chromedriver + 4316383\n11  chromedriver                        0x000000010daf6857 chromedriver + 4298839\n12  chromedriver                        0x000000010dacf64f chromedriver + 4138575\n13  chromedriver                        0x000000010d719c7e chromedriver + 248958\n14  libdyld.dylib                       0x00007fff20418f3d start + 1\n",
     "output_type": "error",
     "traceback": [
      "\u001b[0;31m---------------------------------------------------------------------------\u001b[0m",
      "\u001b[0;31mInvalidSessionIdException\u001b[0m                 Traceback (most recent call last)",
      "\u001b[1;32m/Users/trang/Documents/github/python101/python101/test.ipynb Cell 9\u001b[0m in \u001b[0;36m<cell line: 19>\u001b[0;34m()\u001b[0m\n\u001b[1;32m     <a href='vscode-notebook-cell:/Users/trang/Documents/github/python101/python101/test.ipynb#ch0000013?line=15'>16</a>\u001b[0m         \u001b[39mprint\u001b[39m(\u001b[39m'\u001b[39m\u001b[39mCannot get this element\u001b[39m\u001b[39m'\u001b[39m) \n\u001b[1;32m     <a href='vscode-notebook-cell:/Users/trang/Documents/github/python101/python101/test.ipynb#ch0000013?line=16'>17</a>\u001b[0m     \u001b[39mreturn\u001b[39;00m info\n\u001b[0;32m---> <a href='vscode-notebook-cell:/Users/trang/Documents/github/python101/python101/test.ipynb#ch0000013?line=18'>19</a>\u001b[0m get_product_info_single(product_item)\n",
      "\u001b[1;32m/Users/trang/Documents/github/python101/python101/test.ipynb Cell 9\u001b[0m in \u001b[0;36mget_product_info_single\u001b[0;34m(product_item)\u001b[0m\n\u001b[1;32m      <a href='vscode-notebook-cell:/Users/trang/Documents/github/python101/python101/test.ipynb#ch0000013?line=1'>2</a>\u001b[0m \u001b[39mdef\u001b[39;00m \u001b[39mget_product_info_single\u001b[39m(product_item):\n\u001b[1;32m      <a href='vscode-notebook-cell:/Users/trang/Documents/github/python101/python101/test.ipynb#ch0000013?line=4'>5</a>\u001b[0m     info \u001b[39m=\u001b[39m {\u001b[39m'\u001b[39m\u001b[39mname\u001b[39m\u001b[39m'\u001b[39m:\u001b[39m'\u001b[39m\u001b[39m'\u001b[39m,\n\u001b[1;32m      <a href='vscode-notebook-cell:/Users/trang/Documents/github/python101/python101/test.ipynb#ch0000013?line=5'>6</a>\u001b[0m             \u001b[39m'\u001b[39m\u001b[39mprice\u001b[39m\u001b[39m'\u001b[39m:\u001b[39m'\u001b[39m\u001b[39m'\u001b[39m,\n\u001b[1;32m      <a href='vscode-notebook-cell:/Users/trang/Documents/github/python101/python101/test.ipynb#ch0000013?line=6'>7</a>\u001b[0m             \u001b[39m'\u001b[39m\u001b[39mproduct_url\u001b[39m\u001b[39m'\u001b[39m:\u001b[39m'\u001b[39m\u001b[39m'\u001b[39m,\n\u001b[1;32m      <a href='vscode-notebook-cell:/Users/trang/Documents/github/python101/python101/test.ipynb#ch0000013?line=7'>8</a>\u001b[0m             \u001b[39m'\u001b[39m\u001b[39mimage\u001b[39m\u001b[39m'\u001b[39m:\u001b[39m'\u001b[39m\u001b[39m'\u001b[39m}   \n\u001b[0;32m---> <a href='vscode-notebook-cell:/Users/trang/Documents/github/python101/python101/test.ipynb#ch0000013?line=9'>10</a>\u001b[0m     info[\u001b[39m'\u001b[39m\u001b[39mname\u001b[39m\u001b[39m'\u001b[39m] \u001b[39m=\u001b[39m product_item\u001b[39m.\u001b[39;49mfind_element(By\u001b[39m.\u001b[39;49mCLASS_NAME, \u001b[39m'\u001b[39;49m\u001b[39mname\u001b[39;49m\u001b[39m'\u001b[39;49m)\u001b[39m.\u001b[39mtext\n\u001b[1;32m     <a href='vscode-notebook-cell:/Users/trang/Documents/github/python101/python101/test.ipynb#ch0000013?line=10'>11</a>\u001b[0m     info[\u001b[39m'\u001b[39m\u001b[39mprice\u001b[39m\u001b[39m'\u001b[39m] \u001b[39m=\u001b[39m product_item\u001b[39m.\u001b[39mfind_element(By\u001b[39m.\u001b[39mCLASS_NAME, \u001b[39m'\u001b[39m\u001b[39mprice-discount__price\u001b[39m\u001b[39m'\u001b[39m)\u001b[39m.\u001b[39mtext\n\u001b[1;32m     <a href='vscode-notebook-cell:/Users/trang/Documents/github/python101/python101/test.ipynb#ch0000013?line=11'>12</a>\u001b[0m     info[\u001b[39m'\u001b[39m\u001b[39mproduct_url\u001b[39m\u001b[39m'\u001b[39m] \u001b[39m=\u001b[39m product_item\u001b[39m.\u001b[39mget_attribute(\u001b[39m'\u001b[39m\u001b[39mhref\u001b[39m\u001b[39m'\u001b[39m)\n",
      "File \u001b[0;32m~/Documents/github/python101/python101/venv/lib/python3.8/site-packages/selenium/webdriver/remote/webelement.py:419\u001b[0m, in \u001b[0;36mWebElement.find_element\u001b[0;34m(self, by, value)\u001b[0m\n\u001b[1;32m    416\u001b[0m     by \u001b[39m=\u001b[39m By\u001b[39m.\u001b[39mCSS_SELECTOR\n\u001b[1;32m    417\u001b[0m     value \u001b[39m=\u001b[39m \u001b[39m'\u001b[39m\u001b[39m[name=\u001b[39m\u001b[39m\"\u001b[39m\u001b[39m%s\u001b[39;00m\u001b[39m\"\u001b[39m\u001b[39m]\u001b[39m\u001b[39m'\u001b[39m \u001b[39m%\u001b[39m value\n\u001b[0;32m--> 419\u001b[0m \u001b[39mreturn\u001b[39;00m \u001b[39mself\u001b[39;49m\u001b[39m.\u001b[39;49m_execute(Command\u001b[39m.\u001b[39;49mFIND_CHILD_ELEMENT,\n\u001b[1;32m    420\u001b[0m                      {\u001b[39m\"\u001b[39;49m\u001b[39musing\u001b[39;49m\u001b[39m\"\u001b[39;49m: by, \u001b[39m\"\u001b[39;49m\u001b[39mvalue\u001b[39;49m\u001b[39m\"\u001b[39;49m: value})[\u001b[39m'\u001b[39m\u001b[39mvalue\u001b[39m\u001b[39m'\u001b[39m]\n",
      "File \u001b[0;32m~/Documents/github/python101/python101/venv/lib/python3.8/site-packages/selenium/webdriver/remote/webelement.py:396\u001b[0m, in \u001b[0;36mWebElement._execute\u001b[0;34m(self, command, params)\u001b[0m\n\u001b[1;32m    394\u001b[0m     params \u001b[39m=\u001b[39m {}\n\u001b[1;32m    395\u001b[0m params[\u001b[39m'\u001b[39m\u001b[39mid\u001b[39m\u001b[39m'\u001b[39m] \u001b[39m=\u001b[39m \u001b[39mself\u001b[39m\u001b[39m.\u001b[39m_id\n\u001b[0;32m--> 396\u001b[0m \u001b[39mreturn\u001b[39;00m \u001b[39mself\u001b[39;49m\u001b[39m.\u001b[39;49m_parent\u001b[39m.\u001b[39;49mexecute(command, params)\n",
      "File \u001b[0;32m~/Documents/github/python101/python101/venv/lib/python3.8/site-packages/selenium/webdriver/remote/webdriver.py:428\u001b[0m, in \u001b[0;36mWebDriver.execute\u001b[0;34m(self, driver_command, params)\u001b[0m\n\u001b[1;32m    426\u001b[0m response \u001b[39m=\u001b[39m \u001b[39mself\u001b[39m\u001b[39m.\u001b[39mcommand_executor\u001b[39m.\u001b[39mexecute(driver_command, params)\n\u001b[1;32m    427\u001b[0m \u001b[39mif\u001b[39;00m response:\n\u001b[0;32m--> 428\u001b[0m     \u001b[39mself\u001b[39;49m\u001b[39m.\u001b[39;49merror_handler\u001b[39m.\u001b[39;49mcheck_response(response)\n\u001b[1;32m    429\u001b[0m     response[\u001b[39m'\u001b[39m\u001b[39mvalue\u001b[39m\u001b[39m'\u001b[39m] \u001b[39m=\u001b[39m \u001b[39mself\u001b[39m\u001b[39m.\u001b[39m_unwrap_value(\n\u001b[1;32m    430\u001b[0m         response\u001b[39m.\u001b[39mget(\u001b[39m'\u001b[39m\u001b[39mvalue\u001b[39m\u001b[39m'\u001b[39m, \u001b[39mNone\u001b[39;00m))\n\u001b[1;32m    431\u001b[0m     \u001b[39mreturn\u001b[39;00m response\n",
      "File \u001b[0;32m~/Documents/github/python101/python101/venv/lib/python3.8/site-packages/selenium/webdriver/remote/errorhandler.py:243\u001b[0m, in \u001b[0;36mErrorHandler.check_response\u001b[0;34m(self, response)\u001b[0m\n\u001b[1;32m    241\u001b[0m         alert_text \u001b[39m=\u001b[39m value[\u001b[39m'\u001b[39m\u001b[39malert\u001b[39m\u001b[39m'\u001b[39m]\u001b[39m.\u001b[39mget(\u001b[39m'\u001b[39m\u001b[39mtext\u001b[39m\u001b[39m'\u001b[39m)\n\u001b[1;32m    242\u001b[0m     \u001b[39mraise\u001b[39;00m exception_class(message, screen, stacktrace, alert_text)  \u001b[39m# type: ignore[call-arg]  # mypy is not smart enough here\u001b[39;00m\n\u001b[0;32m--> 243\u001b[0m \u001b[39mraise\u001b[39;00m exception_class(message, screen, stacktrace)\n",
      "\u001b[0;31mInvalidSessionIdException\u001b[0m: Message: invalid session id\nStacktrace:\n0   chromedriver                        0x000000010db20149 chromedriver + 4469065\n1   chromedriver                        0x000000010daaa233 chromedriver + 3985971\n2   chromedriver                        0x000000010d740eab chromedriver + 409259\n3   chromedriver                        0x000000010d76a2a4 chromedriver + 578212\n4   chromedriver                        0x000000010d794bdc chromedriver + 752604\n5   chromedriver                        0x000000010d792974 chromedriver + 743796\n6   chromedriver                        0x000000010d792217 chromedriver + 741911\n7   chromedriver                        0x000000010d71abba chromedriver + 252858\n8   chromedriver                        0x000000010daf16ad chromedriver + 4277933\n9   chromedriver                        0x000000010daf5b3a chromedriver + 4295482\n10  chromedriver                        0x000000010dafacdf chromedriver + 4316383\n11  chromedriver                        0x000000010daf6857 chromedriver + 4298839\n12  chromedriver                        0x000000010dacf64f chromedriver + 4138575\n13  chromedriver                        0x000000010d719c7e chromedriver + 248958\n14  libdyld.dylib                       0x00007fff20418f3d start + 1\n"
     ]
    }
   ],
   "source": [
    "# Function to extract product info from the product\n",
    "def get_product_info_single(product_item):\n",
    "\n",
    "\n",
    "    info = {'name':'',\n",
    "            'price':'',\n",
    "            'product_url':'',\n",
    "            'image':''}   \n",
    "\n",
    "    info['name'] = product_item.find_element(By.CLASS_NAME, 'name').text\n",
    "    info['price'] = product_item.find_element(By.CLASS_NAME, 'price-discount__price').text\n",
    "    info['product_url'] = product_item.get_attribute('href')\n",
    "    try: \n",
    "        info['image'] = product_item.find_element(By.CLASS_NAME, 'image-wrapper').find_element(By.TAG_NAME, 'img').get_attribute('src')\n",
    "    except Exception:\n",
    "        print('Cannot get this element') \n",
    "    return info\n",
    "\n",
    "get_product_info_single(product_item)"
   ]
  },
  {
   "cell_type": "code",
   "execution_count": 104,
   "metadata": {},
   "outputs": [
    {
     "ename": "AttributeError",
     "evalue": "'NoneType' object has no attribute 'get'",
     "output_type": "error",
     "traceback": [
      "\u001b[0;31m---------------------------------------------------------------------------\u001b[0m",
      "\u001b[0;31mAttributeError\u001b[0m                            Traceback (most recent call last)",
      "\u001b[1;32m/Users/trang/Documents/github/python101/python101/test.ipynb Cell 10\u001b[0m in \u001b[0;36m<cell line: 26>\u001b[0;34m()\u001b[0m\n\u001b[1;32m     <a href='vscode-notebook-cell:/Users/trang/Documents/github/python101/python101/test.ipynb#ch0000015?line=21'>22</a>\u001b[0m     \u001b[39mreturn\u001b[39;00m data\n\u001b[1;32m     <a href='vscode-notebook-cell:/Users/trang/Documents/github/python101/python101/test.ipynb#ch0000015?line=24'>25</a>\u001b[0m page_url \u001b[39m=\u001b[39m \u001b[39m'\u001b[39m\u001b[39mhttps://tiki.vn/dien-thoai-may-tinh-bang/c1789\u001b[39m\u001b[39m'\u001b[39m\n\u001b[0;32m---> <a href='vscode-notebook-cell:/Users/trang/Documents/github/python101/python101/test.ipynb#ch0000015?line=25'>26</a>\u001b[0m get_product_info_from_page(page_url)\n",
      "\u001b[1;32m/Users/trang/Documents/github/python101/python101/test.ipynb Cell 10\u001b[0m in \u001b[0;36mget_product_info_from_page\u001b[0;34m(page_url)\u001b[0m\n\u001b[1;32m      <a href='vscode-notebook-cell:/Users/trang/Documents/github/python101/python101/test.ipynb#ch0000015?line=5'>6</a>\u001b[0m data \u001b[39m=\u001b[39m []   \n\u001b[1;32m      <a href='vscode-notebook-cell:/Users/trang/Documents/github/python101/python101/test.ipynb#ch0000015?line=6'>7</a>\u001b[0m  \u001b[39m# Use the driver to get info from the product page        \u001b[39;00m\n\u001b[0;32m----> <a href='vscode-notebook-cell:/Users/trang/Documents/github/python101/python101/test.ipynb#ch0000015?line=7'>8</a>\u001b[0m DRIVER\u001b[39m.\u001b[39;49mget(page_url)               \n\u001b[1;32m      <a href='vscode-notebook-cell:/Users/trang/Documents/github/python101/python101/test.ipynb#ch0000015?line=8'>9</a>\u001b[0m  \u001b[39m# Sleep AFTER loading website in order to wait for it to finish\u001b[39;00m\n\u001b[1;32m     <a href='vscode-notebook-cell:/Users/trang/Documents/github/python101/python101/test.ipynb#ch0000015?line=9'>10</a>\u001b[0m time\u001b[39m.\u001b[39msleep(\u001b[39m3\u001b[39m)    \n",
      "\u001b[0;31mAttributeError\u001b[0m: 'NoneType' object has no attribute 'get'"
     ]
    }
   ],
   "source": [
    "# Function to scrape all products from a page\n",
    "def get_product_info_from_page(page_url):\n",
    "    global DRIVER\n",
    "\n",
    "     # Store the info dictionary of each product in this list\n",
    "    data = []   \n",
    "     # Use the driver to get info from the product page        \n",
    "    DRIVER.get(page_url)               \n",
    "     # Sleep AFTER loading website in order to wait for it to finish\n",
    "    time.sleep(3)    \n",
    "    #  # Get a list of product elements.   \n",
    "    product_elements = DRIVER.find_elements(By.CLASS_NAME, 'product-item')\n",
    "    #Print number of products found if desired.\n",
    "    print(len(product_elements)) \n",
    "   # Loop through list of product elements, read and add each product info into `data`\n",
    "    for product_item in product_elements:\n",
    "        data.append(get_product_info_single(product_item))\n",
    "       \n",
    "                \n",
    "    return data\n",
    "     \n",
    "\n",
    "page_url = 'https://tiki.vn/dien-thoai-may-tinh-bang/c1789'\n",
    "get_product_info_from_page(page_url)  \n",
    "  "
   ]
  },
  {
   "cell_type": "code",
   "execution_count": 97,
   "metadata": {},
   "outputs": [],
   "source": [
    "MAIN_CATEGORIES = [\n",
    "    {'Name': 'Đồ Chơi - Mẹ &amp; Bé',            'URL': 'https://tiki.vn/do-choi-me-be/c2549'},\n",
    "    {'Name': 'Điện Thoại - Máy Tính Bảng',       'URL': 'https://tiki.vn/dien-thoai-may-tinh-bang/c1789'},\n",
    "    {'Name': 'Làm Đẹp - Sức Khỏe',               'URL': 'https://tiki.vn/lam-dep-suc-khoe/c1520'},\n",
    "    {'Name': 'Điện Gia Dụng',                    'URL': 'https://tiki.vn/dien-gia-dung/c1882'},\n",
    "    {'Name': 'Thời trang nữ',                    'URL': 'https://tiki.vn/thoi-trang-nu/c931'},\n",
    "    {'Name': 'Thời trang nam',                   'URL': 'https://tiki.vn/thoi-trang-nam/c915'},\n",
    "    {'Name': 'Giày - Dép nữ',                    'URL': 'https://tiki.vn/giay-dep-nu/c1703'},\n",
    "    {'Name': 'Giày - Dép nam',                   'URL': 'https://tiki.vn/giay-dep-nam/c1686'},\n",
    "    {'Name': 'Túi thời trang nữ',                'URL': 'https://tiki.vn/tui-vi-nu/c976'},\n",
    "    {'Name': 'Túi thời trang nam',               'URL': 'https://tiki.vn/tui-thoi-trang-nam/c27616'},\n",
    "    {'Name': 'Balo và Vali',                     'URL': 'https://tiki.vn/balo-va-vali/c6000'},\n",
    "    {'Name': 'Phụ kiện thời trang',              'URL': 'https://tiki.vn/phu-kien-thoi-trang/c27498'},\n",
    "    {'Name': 'Đồng hồ và Trang sức',             'URL': 'https://tiki.vn/dong-ho-va-trang-suc/c8371'},\n",
    "    {'Name': 'Laptop - Máy Vi Tính - Linh kiện', 'URL': 'https://tiki.vn/laptop-may-vi-tinh-linh-kien/c1846'},\n",
    "    {'Name': 'Nhà Cửa - Đời Sống',               'URL': 'https://tiki.vn/nha-cua-doi-song/c1883'},\n",
    "    {'Name': 'Bách Hóa Online',                  'URL': 'https://tiki.vn/bach-hoa-online/c4384'},\n",
    "    {'Name': 'Hàng Quốc Tế',                     'URL': 'https://tiki.vn/hang-quoc-te/c17166'},\n",
    "    {'Name': 'Thiết Bị Số - Phụ Kiện Số',        'URL': 'https://tiki.vn/thiet-bi-kts-phu-kien-so/c1815'},\n",
    "    {'Name': 'Voucher - Dịch vụ',                'URL': 'https://tiki.vn/voucher-dich-vu/c11312'},\n",
    "    {'Name': 'Ô Tô - Xe Máy - Xe Đạp',           'URL': 'https://tiki.vn/o-to-xe-may-xe-dap/c8594'},\n",
    "    {'Name': 'Nhà Sách Tiki',                    'URL': 'https://tiki.vn/nha-sach-tiki/c8322'},\n",
    "    {'Name': 'Điện Tử - Điện Lạnh',              'URL': 'https://tiki.vn/dien-tu-dien-lanh/c4221'},\n",
    "    {'Name': 'Thể Thao - Dã Ngoại',              'URL': 'https://tiki.vn/the-thao-da-ngoai/c1975'},\n",
    "    {'Name': 'Máy Ảnh - Máy Quay Phim',          'URL': 'https://tiki.vn/may-anh/c1801'}\n",
    "]"
   ]
  },
  {
   "cell_type": "code",
   "execution_count": 99,
   "metadata": {},
   "outputs": [
    {
     "name": "stdout",
     "output_type": "stream",
     "text": [
      "Scraping Điện Thoại - Máy Tính Bảng\n",
      "Link: https://tiki.vn/dien-thoai-may-tinh-bang/c1789\n"
     ]
    }
   ],
   "source": [
    "cat_idx  = 1 # Pick any category you like by changing the index\n",
    "main_cat = MAIN_CATEGORIES[cat_idx]\n",
    "\n",
    "start_driver(force_restart=True)\n",
    "print('Scraping', main_cat['Name'])\n",
    "print('Link:', main_cat['URL'])\n",
    "\n",
    "prod_data = [] # STORE YOUR PRODUCT INFO DICTIONARIES IN HERE\n",
    "\n",
    "##################################\n",
    "### YOUR CODE HERE TO GET DATA ###\n",
    "##################################\n",
    "\n",
    "close_driver() # Close driver when we're done"
   ]
  },
  {
   "cell_type": "code",
   "execution_count": null,
   "metadata": {},
   "outputs": [],
   "source": [
    "    \"\"\" \n",
    "    Extract info from a single product element from the driver.\n",
    "    Args:\n",
    "        product_item: (WebDriverElement) the product whose info needs to be \n",
    "                      extracted.\n",
    "    Returns:\n",
    "        info: (dict) a dictionary of info of the product. Every product\n",
    "              should at least have four pieces of information: name, price,\n",
    "              link to the product page, and link to the product image.\n",
    "    \"\"\"\n",
    "    info = {'name':'',\n",
    "            'price':'',\n",
    "            'product_url':'',\n",
    "            'image':'',\n",
    "            'sales':'',\n",
    "            'rating':'',\n",
    "            'discount':'',\n",
    "            'tikinow':'',\n",
    "            'freeship':'',\n",
    "            'official':'',\n",
    "            'trusted':'',\n",
    "            'under_price':'',\n",
    "            'installment':'',\n",
    "            'gift':''}"
   ]
  }
 ],
 "metadata": {
  "kernelspec": {
   "display_name": "Python 3.10.7 64-bit",
   "language": "python",
   "name": "python3"
  },
  "language_info": {
   "codemirror_mode": {
    "name": "ipython",
    "version": 3
   },
   "file_extension": ".py",
   "mimetype": "text/x-python",
   "name": "python",
   "nbconvert_exporter": "python",
   "pygments_lexer": "ipython3",
   "version": "3.10.7"
  },
  "orig_nbformat": 4,
  "vscode": {
   "interpreter": {
    "hash": "d623b9fff8078de0876853c29573a4030e6e93105518608febd6bbf89a4f39fa"
   }
  }
 },
 "nbformat": 4,
 "nbformat_minor": 2
}
