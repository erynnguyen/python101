{
 "cells": [
  {
   "cell_type": "markdown",
   "metadata": {},
   "source": [
    "# STRING MANIPULATION"
   ]
  },
  {
   "cell_type": "code",
   "execution_count": 1,
   "metadata": {},
   "outputs": [
    {
     "name": "stdout",
     "output_type": "stream",
     "text": [
      "$I supposed that coming from MTV Films I should expect no less$\n",
      "$i supposed that coming from mtv films i should expect no less\n",
      "i supposed that coming from mtv films i should expect no less$\n",
      "['the film', 'however', 'is all good']\n",
      "the film+however+is all good\n",
      "mtv films election, a high school comedy, is a current example\n",
      "from there, director steven spielberg wastes no time, taking us into the water on a midnight swim\n",
      "['mtv films election, a high school comedy, is a current example', 'from there, director steven spielberg wastes no time, taking us into the water on a midnight swim']\n"
     ]
    }
   ],
   "source": [
    "#lowercase\n",
    "movie = '$I supposed that coming from MTV Films I should expect no less$'\n",
    "print(movie)\n",
    "movie_lower = movie.lower()\n",
    "movie_lower.islower()\n",
    "#upercase\n",
    "movie_upper = movie.upper()\n",
    "movie_upper.isupper()\n",
    "\n",
    "#Remove specified character\n",
    "movie_no_sign = movie_lower.strip('$')\n",
    "movie_strip_right = movie_lower.rstrip('$')\n",
    "movie_strip_left = movie_lower.lstrip('$')\n",
    "print(movie_strip_right)\n",
    "print(movie_strip_left)\n",
    "\n",
    "# Split the string into substrings\n",
    "movie_split = movie_no_sign.split()\n",
    "\n",
    "movie_tag = 'the film,however,is all good'\n",
    "movie_no_comma = movie_tag.split(\",\")\n",
    "print(movie_no_comma)\n",
    "\n",
    "# Join back together\n",
    "movie_join = '+'.join(movie_no_comma)\n",
    "print(movie_join)\n",
    "\n",
    "file = \"\"\"mtv films election, a high school comedy, is a current example\n",
    "from there, director steven spielberg wastes no time, taking us into the water on a midnight swim\"\"\"\n",
    "# Split string at line boundaries\n",
    "print(file)\n",
    "file_split = file.splitlines()\n",
    "print(file_split)"
   ]
  },
  {
   "cell_type": "markdown",
   "metadata": {},
   "source": [
    "# LIST"
   ]
  },
  {
   "cell_type": "code",
   "execution_count": null,
   "metadata": {},
   "outputs": [],
   "source": []
  },
  {
   "cell_type": "markdown",
   "metadata": {},
   "source": [
    "# TUPLE"
   ]
  },
  {
   "cell_type": "code",
   "execution_count": null,
   "metadata": {},
   "outputs": [],
   "source": []
  },
  {
   "cell_type": "markdown",
   "metadata": {},
   "source": [
    "# DICTIONARY"
   ]
  },
  {
   "cell_type": "code",
   "execution_count": null,
   "metadata": {},
   "outputs": [],
   "source": []
  },
  {
   "cell_type": "markdown",
   "metadata": {},
   "source": [
    "# REGEX"
   ]
  },
  {
   "cell_type": "code",
   "execution_count": 2,
   "metadata": {},
   "outputs": [
    {
     "data": {
      "text/plain": [
       "['pop', 'pop']"
      ]
     },
     "execution_count": 2,
     "metadata": {},
     "output_type": "execute_result"
    }
   ],
   "source": [
    "import re\n",
    "\n",
    "pattern = r'cookie'\n",
    "string = 'In this cookie store we sell cookie'\n",
    "\n",
    "# Scan through string looking for the first matched location \n",
    "match_obj = re.search(pattern, string)\n",
    "\n",
    "# from the match object returns the matched part\n",
    "match_obj.group()\n",
    "\n",
    "# returns a tuple containing the start and end positions of the match\n",
    "match_obj.span()\n",
    "\n",
    "# return multiple matches\n",
    "pattern = r'pop'\n",
    "string = 'In this popop store we sell pop' # overlapping match\n",
    "match_obj = re.findall(pattern, string)\n",
    "match_obj"
   ]
  },
  {
   "cell_type": "code",
   "execution_count": 3,
   "metadata": {},
   "outputs": [
    {
     "data": {
      "text/plain": [
       "'091'"
      ]
     },
     "execution_count": 3,
     "metadata": {},
     "output_type": "execute_result"
    }
   ],
   "source": [
    "# use parenthesis () to extract a sub-match (group) of a whole match\n",
    "pattern = r'(091)(2345678)'\n",
    "#tách thành 2 cụm và được đánh số thứ tự từ 1\n",
    "string = 'Always Be Learning at 0912345678'\n",
    "\n",
    "match_obj = re.search(pattern, string)\n",
    "match_obj.group()\n",
    "\n",
    "match_obj.group(1) # index start from 1\n",
    "\n",
    "match_obj.group(2) # index start from 2\n",
    "\n",
    "match_obj.groups()\n",
    "#vs groups có 's' thì trả về thành tuple và các cụm được coi là index của tuple từ 0\n",
    "match_obj.groups()[0]"
   ]
  },
  {
   "cell_type": "code",
   "execution_count": 4,
   "metadata": {},
   "outputs": [
    {
     "data": {
      "text/plain": [
       "'Always Be Learning at CoderX'"
      ]
     },
     "execution_count": 4,
     "metadata": {},
     "output_type": "execute_result"
    }
   ],
   "source": [
    "# replace the leftmost non-overlapping occurrences of pattern in string\n",
    "pattern = r'Learning'\n",
    "string = 'Always Be Learning at CoderSchool'\n",
    "\n",
    "result = re.sub(pattern, r'********', string)\n",
    "result\n",
    "\n",
    "# keep the sub-match using literal string: \\position\n",
    "pattern = r'(Coder)(School)'\n",
    "string = 'Always Be Learning at CoderSchool'\n",
    "\n",
    "result = re.sub(pattern, r'\\2\\1', string)\n",
    "result\n",
    "\n",
    "pattern = r'(Coder)(School)'\n",
    "string = 'Always Be Learning at CoderSchool'\n",
    "\n",
    "result = re.sub(pattern, r'\\1X', string)\n",
    "result"
   ]
  },
  {
   "cell_type": "markdown",
   "metadata": {},
   "source": [
    "## 📝 WILDCARD CHARACTERS\n",
    "The following table lists a few of these characters that are commonly useful:\n",
    "\n",
    "|Character classes||Quantifiers & Alternation||\n",
    "|--- |--- |--- |--- |\n",
    "|.|any character except newline|a* a+ a?|0 or more a / 1 or more a / 0 or 1 a|\n",
    "|\\w \\d \\s|word / digit / whitespace|a{5} a{2,}|exactly five, two or more|\n",
    "|\\W \\D \\S|not word / not digit / not whitespace|a{1,3}|between one & three|\n",
    "|[abc]|any of a, b, or c|a+? a{2,}?|match as few as possible (non-greedy)|\n",
    "|[^abc]|not a, b, or c|(cat\\|dog)|match 'cat' or 'dog'|\n",
    "|[a-g]|character between a & g|||\n",
    "|**Anchors**||**Escaped characters**||\n",
    "|^abc$|start / end of the string|\\. \\* \\\\|\\ is used to escape special chars. \\* matches *|\n",
    "|\\b|word boundary|\\t \\n \\r|tab, linefeed, carriage return|\n",
    "\n",
    "\n",
    "**Note**: \\w (word character) matches any **single letter**, **number** or **underscore** (same as [a-zA-Z0-9_] )\n",
    "\n",
    "\n",
    "| Character | Description | Example |\n",
    "|------------|-----------|------------|\n",
    "| ? | Match zero or one repetitions of preceding |  \"ab?\" matches \"a\" or \"ab\" |\n",
    "| * | Match zero or more repetitions of preceding | \"ab*\" matches \"a\", \"ab\", \"abb\", \"abbb\"... |\n",
    "| + | Match one or more repetitions of preceding |  \"ab+\" matches \"ab\", \"abb\", \"abbb\"... but not \"a\" |\n",
    "| {n} | Match n repetitions of preceding | \"ab{2}\" matches \"abb\" |\n",
    "| {m,n} | Match between m and n repetitions of preceding |  \"ab{2,3}\" matches \"abb\" or \"abbb\" |\n",
    "\n"
   ]
  },
  {
   "cell_type": "code",
   "execution_count": 5,
   "metadata": {},
   "outputs": [
    {
     "name": "stdout",
     "output_type": "stream",
     "text": [
      "['This is my phone number 2816837760.\\n', 'I am at 123 Main street, NY 10010, phone number is 2816837760, but I have an alternative: 2811234567.\\n', 'This is another phone format: 281-683-7760.\\n']\n",
      "['This is my phone number 2816837760.', 'I am at 123 Main street, NY 10010, phone number is 2816837760, but I have an alternative: 2811234567.', 'This is another phone format: 281-683-7760.']\n"
     ]
    }
   ],
   "source": [
    "# download a file\n",
    "import wget\n",
    "\n",
    "#wget.download(\"https://raw.githubusercontent.com/anhquan0412/dataset/main/sample_text.txt\") \n",
    "\n",
    "# read a text file line by line\n",
    "# f.readlines\n",
    "with open('sample_text.txt') as f:\n",
    "    sequences = f.readlines()\n",
    "\n",
    "print(sequences)\n",
    "\n",
    "# strip the new line character\n",
    "for i in range(len(sequences)):\n",
    "    sequences[i]= sequences[i].strip()\n",
    "\n",
    "print(sequences)"
   ]
  },
  {
   "cell_type": "code",
   "execution_count": 6,
   "metadata": {},
   "outputs": [],
   "source": [
    "# check pattern matches string: True/False\n",
    "def text_match_1(text):\n",
    " \n",
    "  pattern = r'a.*b$' # ab acb\n",
    "  if re.search(pattern, text):\n",
    "    return True\n",
    "  else:\n",
    "    return False"
   ]
  },
  {
   "cell_type": "markdown",
   "metadata": {},
   "source": [
    "# WEB SCRAPING"
   ]
  },
  {
   "cell_type": "code",
   "execution_count": 7,
   "metadata": {},
   "outputs": [],
   "source": [
    "from selenium import webdriver\n",
    "from selenium.webdriver.common.by import By\n",
    "from selenium.webdriver.common.keys import Keys"
   ]
  },
  {
   "cell_type": "code",
   "execution_count": 8,
   "metadata": {},
   "outputs": [],
   "source": [
    "# As we will have only 1 Selenium driver (think of it as 1 Chrome/Firefox window), we will make it our global variable.\n",
    "DRIVER = None"
   ]
  },
  {
   "cell_type": "code",
   "execution_count": 9,
   "metadata": {},
   "outputs": [],
   "source": [
    "# Open driver(as tab) at chrome\n",
    "def initialize_driver():\n",
    "    global DRIVER\n",
    "    if DRIVER is None:\n",
    "        print('Initiating driver...')\n",
    "        chrome_options = webdriver.ChromeOptions()\n",
    "        chrome_options.add_argument('-headless') \n",
    "        chrome_options.add_argument('-no-sandbox') \n",
    "        DRIVER = webdriver.Chrome('chromedriver',options=chrome_options)  # Create the new chrome browser with specific options\n",
    "        print('Finished!')"
   ]
  },
  {
   "cell_type": "code",
   "execution_count": 10,
   "metadata": {},
   "outputs": [],
   "source": [
    "# Close driver(as tab) at chrome\n",
    "def close_driver():\n",
    "    global DRIVER\n",
    "    if not DRIVER is None:\n",
    "        print(\"Quitting driver...\")\n",
    "        DRIVER.quit()\n",
    "        print(\"Done!\")\n",
    "\n",
    "    DRIVER = None"
   ]
  },
  {
   "cell_type": "code",
   "execution_count": 29,
   "metadata": {},
   "outputs": [],
   "source": [
    "# Make sure that any openning driver is closed, then create a new one.\n",
    "# close_driver()\n",
    "initialize_driver()"
   ]
  },
  {
   "cell_type": "code",
   "execution_count": 30,
   "metadata": {},
   "outputs": [
    {
     "data": {
      "text/plain": [
       "<selenium.webdriver.chrome.webdriver.WebDriver (session=\"72334e801197d6f3253426cd96b0860f\")>"
      ]
     },
     "execution_count": 30,
     "metadata": {},
     "output_type": "execute_result"
    }
   ],
   "source": [
    "# check DRIVER\n",
    "DRIVER"
   ]
  },
  {
   "cell_type": "code",
   "execution_count": 31,
   "metadata": {},
   "outputs": [],
   "source": [
    "# use this driver to \"read\" the website content\n",
    "DRIVER.get('https://htmlpreview.github.io/?https://github.com/anhquan0412/dataset/blob/main/simple.html')"
   ]
  },
  {
   "cell_type": "markdown",
   "metadata": {},
   "source": [
    "## Get element by TAG name"
   ]
  },
  {
   "cell_type": "code",
   "execution_count": null,
   "metadata": {},
   "outputs": [],
   "source": [
    "# Get 1 element by TAG name\n",
    "body_element = DRIVER.find_element(By.TAG_NAME, 'body')\n",
    "\n",
    "# to display the element\n",
    "print(body_element.get_attribute('outerHTML'))"
   ]
  },
  {
   "cell_type": "code",
   "execution_count": null,
   "metadata": {},
   "outputs": [],
   "source": [
    "## In case there are **many** `div` tags, `find_element` will ***only return the first*** one \n",
    "first_div = DRIVER.find_element(By.TAG_NAME, 'div')\n",
    "print(first_div.get_attribute('outerHTML'))"
   ]
  },
  {
   "cell_type": "code",
   "execution_count": null,
   "metadata": {},
   "outputs": [],
   "source": [
    "# Get all elements by TAG name\n",
    "# find_elements will return a list of ALL div tags\n",
    "div_list = DRIVER.find_elements(By.TAG_NAME, 'div')\n",
    "len(div_list)\n",
    "\n",
    "# look for element by index\n",
    "print(div_list[3].get_attribute('outerHTML'))\n",
    "\n",
    "# print all elements\n",
    "for e in DRIVER.find_elements(By.TAG_NAME, 'div'):\n",
    "    print(e.get_attribute('outerHTML'))\n",
    "    print('-'*50)"
   ]
  },
  {
   "cell_type": "code",
   "execution_count": null,
   "metadata": {},
   "outputs": [],
   "source": [
    "# find some tag that doesn't exist in your HTML\n",
    "# Return EMPTY list\n",
    "DRIVER.find_elements(By.TAG_NAME, 'Chinh')\n",
    "\n",
    "# Return ERROR\n",
    "DRIVER.find_element(By.TAG_NAME, 'Chinh')"
   ]
  },
  {
   "cell_type": "markdown",
   "metadata": {},
   "source": [
    "## Get element by CLASS name"
   ]
  },
  {
   "cell_type": "code",
   "execution_count": null,
   "metadata": {},
   "outputs": [],
   "source": [
    "section1 = DRIVER.find_element(By.CLASS_NAME, 'my_section_1')\n",
    "print(section1.get_attribute('outerHTML'))"
   ]
  },
  {
   "cell_type": "code",
   "execution_count": 42,
   "metadata": {},
   "outputs": [
    {
     "data": {
      "text/plain": [
       "'Section 1'"
      ]
     },
     "execution_count": 42,
     "metadata": {},
     "output_type": "execute_result"
    }
   ],
   "source": [
    "# .text to get content of an element\n",
    "h1_element = section1.find_element(By.TAG_NAME, 'h1')\n",
    "h1_element = DRIVER.find_elements(By.TAG_NAME, 'h1')[0]\n",
    "h1_element.text"
   ]
  },
  {
   "cell_type": "code",
   "execution_count": null,
   "metadata": {},
   "outputs": [],
   "source": [
    "# p tag\n",
    "# Solution 1\n",
    "result = section1.find_elements(By.TAG_NAME, 'p')  # Find ALL elements\n",
    "len(result)\n",
    "\n",
    "first_one = result[0].text\n",
    "print(first_one)\n",
    "\n",
    "for i in result:\n",
    "   print(i.text)\n",
    "\n",
    "# Solution 2\n",
    "result = section1.find_element(By.TAG_NAME, 'p')\n",
    "print(result.text)\n",
    "\n",
    "# solution 3\n",
    "print(section1.find_element(By.CLASS_NAME, 'test_1').text)\n",
    "#section1.find_elements_by_tag_name('p')[0].text"
   ]
  },
  {
   "cell_type": "code",
   "execution_count": 49,
   "metadata": {},
   "outputs": [
    {
     "data": {
      "text/plain": [
       "'Even more text'"
      ]
     },
     "execution_count": 49,
     "metadata": {},
     "output_type": "execute_result"
    }
   ],
   "source": [
    "# find unique value attribute\n",
    "DRIVER.find_element(By.CLASS_NAME, 'test_1').text\n",
    "\n",
    "section1.find_element(By.TAG_NAME, 'div')\n",
    "\n",
    "section1.find_element(By.TAG_NAME, 'div').text\n",
    "\n",
    "section1.find_elements(By.TAG_NAME, 'p')[-1].text"
   ]
  },
  {
   "cell_type": "code",
   "execution_count": 51,
   "metadata": {},
   "outputs": [
    {
     "name": "stdout",
     "output_type": "stream",
     "text": [
      "This is an \"a\" tag\n",
      "This is an \"a\" tag\n"
     ]
    }
   ],
   "source": [
    "# a tag\n",
    "section1.find_element(By.TAG_NAME, 'a').text\n",
    "\n",
    "print(section1.find_element(By.CLASS_NAME, 'test_2').text)\n",
    "print(section1.find_element(By.CLASS_NAME, 'another_test_2').text)"
   ]
  },
  {
   "cell_type": "code",
   "execution_count": null,
   "metadata": {},
   "outputs": [],
   "source": [
    "# get attribute value in a tag\n",
    "a_element = section1.find_element(By.CLASS_NAME, 'test_2')\n",
    "print(a_element.get_attribute('outerHTML'))\n",
    "\n",
    "a_element.get_attribute('class')\n",
    "\n",
    "a_element.get_attribute('href')"
   ]
  },
  {
   "cell_type": "markdown",
   "metadata": {},
   "source": [
    "## Get products info from TIKI"
   ]
  },
  {
   "cell_type": "code",
   "execution_count": null,
   "metadata": {},
   "outputs": [],
   "source": [
    "import re\n",
    "import time\n",
    "import pandas as pd\n",
    "\n",
    "from selenium import webdriver\n",
    "from selenium.webdriver.common.by import By\n",
    "from selenium.common.exceptions import NoSuchElementException\n",
    "# Global driver to use throughout the script\n",
    "DRIVER = None\n",
    "\n",
    "# Wrapper to close driver if its created\n",
    "def close_driver():\n",
    "    global DRIVER\n",
    "    if DRIVER is not None:\n",
    "        DRIVER.close()\n",
    "    DRIVER = None\n",
    "\n",
    "# Function to (re)start driver\n",
    "def start_driver(force_restart=False):\n",
    "    global DRIVER\n",
    "    \n",
    "    if force_restart:\n",
    "        close_driver()\n",
    "    \n",
    "# Setting up the driver\n",
    "options = webdriver.ChromeOptions()\n",
    "options.add_argument('-headless') # we don't want a chrome browser opens, so it will run in the background\n",
    "options.add_argument('-no-sandbox')\n",
    "options.add_argument('-disable-dev-shm-usage')\n",
    "DRIVER = webdriver.Chrome('chromedriver',options=options)\n",
    "\n",
    "def initialize_driver():\n",
    "    global DRIVER\n",
    "    if DRIVER is None:\n",
    "        print('Initiating driver...')\n",
    "        chrome_options = webdriver.ChromeOptions()\n",
    "        chrome_options.add_argument('-headless') \n",
    "        chrome_options.add_argument('-no-sandbox') \n",
    "        DRIVER = webdriver.Chrome('chromedriver', options=chrome_options)  # Create the new chrome browser with specific options\n",
    "        print('Finished!')\n",
    "\n",
    "def close_driver():\n",
    "    global DRIVER\n",
    "    if not DRIVER is None:\n",
    "        DRIVER.quit()\n",
    "\n",
    "    DRIVER = None\n",
    "\n",
    "close_driver()\n",
    "initialize_driver()\n",
    "\n",
    "TIKI = 'https://tiki.vn'\n",
    "DRIVER.get(TIKI)\n",
    "DRIVER.current_url\n",
    "\n",
    "#Get all categories from tiki.vn\n",
    "all_categories = DRIVER.find_element(By.CLASS_NAME, 'slider')\n",
    "print(all_categories.get_attribute('outerHTML'))\n",
    "\n",
    "category_name = all_categories.find_elements(By.TAG_NAME, 'a')\n",
    "len(category_name)   \n",
    "\n",
    "category_names = all_categories.find_elements(By.TAG_NAME, 'a')\n",
    "len(category_names)  \n",
    "category_name = all_categories.find_elements(By.TAG_NAME, 'a')[0]\n",
    "#get 1 catefory name and url\n",
    "#category_name.get_attribute('outerHTML')\n",
    "name = category_name.get_attribute('innerHTML')\n",
    "print(name)\n",
    "pattern = r'>(.*)<'\n",
    "n = re.findall(pattern, name)\n",
    "print(n[0])\n",
    "category_name.get_attribute('href')\n",
    "\n",
    "# Function to get information from 1 category\n",
    "def main_category_lists(category_name): \n",
    "    category_dict = {'name':'' , 'url':''}\n",
    "    pattern = r'>(.*)<'\n",
    "    name_tag = category_name.get_attribute('innerHTML')\n",
    "    n = re.findall(pattern, name_tag)\n",
    "    category_dict['name'] = n[0]\n",
    "    category_dict['url'] = category_name.get_attribute('href')\n",
    "    return category_dict\n",
    "\n",
    "category_name = all_categories.find_elements(By.TAG_NAME, 'a')[0]\n",
    "main_category_lists(category_name)\n",
    "\n",
    "#Function to get information for all categories\n",
    "def get_main_category_list(page_url):\n",
    "    global DRIVER\n",
    "    MAIN_CATEGORIES =[]\n",
    "    DRIVER.get(page_url) \n",
    "    time.sleep(3)\n",
    "    category_names = DRIVER.find_element(By.CLASS_NAME, 'slider').find_elements(By.TAG_NAME, 'a')\n",
    "    for category_name in category_names:\n",
    "        MAIN_CATEGORIES.append(main_category_lists(category_name))\n",
    "    return MAIN_CATEGORIES\n",
    "\n",
    "page_url = 'https://tiki.vn'\n",
    "get_main_category_list(page_url)\n",
    "\n",
    "MAIN_CATEGORIES = get_main_category_list(page_url)\n",
    "print(MAIN_CATEGORIES)\n",
    "\n",
    "DRIVER.get(MAIN_CATEGORIES[3]['url'])\n",
    "DRIVER.current_url\n",
    "\n",
    "# Function to extract product info from the product\n",
    "def get_product_info_single(product_item):\n",
    "    info = {'name':'',\n",
    "            'price':'',\n",
    "            'product_url':'',\n",
    "            'image':''}\n",
    "    product_name_tag = product_item.find_element(By.CLASS_NAME, 'name').get_attribute('innerHTML')\n",
    "    pattern1 = r'>(.*)<'\n",
    "    product_name = re.findall(pattern1, product_name_tag)\n",
    "    try:\n",
    "        info['name'] = product_name[0]\n",
    "          \n",
    "        # get price\n",
    "        info['price'] = product_item.find_element(By.CLASS_NAME, 'price-discount__price').get_attribute('innerHTML')\n",
    "        \n",
    "        # get product link\n",
    "        info['product_url'] = product_item.get_attribute('href')\n",
    "\n",
    "        # get thumbnail url\n",
    "        info['image'] = product_item.find_element(By.CLASS_NAME, 'image-wrapper').find_element(By.TAG_NAME, 'img').get_attribute('src')\n",
    "         \n",
    "    except Exception:\n",
    "        pass\n",
    "\n",
    "    return info\n",
    "\n",
    "product_item = DRIVER.find_elements(By.CLASS_NAME, 'product-item')[35]\n",
    "get_product_info_single(product_item)\n",
    "\n",
    "# Function to scrape all products from a page\n",
    "def get_product_info_from_page(page_url):\n",
    "    global DRIVER\n",
    "\n",
    "    # YOUR CODE HERE\n",
    "\n",
    "    data = []            # Store the info dictionary of each product in this list\n",
    "    DRIVER.get(page_url)                     # Use the driver to get info from the product page\n",
    "    \n",
    "    time.sleep(3)        # Sleep AFTER loading website in order to wait for it to finish\n",
    "\n",
    "    product_elements = DRIVER.find_elements(By.CLASS_NAME, 'product-item') # Get a list of product elements. Print number of products found if desired.\n",
    "    print(len(product_elements))\n",
    "    # Loop through list of product elements, read and add each product info into `data`\n",
    "    for product_item in product_elements:\n",
    "       data.append(get_product_info_single(product_item))\n",
    "                \n",
    "    return data\n",
    "     \n",
    "\n",
    "page_url = MAIN_CATEGORIES[2]['url']\n",
    "get_product_info_from_page(page_url) \n",
    "\n",
    "cat_idx  = 2 # Pick any category you like by changing the index\n",
    "main_cat = MAIN_CATEGORIES[cat_idx]\n",
    "\n",
    "start_driver(force_restart=True)\n",
    "print('Scraping', main_cat['name'])\n",
    "print('Link:', main_cat['url'])\n",
    "initialize_driver()\n",
    "prod_data = [] # STORE YOUR PRODUCT INFO DICTIONARIES IN HERE\n",
    "\n",
    "DRIVER.get(main_cat['url'])\n",
    "time.sleep(3)\n",
    "product_list_info = DRIVER.find_elements(By.CLASS_NAME, 'product-item')\n",
    "prod_data = get_product_info_from_page(page_url)\n",
    "\n",
    "\n",
    "close_driver() # Close driver when we're done\n",
    "\n",
    "# SAVE DATA TO CSV FILE\n",
    "df = pd.DataFrame(data=prod_data, columns=prod_data[0].keys())\n",
    "df.to_csv('tiki_products.csv')\n",
    "\n",
    "n_products_to_view = 10 # Change this as you like to check more products\n",
    "df.head(n_products_to_view)\n",
    "\n",
    "# Overview of the table\n",
    "df.info()"
   ]
  }
 ],
 "metadata": {
  "kernelspec": {
   "display_name": "Python 3.8.2 ('venv': venv)",
   "language": "python",
   "name": "python3"
  },
  "language_info": {
   "codemirror_mode": {
    "name": "ipython",
    "version": 3
   },
   "file_extension": ".py",
   "mimetype": "text/x-python",
   "name": "python",
   "nbconvert_exporter": "python",
   "pygments_lexer": "ipython3",
   "version": "3.8.2"
  },
  "orig_nbformat": 4,
  "vscode": {
   "interpreter": {
    "hash": "7f0f0a5bda54a88f8eafd9259a42c924127259bb15ff958c7c019fa136360609"
   }
  }
 },
 "nbformat": 4,
 "nbformat_minor": 2
}
