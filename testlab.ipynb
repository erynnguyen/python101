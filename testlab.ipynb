{
 "cells": [
  {
   "cell_type": "code",
   "execution_count": 1,
   "metadata": {},
   "outputs": [],
   "source": [
    "import re\n",
    "import time\n",
    "import pandas as pd\n",
    "\n",
    "from selenium import webdriver\n",
    "from selenium.webdriver.common.by import By\n",
    "from selenium.common.exceptions import NoSuchElementException"
   ]
  },
  {
   "cell_type": "code",
   "execution_count": 2,
   "metadata": {},
   "outputs": [],
   "source": [
    "# Global driver to use throughout the script\n",
    "DRIVER = None\n",
    "\n",
    "# Wrapper to close driver if its created\n",
    "def close_driver():\n",
    "    global DRIVER\n",
    "    if DRIVER is not None:\n",
    "        DRIVER.close()\n",
    "    DRIVER = None\n",
    "\n",
    "# Function to (re)start driver\n",
    "def start_driver(force_restart=False):\n",
    "    global DRIVER\n",
    "    \n",
    "    if force_restart:\n",
    "        close_driver()\n",
    "    \n",
    "# Setting up the driver\n",
    "options = webdriver.ChromeOptions()\n",
    "options.add_argument('-headless') # we don't want a chrome browser opens, so it will run in the background\n",
    "options.add_argument('-no-sandbox')\n",
    "options.add_argument('-disable-dev-shm-usage')\n",
    "DRIVER = webdriver.Chrome('chromedriver',options=options)"
   ]
  },
  {
   "cell_type": "code",
   "execution_count": 3,
   "metadata": {},
   "outputs": [],
   "source": [
    "def initialize_driver():\n",
    "    global DRIVER\n",
    "    if DRIVER is None:\n",
    "        print('Initiating driver...')\n",
    "        chrome_options = webdriver.ChromeOptions()\n",
    "        chrome_options.add_argument('-headless') \n",
    "        chrome_options.add_argument('-no-sandbox') \n",
    "        DRIVER = webdriver.Chrome('chromedriver', options=chrome_options)  # Create the new chrome browser with specific options\n",
    "        print('Finished!')"
   ]
  },
  {
   "cell_type": "code",
   "execution_count": 4,
   "metadata": {},
   "outputs": [],
   "source": [
    "def close_driver():\n",
    "    global DRIVER\n",
    "    if not DRIVER is None:\n",
    "        DRIVER.quit()\n",
    "\n",
    "    DRIVER = None"
   ]
  },
  {
   "cell_type": "code",
   "execution_count": 6,
   "metadata": {},
   "outputs": [
    {
     "name": "stdout",
     "output_type": "stream",
     "text": [
      "Initiating driver...\n",
      "Finished!\n"
     ]
    }
   ],
   "source": [
    "close_driver()\n",
    "initialize_driver()"
   ]
  },
  {
   "cell_type": "code",
   "execution_count": 7,
   "metadata": {},
   "outputs": [],
   "source": [
    "TIKI = 'https://tiki.vn'\n",
    "DRIVER.get(TIKI)"
   ]
  },
  {
   "cell_type": "code",
   "execution_count": 8,
   "metadata": {},
   "outputs": [
    {
     "data": {
      "text/plain": [
       "'https://tiki.vn/'"
      ]
     },
     "execution_count": 8,
     "metadata": {},
     "output_type": "execute_result"
    }
   ],
   "source": [
    "DRIVER.current_url"
   ]
  },
  {
   "cell_type": "code",
   "execution_count": 9,
   "metadata": {},
   "outputs": [
    {
     "name": "stdout",
     "output_type": "stream",
     "text": [
      "<span class=\"slider\"><a href=\"https://tiki.vn/tikingon\"><div class=\"style__StyledCateName-sc-x9fskq-1 fVbTIP\">Thịt, Rau Củ</div></a><a href=\"https://tiki.vn/bach-hoa-online/c4384\"><div class=\"style__StyledCateName-sc-x9fskq-1 fVbTIP\">Bách Hóa</div></a><a href=\"https://tiki.vn/nha-cua-doi-song/c1883\"><div class=\"style__StyledCateName-sc-x9fskq-1 fVbTIP\">Nhà Cửa</div></a><a href=\"https://tiki.vn/dien-tu-dien-lanh/c4221\"><div class=\"style__StyledCateName-sc-x9fskq-1 fVbTIP\">Điện Tử</div></a><a href=\"https://tiki.vn/thiet-bi-kts-phu-kien-so/c1815\"><div class=\"style__StyledCateName-sc-x9fskq-1 fVbTIP\">Thiết Bị Số</div></a><a href=\"https://tiki.vn/dien-thoai-may-tinh-bang/c1789\"><div class=\"style__StyledCateName-sc-x9fskq-1 fVbTIP\">Điện Thoại</div></a><a href=\"https://tiki.vn/do-choi-me-be/c2549\"><div class=\"style__StyledCateName-sc-x9fskq-1 fVbTIP\">Mẹ &amp; Bé</div></a><a href=\"https://tiki.vn/lam-dep-suc-khoe/c1520\"><div class=\"style__StyledCateName-sc-x9fskq-1 fVbTIP\">Làm Đẹp</div></a><a href=\"https://tiki.vn/dien-gia-dung/c1882\"><div class=\"style__StyledCateName-sc-x9fskq-1 fVbTIP\">Gia Dụng</div></a><a href=\"https://tiki.vn/thoi-trang-nu/c931\"><div class=\"style__StyledCateName-sc-x9fskq-1 fVbTIP\">Thời trang nữ</div></a><a href=\"https://tiki.vn/thoi-trang-nam/c915\"><div class=\"style__StyledCateName-sc-x9fskq-1 fVbTIP\">Thời trang nam</div></a><a href=\"https://tiki.vn/giay-dep-nu/c1703\"><div class=\"style__StyledCateName-sc-x9fskq-1 fVbTIP\">Giày nữ</div></a><a href=\"https://tiki.vn/tui-vi-nu/c976\"><div class=\"style__StyledCateName-sc-x9fskq-1 fVbTIP\">Túi nữ</div></a><a href=\"https://tiki.vn/giay-dep-nam/c1686\"><div class=\"style__StyledCateName-sc-x9fskq-1 fVbTIP\">Giày nam</div></a><a href=\"https://tiki.vn/tui-thoi-trang-nam/c27616\"><div class=\"style__StyledCateName-sc-x9fskq-1 fVbTIP\">Túi nam</div></a><a href=\"https://tiki.vn/balo-va-vali/c6000\"><div class=\"style__StyledCateName-sc-x9fskq-1 fVbTIP\">Balo &amp; Vali</div></a><a href=\"https://tiki.vn/phu-kien-thoi-trang/c27498\"><div class=\"style__StyledCateName-sc-x9fskq-1 fVbTIP\">Phụ kiện</div></a><a href=\"https://tiki.vn/dong-ho-va-trang-suc/c8371\"><div class=\"style__StyledCateName-sc-x9fskq-1 fVbTIP\">Đồng hồ</div></a><a href=\"https://tiki.vn/laptop-may-vi-tinh-linh-kien/c1846\"><div class=\"style__StyledCateName-sc-x9fskq-1 fVbTIP\">Laptop</div></a><a href=\"https://tiki.vn/hang-quoc-te/c17166\"><div class=\"style__StyledCateName-sc-x9fskq-1 fVbTIP\">Quốc Tế</div></a><a href=\"https://tiki.vn/voucher-dich-vu/c11312\"><div class=\"style__StyledCateName-sc-x9fskq-1 fVbTIP\">Voucher</div></a><a href=\"https://tiki.vn/o-to-xe-may-xe-dap/c8594\"><div class=\"style__StyledCateName-sc-x9fskq-1 fVbTIP\">Xe</div></a><a href=\"https://tiki.vn/nha-sach-tiki/c8322\"><div class=\"style__StyledCateName-sc-x9fskq-1 fVbTIP\">Sách</div></a><a href=\"https://tiki.vn/the-thao-da-ngoai/c1975\"><div class=\"style__StyledCateName-sc-x9fskq-1 fVbTIP\">Thể Thao</div></a><a href=\"https://tiki.vn/may-anh/c1801\"><div class=\"style__StyledCateName-sc-x9fskq-1 fVbTIP\">Máy Ảnh</div></a></span>\n"
     ]
    }
   ],
   "source": [
    "all_categories = DRIVER.find_element(By.CLASS_NAME, 'slider')\n",
    "print(all_categories.get_attribute('outerHTML'))"
   ]
  },
  {
   "cell_type": "code",
   "execution_count": 39,
   "metadata": {},
   "outputs": [
    {
     "name": "stdout",
     "output_type": "stream",
     "text": [
      "Thịt, Rau Củ\n"
     ]
    },
    {
     "data": {
      "text/plain": [
       "'https://tiki.vn/tikingon'"
      ]
     },
     "execution_count": 39,
     "metadata": {},
     "output_type": "execute_result"
    }
   ],
   "source": [
    "all_categories_list = DRIVER.find_elements(By.CLASS_NAME, 'slider')\n",
    "category_names = all_categories.find_elements(By.TAG_NAME, 'a')\n",
    "len(category_names)  \n",
    "category_name = all_categories.find_elements(By.TAG_NAME, 'a')[0]\n",
    "\n",
    "#category_name.get_attribute('outerHTML')\n",
    "print(category_name.text)\n",
    "category_name.get_attribute('href')\n"
   ]
  },
  {
   "cell_type": "code",
   "execution_count": 67,
   "metadata": {},
   "outputs": [
    {
     "ename": "StaleElementReferenceException",
     "evalue": "Message: stale element reference: element is not attached to the page document\n  (Session info: headless chrome=105.0.5195.52)\nStacktrace:\n0   chromedriver                        0x0000000103400149 chromedriver + 4469065\n1   chromedriver                        0x000000010338a233 chromedriver + 3985971\n2   chromedriver                        0x0000000103020fe8 chromedriver + 409576\n3   chromedriver                        0x0000000103023ed7 chromedriver + 421591\n4   chromedriver                        0x0000000103023d7f chromedriver + 421247\n5   chromedriver                        0x000000010302403c chromedriver + 421948\n6   chromedriver                        0x0000000103056fb5 chromedriver + 630709\n7   chromedriver                        0x0000000103057451 chromedriver + 631889\n8   chromedriver                        0x000000010304c3f4 chromedriver + 586740\n9   chromedriver                        0x0000000103074c8d chromedriver + 752781\n10  chromedriver                        0x000000010304be35 chromedriver + 585269\n11  chromedriver                        0x0000000103074d6e chromedriver + 753006\n12  chromedriver                        0x0000000103087611 chromedriver + 828945\n13  chromedriver                        0x0000000103074b53 chromedriver + 752467\n14  chromedriver                        0x000000010304a905 chromedriver + 579845\n15  chromedriver                        0x000000010304b955 chromedriver + 584021\n16  chromedriver                        0x00000001033d16ad chromedriver + 4277933\n17  chromedriver                        0x00000001033d5b3a chromedriver + 4295482\n18  chromedriver                        0x00000001033dacdf chromedriver + 4316383\n19  chromedriver                        0x00000001033d6857 chromedriver + 4298839\n20  chromedriver                        0x00000001033af64f chromedriver + 4138575\n21  chromedriver                        0x00000001033f11f8 chromedriver + 4407800\n22  chromedriver                        0x00000001033f137f chromedriver + 4408191\n23  chromedriver                        0x0000000103407cb5 chromedriver + 4500661\n24  libsystem_pthread.dylib             0x00007fff203fd8fc _pthread_start + 224\n25  libsystem_pthread.dylib             0x00007fff203f9443 thread_start + 15\n",
     "output_type": "error",
     "traceback": [
      "\u001b[0;31m---------------------------------------------------------------------------\u001b[0m",
      "\u001b[0;31mStaleElementReferenceException\u001b[0m            Traceback (most recent call last)",
      "\u001b[1;32m/Users/trang/Documents/github/python101/python101/testlab.ipynb Cell 11\u001b[0m in \u001b[0;36m<cell line: 7>\u001b[0;34m()\u001b[0m\n\u001b[1;32m      <a href='vscode-notebook-cell:/Users/trang/Documents/github/python101/python101/testlab.ipynb#ch0000009?line=3'>4</a>\u001b[0m     category_dict[\u001b[39m'\u001b[39m\u001b[39murl\u001b[39m\u001b[39m'\u001b[39m] \u001b[39m=\u001b[39m category_name\u001b[39m.\u001b[39mget_attribute(\u001b[39m'\u001b[39m\u001b[39mhref\u001b[39m\u001b[39m'\u001b[39m)\n\u001b[1;32m      <a href='vscode-notebook-cell:/Users/trang/Documents/github/python101/python101/testlab.ipynb#ch0000009?line=4'>5</a>\u001b[0m     \u001b[39mreturn\u001b[39;00m category_dict\n\u001b[0;32m----> <a href='vscode-notebook-cell:/Users/trang/Documents/github/python101/python101/testlab.ipynb#ch0000009?line=6'>7</a>\u001b[0m category_name \u001b[39m=\u001b[39m all_categories\u001b[39m.\u001b[39;49mfind_elements(By\u001b[39m.\u001b[39;49mTAG_NAME, \u001b[39m'\u001b[39;49m\u001b[39ma\u001b[39;49m\u001b[39m'\u001b[39;49m)[\u001b[39m0\u001b[39m]\n\u001b[1;32m      <a href='vscode-notebook-cell:/Users/trang/Documents/github/python101/python101/testlab.ipynb#ch0000009?line=7'>8</a>\u001b[0m main_category_lists(category_name)\n",
      "File \u001b[0;32m~/Documents/github/python101/python101/venv/lib/python3.8/site-packages/selenium/webdriver/remote/webelement.py:443\u001b[0m, in \u001b[0;36mWebElement.find_elements\u001b[0;34m(self, by, value)\u001b[0m\n\u001b[1;32m    440\u001b[0m     by \u001b[39m=\u001b[39m By\u001b[39m.\u001b[39mCSS_SELECTOR\n\u001b[1;32m    441\u001b[0m     value \u001b[39m=\u001b[39m \u001b[39m'\u001b[39m\u001b[39m[name=\u001b[39m\u001b[39m\"\u001b[39m\u001b[39m%s\u001b[39;00m\u001b[39m\"\u001b[39m\u001b[39m]\u001b[39m\u001b[39m'\u001b[39m \u001b[39m%\u001b[39m value\n\u001b[0;32m--> 443\u001b[0m \u001b[39mreturn\u001b[39;00m \u001b[39mself\u001b[39;49m\u001b[39m.\u001b[39;49m_execute(Command\u001b[39m.\u001b[39;49mFIND_CHILD_ELEMENTS,\n\u001b[1;32m    444\u001b[0m                      {\u001b[39m\"\u001b[39;49m\u001b[39musing\u001b[39;49m\u001b[39m\"\u001b[39;49m: by, \u001b[39m\"\u001b[39;49m\u001b[39mvalue\u001b[39;49m\u001b[39m\"\u001b[39;49m: value})[\u001b[39m'\u001b[39m\u001b[39mvalue\u001b[39m\u001b[39m'\u001b[39m]\n",
      "File \u001b[0;32m~/Documents/github/python101/python101/venv/lib/python3.8/site-packages/selenium/webdriver/remote/webelement.py:396\u001b[0m, in \u001b[0;36mWebElement._execute\u001b[0;34m(self, command, params)\u001b[0m\n\u001b[1;32m    394\u001b[0m     params \u001b[39m=\u001b[39m {}\n\u001b[1;32m    395\u001b[0m params[\u001b[39m'\u001b[39m\u001b[39mid\u001b[39m\u001b[39m'\u001b[39m] \u001b[39m=\u001b[39m \u001b[39mself\u001b[39m\u001b[39m.\u001b[39m_id\n\u001b[0;32m--> 396\u001b[0m \u001b[39mreturn\u001b[39;00m \u001b[39mself\u001b[39;49m\u001b[39m.\u001b[39;49m_parent\u001b[39m.\u001b[39;49mexecute(command, params)\n",
      "File \u001b[0;32m~/Documents/github/python101/python101/venv/lib/python3.8/site-packages/selenium/webdriver/remote/webdriver.py:428\u001b[0m, in \u001b[0;36mWebDriver.execute\u001b[0;34m(self, driver_command, params)\u001b[0m\n\u001b[1;32m    426\u001b[0m response \u001b[39m=\u001b[39m \u001b[39mself\u001b[39m\u001b[39m.\u001b[39mcommand_executor\u001b[39m.\u001b[39mexecute(driver_command, params)\n\u001b[1;32m    427\u001b[0m \u001b[39mif\u001b[39;00m response:\n\u001b[0;32m--> 428\u001b[0m     \u001b[39mself\u001b[39;49m\u001b[39m.\u001b[39;49merror_handler\u001b[39m.\u001b[39;49mcheck_response(response)\n\u001b[1;32m    429\u001b[0m     response[\u001b[39m'\u001b[39m\u001b[39mvalue\u001b[39m\u001b[39m'\u001b[39m] \u001b[39m=\u001b[39m \u001b[39mself\u001b[39m\u001b[39m.\u001b[39m_unwrap_value(\n\u001b[1;32m    430\u001b[0m         response\u001b[39m.\u001b[39mget(\u001b[39m'\u001b[39m\u001b[39mvalue\u001b[39m\u001b[39m'\u001b[39m, \u001b[39mNone\u001b[39;00m))\n\u001b[1;32m    431\u001b[0m     \u001b[39mreturn\u001b[39;00m response\n",
      "File \u001b[0;32m~/Documents/github/python101/python101/venv/lib/python3.8/site-packages/selenium/webdriver/remote/errorhandler.py:243\u001b[0m, in \u001b[0;36mErrorHandler.check_response\u001b[0;34m(self, response)\u001b[0m\n\u001b[1;32m    241\u001b[0m         alert_text \u001b[39m=\u001b[39m value[\u001b[39m'\u001b[39m\u001b[39malert\u001b[39m\u001b[39m'\u001b[39m]\u001b[39m.\u001b[39mget(\u001b[39m'\u001b[39m\u001b[39mtext\u001b[39m\u001b[39m'\u001b[39m)\n\u001b[1;32m    242\u001b[0m     \u001b[39mraise\u001b[39;00m exception_class(message, screen, stacktrace, alert_text)  \u001b[39m# type: ignore[call-arg]  # mypy is not smart enough here\u001b[39;00m\n\u001b[0;32m--> 243\u001b[0m \u001b[39mraise\u001b[39;00m exception_class(message, screen, stacktrace)\n",
      "\u001b[0;31mStaleElementReferenceException\u001b[0m: Message: stale element reference: element is not attached to the page document\n  (Session info: headless chrome=105.0.5195.52)\nStacktrace:\n0   chromedriver                        0x0000000103400149 chromedriver + 4469065\n1   chromedriver                        0x000000010338a233 chromedriver + 3985971\n2   chromedriver                        0x0000000103020fe8 chromedriver + 409576\n3   chromedriver                        0x0000000103023ed7 chromedriver + 421591\n4   chromedriver                        0x0000000103023d7f chromedriver + 421247\n5   chromedriver                        0x000000010302403c chromedriver + 421948\n6   chromedriver                        0x0000000103056fb5 chromedriver + 630709\n7   chromedriver                        0x0000000103057451 chromedriver + 631889\n8   chromedriver                        0x000000010304c3f4 chromedriver + 586740\n9   chromedriver                        0x0000000103074c8d chromedriver + 752781\n10  chromedriver                        0x000000010304be35 chromedriver + 585269\n11  chromedriver                        0x0000000103074d6e chromedriver + 753006\n12  chromedriver                        0x0000000103087611 chromedriver + 828945\n13  chromedriver                        0x0000000103074b53 chromedriver + 752467\n14  chromedriver                        0x000000010304a905 chromedriver + 579845\n15  chromedriver                        0x000000010304b955 chromedriver + 584021\n16  chromedriver                        0x00000001033d16ad chromedriver + 4277933\n17  chromedriver                        0x00000001033d5b3a chromedriver + 4295482\n18  chromedriver                        0x00000001033dacdf chromedriver + 4316383\n19  chromedriver                        0x00000001033d6857 chromedriver + 4298839\n20  chromedriver                        0x00000001033af64f chromedriver + 4138575\n21  chromedriver                        0x00000001033f11f8 chromedriver + 4407800\n22  chromedriver                        0x00000001033f137f chromedriver + 4408191\n23  chromedriver                        0x0000000103407cb5 chromedriver + 4500661\n24  libsystem_pthread.dylib             0x00007fff203fd8fc _pthread_start + 224\n25  libsystem_pthread.dylib             0x00007fff203f9443 thread_start + 15\n"
     ]
    }
   ],
   "source": [
    "def main_category_lists(category_name): \n",
    "    category_dict = {'name':'' , 'url':''}\n",
    "    category_dict['name'] = category_name.get_attribute('innerHTML')\n",
    "    category_dict['url'] = category_name.get_attribute('href')\n",
    "    return category_dict\n",
    "\n",
    "category_name = all_categories.find_elements(By.TAG_NAME, 'a')[0]\n",
    "main_category_lists(category_name)\n"
   ]
  },
  {
   "cell_type": "code",
   "execution_count": 71,
   "metadata": {},
   "outputs": [
    {
     "data": {
      "text/plain": [
       "[{'name': '<div class=\"style__StyledCateName-sc-x9fskq-1 fVbTIP\">Thịt, Rau Củ</div>',\n",
       "  'url': 'https://tiki.vn/tikingon'},\n",
       " {'name': '<div class=\"style__StyledCateName-sc-x9fskq-1 fVbTIP\">Bách Hóa</div>',\n",
       "  'url': 'https://tiki.vn/bach-hoa-online/c4384'},\n",
       " {'name': '<div class=\"style__StyledCateName-sc-x9fskq-1 fVbTIP\">Nhà Cửa</div>',\n",
       "  'url': 'https://tiki.vn/nha-cua-doi-song/c1883'},\n",
       " {'name': '<div class=\"style__StyledCateName-sc-x9fskq-1 fVbTIP\">Điện Tử</div>',\n",
       "  'url': 'https://tiki.vn/dien-tu-dien-lanh/c4221'},\n",
       " {'name': '<div class=\"style__StyledCateName-sc-x9fskq-1 fVbTIP\">Thiết Bị Số</div>',\n",
       "  'url': 'https://tiki.vn/thiet-bi-kts-phu-kien-so/c1815'},\n",
       " {'name': '<div class=\"style__StyledCateName-sc-x9fskq-1 fVbTIP\">Điện Thoại</div>',\n",
       "  'url': 'https://tiki.vn/dien-thoai-may-tinh-bang/c1789'},\n",
       " {'name': '<div class=\"style__StyledCateName-sc-x9fskq-1 fVbTIP\">Mẹ &amp; Bé</div>',\n",
       "  'url': 'https://tiki.vn/do-choi-me-be/c2549'},\n",
       " {'name': '<div class=\"style__StyledCateName-sc-x9fskq-1 fVbTIP\">Làm Đẹp</div>',\n",
       "  'url': 'https://tiki.vn/lam-dep-suc-khoe/c1520'},\n",
       " {'name': '<div class=\"style__StyledCateName-sc-x9fskq-1 fVbTIP\">Gia Dụng</div>',\n",
       "  'url': 'https://tiki.vn/dien-gia-dung/c1882'},\n",
       " {'name': '<div class=\"style__StyledCateName-sc-x9fskq-1 fVbTIP\">Thời trang nữ</div>',\n",
       "  'url': 'https://tiki.vn/thoi-trang-nu/c931'},\n",
       " {'name': '<div class=\"style__StyledCateName-sc-x9fskq-1 fVbTIP\">Thời trang nam</div>',\n",
       "  'url': 'https://tiki.vn/thoi-trang-nam/c915'},\n",
       " {'name': '<div class=\"style__StyledCateName-sc-x9fskq-1 fVbTIP\">Giày nữ</div>',\n",
       "  'url': 'https://tiki.vn/giay-dep-nu/c1703'},\n",
       " {'name': '<div class=\"style__StyledCateName-sc-x9fskq-1 fVbTIP\">Túi nữ</div>',\n",
       "  'url': 'https://tiki.vn/tui-vi-nu/c976'},\n",
       " {'name': '<div class=\"style__StyledCateName-sc-x9fskq-1 fVbTIP\">Giày nam</div>',\n",
       "  'url': 'https://tiki.vn/giay-dep-nam/c1686'},\n",
       " {'name': '<div class=\"style__StyledCateName-sc-x9fskq-1 fVbTIP\">Túi nam</div>',\n",
       "  'url': 'https://tiki.vn/tui-thoi-trang-nam/c27616'},\n",
       " {'name': '<div class=\"style__StyledCateName-sc-x9fskq-1 fVbTIP\">Balo &amp; Vali</div>',\n",
       "  'url': 'https://tiki.vn/balo-va-vali/c6000'},\n",
       " {'name': '<div class=\"style__StyledCateName-sc-x9fskq-1 fVbTIP\">Phụ kiện</div>',\n",
       "  'url': 'https://tiki.vn/phu-kien-thoi-trang/c27498'},\n",
       " {'name': '<div class=\"style__StyledCateName-sc-x9fskq-1 fVbTIP\">Đồng hồ</div>',\n",
       "  'url': 'https://tiki.vn/dong-ho-va-trang-suc/c8371'},\n",
       " {'name': '<div class=\"style__StyledCateName-sc-x9fskq-1 fVbTIP\">Laptop</div>',\n",
       "  'url': 'https://tiki.vn/laptop-may-vi-tinh-linh-kien/c1846'},\n",
       " {'name': '<div class=\"style__StyledCateName-sc-x9fskq-1 fVbTIP\">Quốc Tế</div>',\n",
       "  'url': 'https://tiki.vn/hang-quoc-te/c17166'},\n",
       " {'name': '<div class=\"style__StyledCateName-sc-x9fskq-1 fVbTIP\">Voucher</div>',\n",
       "  'url': 'https://tiki.vn/voucher-dich-vu/c11312'},\n",
       " {'name': '<div class=\"style__StyledCateName-sc-x9fskq-1 fVbTIP\">Xe</div>',\n",
       "  'url': 'https://tiki.vn/o-to-xe-may-xe-dap/c8594'},\n",
       " {'name': '<div class=\"style__StyledCateName-sc-x9fskq-1 fVbTIP\">Sách</div>',\n",
       "  'url': 'https://tiki.vn/nha-sach-tiki/c8322'},\n",
       " {'name': '<div class=\"style__StyledCateName-sc-x9fskq-1 fVbTIP\">Thể Thao</div>',\n",
       "  'url': 'https://tiki.vn/the-thao-da-ngoai/c1975'},\n",
       " {'name': '<div class=\"style__StyledCateName-sc-x9fskq-1 fVbTIP\">Máy Ảnh</div>',\n",
       "  'url': 'https://tiki.vn/may-anh/c1801'}]"
      ]
     },
     "execution_count": 71,
     "metadata": {},
     "output_type": "execute_result"
    }
   ],
   "source": [
    "def get_main_category_list(page_url):\n",
    "    global DRIVER\n",
    "    MAIN_CATEGORIES =[]\n",
    "    DRIVER.get(page_url) \n",
    "    time.sleep(3)\n",
    "    category_names = DRIVER.find_element(By.CLASS_NAME, 'slider').find_elements(By.TAG_NAME, 'a')\n",
    "    for category_name in category_names:\n",
    "        MAIN_CATEGORIES.append(main_category_lists(category_name))\n",
    "    return MAIN_CATEGORIES\n",
    "\n",
    "page_url = 'https://tiki.vn'\n",
    "get_main_category_list(page_url)"
   ]
  },
  {
   "cell_type": "code",
   "execution_count": 72,
   "metadata": {},
   "outputs": [
    {
     "name": "stdout",
     "output_type": "stream",
     "text": [
      "[{'name': '<div class=\"style__StyledCateName-sc-x9fskq-1 fVbTIP\">Thịt, Rau Củ</div>', 'url': 'https://tiki.vn/tikingon'}, {'name': '<div class=\"style__StyledCateName-sc-x9fskq-1 fVbTIP\">Bách Hóa</div>', 'url': 'https://tiki.vn/bach-hoa-online/c4384'}, {'name': '<div class=\"style__StyledCateName-sc-x9fskq-1 fVbTIP\">Nhà Cửa</div>', 'url': 'https://tiki.vn/nha-cua-doi-song/c1883'}, {'name': '<div class=\"style__StyledCateName-sc-x9fskq-1 fVbTIP\">Điện Tử</div>', 'url': 'https://tiki.vn/dien-tu-dien-lanh/c4221'}, {'name': '<div class=\"style__StyledCateName-sc-x9fskq-1 fVbTIP\">Thiết Bị Số</div>', 'url': 'https://tiki.vn/thiet-bi-kts-phu-kien-so/c1815'}, {'name': '<div class=\"style__StyledCateName-sc-x9fskq-1 fVbTIP\">Điện Thoại</div>', 'url': 'https://tiki.vn/dien-thoai-may-tinh-bang/c1789'}, {'name': '<div class=\"style__StyledCateName-sc-x9fskq-1 fVbTIP\">Mẹ &amp; Bé</div>', 'url': 'https://tiki.vn/do-choi-me-be/c2549'}, {'name': '<div class=\"style__StyledCateName-sc-x9fskq-1 fVbTIP\">Làm Đẹp</div>', 'url': 'https://tiki.vn/lam-dep-suc-khoe/c1520'}, {'name': '<div class=\"style__StyledCateName-sc-x9fskq-1 fVbTIP\">Gia Dụng</div>', 'url': 'https://tiki.vn/dien-gia-dung/c1882'}, {'name': '<div class=\"style__StyledCateName-sc-x9fskq-1 fVbTIP\">Thời trang nữ</div>', 'url': 'https://tiki.vn/thoi-trang-nu/c931'}, {'name': '<div class=\"style__StyledCateName-sc-x9fskq-1 fVbTIP\">Thời trang nam</div>', 'url': 'https://tiki.vn/thoi-trang-nam/c915'}, {'name': '<div class=\"style__StyledCateName-sc-x9fskq-1 fVbTIP\">Giày nữ</div>', 'url': 'https://tiki.vn/giay-dep-nu/c1703'}, {'name': '<div class=\"style__StyledCateName-sc-x9fskq-1 fVbTIP\">Túi nữ</div>', 'url': 'https://tiki.vn/tui-vi-nu/c976'}, {'name': '<div class=\"style__StyledCateName-sc-x9fskq-1 fVbTIP\">Giày nam</div>', 'url': 'https://tiki.vn/giay-dep-nam/c1686'}, {'name': '<div class=\"style__StyledCateName-sc-x9fskq-1 fVbTIP\">Túi nam</div>', 'url': 'https://tiki.vn/tui-thoi-trang-nam/c27616'}, {'name': '<div class=\"style__StyledCateName-sc-x9fskq-1 fVbTIP\">Balo &amp; Vali</div>', 'url': 'https://tiki.vn/balo-va-vali/c6000'}, {'name': '<div class=\"style__StyledCateName-sc-x9fskq-1 fVbTIP\">Phụ kiện</div>', 'url': 'https://tiki.vn/phu-kien-thoi-trang/c27498'}, {'name': '<div class=\"style__StyledCateName-sc-x9fskq-1 fVbTIP\">Đồng hồ</div>', 'url': 'https://tiki.vn/dong-ho-va-trang-suc/c8371'}, {'name': '<div class=\"style__StyledCateName-sc-x9fskq-1 fVbTIP\">Laptop</div>', 'url': 'https://tiki.vn/laptop-may-vi-tinh-linh-kien/c1846'}, {'name': '<div class=\"style__StyledCateName-sc-x9fskq-1 fVbTIP\">Quốc Tế</div>', 'url': 'https://tiki.vn/hang-quoc-te/c17166'}, {'name': '<div class=\"style__StyledCateName-sc-x9fskq-1 fVbTIP\">Voucher</div>', 'url': 'https://tiki.vn/voucher-dich-vu/c11312'}, {'name': '<div class=\"style__StyledCateName-sc-x9fskq-1 fVbTIP\">Xe</div>', 'url': 'https://tiki.vn/o-to-xe-may-xe-dap/c8594'}, {'name': '<div class=\"style__StyledCateName-sc-x9fskq-1 fVbTIP\">Sách</div>', 'url': 'https://tiki.vn/nha-sach-tiki/c8322'}, {'name': '<div class=\"style__StyledCateName-sc-x9fskq-1 fVbTIP\">Thể Thao</div>', 'url': 'https://tiki.vn/the-thao-da-ngoai/c1975'}, {'name': '<div class=\"style__StyledCateName-sc-x9fskq-1 fVbTIP\">Máy Ảnh</div>', 'url': 'https://tiki.vn/may-anh/c1801'}]\n"
     ]
    }
   ],
   "source": [
    "MAIN_CATEGORIES = get_main_category_list(page_url)\n",
    "print(MAIN_CATEGORIES)"
   ]
  },
  {
   "cell_type": "code",
   "execution_count": 64,
   "metadata": {},
   "outputs": [
    {
     "data": {
      "text/plain": [
       "'https://tiki.vn/dien-tu-dien-lanh/c4221'"
      ]
     },
     "execution_count": 64,
     "metadata": {},
     "output_type": "execute_result"
    }
   ],
   "source": [
    "DRIVER.get(MAIN_CATEGORIES[3]['url'])\n",
    "DRIVER.current_url"
   ]
  },
  {
   "cell_type": "code",
   "execution_count": 65,
   "metadata": {},
   "outputs": [
    {
     "data": {
      "text/plain": [
       "{'name': '<h3>Smart Tivi Samsung 4K 50 inch UA50AU7700</h3>',\n",
       " 'price': '11.330.000 ₫',\n",
       " 'product_url': 'https://tiki.vn/smart-tivi-samsung-4k-50-inch-ua50au7700-p93088617.html?itm_campaign=tiki-reco_UNK_DT_UNK_UNK_tiki-listing_UNK_p-category-mpid-listing-v1_202209010600_MD_batched_PID.93925225&itm_medium=CPC&itm_source=tiki-reco&spid=93925225',\n",
       " 'image': ''}"
      ]
     },
     "execution_count": 65,
     "metadata": {},
     "output_type": "execute_result"
    }
   ],
   "source": [
    "def get_product_info_single(product_item):\n",
    "    info = {'name':'',\n",
    "            'price':'',\n",
    "            'product_url':'',\n",
    "            'image':''}\n",
    "    try:\n",
    "        info['name'] = product_item.find_element(By.CLASS_NAME, 'name').get_attribute('innerHTML')\n",
    "          \n",
    "        # get price\n",
    "        info['price'] = product_item.find_element(By.CLASS_NAME, 'price-discount__price').get_attribute('innerHTML')\n",
    "        \n",
    "        # get product link\n",
    "        info['product_url'] = product_item.get_attribute('href')\n",
    "\n",
    "        # get thumbnail url\n",
    "        info['image'] = product_item.find_element(By.CLASS_NAME, 'image-wrapper').find_element(By.TAG_NAME, 'img').get_attribute('src')\n",
    "         \n",
    "    except Exception:\n",
    "        pass\n",
    "\n",
    "    return info\n",
    "\n",
    "product_item = DRIVER.find_elements(By.CLASS_NAME, 'product-item')[40]\n",
    "get_product_info_single(product_item)"
   ]
  },
  {
   "cell_type": "code",
   "execution_count": 66,
   "metadata": {},
   "outputs": [
    {
     "name": "stdout",
     "output_type": "stream",
     "text": [
      "48\n"
     ]
    },
    {
     "data": {
      "text/plain": [
       "[{'name': '<h3>Android Tivi Sony 4K 55 inch XR-55X90J</h3>',\n",
       "  'price': '23.250.000 ₫',\n",
       "  'product_url': 'https://tka.tiki.vn/pixel/pixel?CLICK=&data=djAwMVnB2LrOID0K0hdA3KmgijtJJ7QEkVl86GFzNyXON5WS77HCRhYv_Asb0U5qrUO4_LKM0OrC1a1DWOgwrYgovs1ByNedg9Xh-FtA58RaZ5IVdiForp_8bGWnQ184RWRhvXOKQKqe8XinQz8thij4J1q1GQ29hluejEla25vf7Adslie8DGGwY2ARTS-hkXBdqGGP57mmZ7-IQ7rZ4mbk0_lQI2JYHfmeJSm6wCWviOYT5k0EcJH8gP4aTYJxMhVzzPOIKNHe4fXwivbeU_CVNypRhtaizQrcftuFgpf3TieDzt9eRtFtz-O6PrJoE845B22genXgsAz8SQQksydg7Jsh4VaPxbKI5dAoZxx3Zu4rPimgIRsZ_QVAVVheQkrPxm8I_VEXKvOFjDpkkE30sNAiD9T8We8wANH9UH6r4aA9Z9AMiNMh_isdD1Gu0NjcKk9vN4qMHZ2w2sl14w6MxidKluQz-_ebSPqY8TLNZ4jzNndFPAkFbM8B1iaOtOl75cLCcj8PKq-3dUbSI9wAuHNpHKGL8XvP9QLiexnQ66w7epccJTL_18M_YTTq1IPxR2pdZ5DA8x4_Ee17T-MBdAKjmlUXeFhSVWSlPHJjZ2pVXgg17x1LQUxQP71AlZq4_UfkWSRkalKkOJ_Iw3k0kmFNCObXtit6bz-1m-EC5YJ5_mO3terWV7CaSRZmnqeHFO9uKoC1U_xBBe8vbI42vpR4U3oQg8By7LLUjOeuTcZos-Ir5zriKD0FF_Z_Qm3XnttMyor4vnZud0svGcrZxsdhjzYmB1zqTsh9qjbNMs-l34LMUaRmc9InKbj3zlt3xBSfdrVHJiSyom9FH__u00T7jGlzfpJ3rFIm7nWylGSDiT7Q3FJbu1sES5LhFyULpliAw86fqyxZlXwlgiLPARaaMeRCNwaJ9rhdYlezUVlZTFh-Ou-prebibWo_gtFCspYkKCmuTBMFbV325bSr6Xmbazr6cR_gwER5Tbg_DQ5U1GtQQWMnGLIpPQkESPItehLdr5xN30s8GtE1QXuvcfZXrnF58CeKW9LYNS16qB5EJlRrU3uEcpXz_2knx3IO4ru_IeK8bpf0901iF24tYXY_Aked5zIFJeVkvauJnRwx8TxM6QWRP2i4FUACGJk_MtH2gqSXxyU7dyo5gdjJySnWPozDxjAHKLBLtQ0HtQjf1KB9Dcozvm5W1cW04mQFtrf9ov0BSefs9sM26d9WNdYaE6I28OK36hhPHqJD3Jo-UkmKcjynLkYlMePPyKITNwAsCPgGced8q5wzATWfVBHkDXkocx70XjdGtMnu1CKA5NJtjurdEV7dV8kGNHSoNtiPhg&pos=1&redirect=https%3A%2F%2Ftiki.vn%2Fandroid-tivi-sony-4k-55-inch-xr-55x90j-p87161397.html%3Fspid%3D87161398&reqid=vpAiRd3AeU',\n",
       "  'image': 'https://salt.tikicdn.com/cache/280x280/media/catalog/producttmp/bf/16/33/24aa58143fefa22f27449c99817bafad.jpg'},\n",
       " {'name': '<h3>Google Tivi Sony 2K 32 inch KD-32W830K - Model 2022</h3>',\n",
       "  'price': '7.610.000 ₫',\n",
       "  'product_url': 'https://tka.tiki.vn/pixel/pixel?CLICK=&data=djAwMaanapWiYh53xEXCMzmnYQoATBIotb3UIMeOXI_udPJZ4MqsyGlR8PiL6fQRTI9gtAmWOKVNeOfu-YH9NYaDzJ4AHvIvY9uxNaIGXwN1ar3Jze-c22sAr7-eey84HwT14Efe4hrOcmyU41InZ4XP_ME6yCWLuBe9UyKbz6X29vQZpHPVoovNJRNZZ3o9xKvFsmhPwgU_ZER6odZttLbrAEe63Ban90Yub1fdVIivlEHJHnoAPxM3k2oAL5Dci7PJCmSKK6wBNHDY06xSsajdoAXRi342voQ_90MxVv7VZsy853FoJmuTqD9AIY_1Q5h3xibmcxRGyj5wNkVThc_YU7qnD23yTZXyGFQqZ5NsLhMvZCNHZJ3L-enBm2ee1wHN2ni5WpvVLGxk5hZQF4GHAWAWbAEmZzyh2oZRzoBpUIHFt9FTef8XfLPzJ3iz3i2NK3LNoh35O3Dqo4zCED7GeDIuSH4o-PaDyOFVD8Gev4YFBTvM_5A4H_Tk9jWkpVS1wq_UKbxxMzmpbLyK6uNXcmxXnDNX7256AKjdUzh4ILkZd2jmG7mOTMLYGIQTW3cCT5wTG3ROVEIDAWQaW4quUg2lUwZleNqorgpkV517cyTUY5jWxI1FIakA4Oiozq670lpFxJQiRLLouT-ZEXkl2P9qm3lgYWBke7DfxNiajDwgZs-xV8V74h6f9cmN36M5A4mWg18FDgukBVcVhMiRZ0VG9aj-k3yW98ExAGtV1hki-sASOGW88MEcOm1pLZwTh-PbRzGzxlBPONTOh70C3cjdo5Tn3xzU_Kb0wSid0QJS9_bUYpP2DfjQJ-MHtQ9l3tKXjLicY52iGx5jfpCJwQiv4vmi15d93Wxxj9xrerEN0Ag0zbTpGruVLKkpPSZas_WEZRH3RwqBPstSBv5_u1jmmxjVnzn_YIyXcf7P5w2O6D3jebjdV5UYfGZfzKA5yvASbkH6MOdd1unwDtXn3Zl3qhf_TvQ1Y7JrLPLhntK8EUqidurSsWd4X8wKAvABHokfkEozxmdrLEgbUFQxjUPtTwEZO-7iE3GaWGpMsBlxyqa9QTE2uvg_lgqLkUQ5cWPLm6PAabkB75YwQCkID7CCwd6pJo55IXjIK18VGu2gpMIPkOqVXw6V8lJEG3TuVId_w1j06XjWJFHjGu1muvHMkG95m7Y9kMkmPpGf984aQGRRKW6rE7RpM3BUFlrkMJ5Ns7_gtVEzi2M14Zocdc0Ti7WgChUZeyqbUXGALxXC5hfFgMgIni7a9wjG_nNeimDJdfITV16a33lEcg9Fdo1fAipejQrh_B-i3CWqzdDu8PaSRDb8ODPvbOpgD0XydX2AksoHTUf2oZ3DazTzFa4q6Ft88zvITC_J&pos=2&redirect=https%3A%2F%2Ftiki.vn%2Fgoogle-tivi-sony-2k-32-inch-kd-32w830k-moi-2022-hang-chinh-hang-chi-giao-tai-hcm-p176058957.html%3Fspid%3D179140659&reqid=vpAiRd3AeU',\n",
       "  'image': 'https://salt.tikicdn.com/cache/280x280/ts/product/85/e7/08/4497c6a22e6dd183c9ee73c3d902941d.jpg'},\n",
       " {'name': '<h3>Tủ Lạnh Inverter Samsung Rt35k5982s8/Sv (360l) - Hàng Chính Hãng</h3>',\n",
       "  'price': '10.650.000 ₫',\n",
       "  'product_url': 'https://tka.tiki.vn/pixel/pixel?CLICK=&data=djAwMSeNuC-z8EfwOGQCAzRmZ2jxOeH7ToJBnZM9TNcUV0s6xVC_AYx9FSzx00C2jezFfio8UiEfybx9xhDSnNvQL3-5GQ6DfVc1e5Jaoc9426emreTAZHENseWp2Ba-7Op1qF_rc639l43Ri-fwLMuzzTMuxTu4UBHXwQUizd010HEXCfEKPlSEIPqbbh7RtIBBMnEHFrgu62ZoV8ANfNpSzXtK6OylMiTE15pWqnXSo7Dlq4CsC9zLZviWMrlU-h_s5mZGE2tyPlvznLOhRTfo951fw0UmJXtDr-lW8yKwo1_X17LfmHUSH1Hvf1yAdbm0mNEC-gd4lKvACOuKl5GjfR-FZXwgsq9HO8vLtbV_NvfaBsNxNhPLQLK1oUzVZ-9AVH6ZDmKVu2DScfoxublWOqd43b7IB0bo1i6zrxlXCOb2pcphA6nwJeCDWQXdMmQA-6wzJ6hun9L8GHYQRhE0FtD-iRL-iZyw9sgvK-GT-YTi_b-MlID-roiBiKggYpzuSrZ_L474oJWD2UrcAJ6nKo7DN2hHpMZxQFHU6VY3j8nBnJNShSdhSH-7zvbsaJxXfYU2PYyPoDrmL9HezZij6sjmjkSAYKcoga8R9hmQikZ3Gt6kEALRwQdEJRc9EMb9_80Ljq1I1pX9RXjOSPuai7sdY888eXKVbsW-F80ar_ZRs4mlbhL_E3jYvMSm8TRJceQmeA3kiG2UB0x7vsG84SOXbcOc260dPqSPIfkzohFpU93NTS98skb897rgoos-OI2-zgX_32590A4zhch4H-hmTQ-x_SY4J_pUL5fzZDBBi3l04BBakmN7cgDeUUAxuPN4ntnyMoclPbiQ96fiz0i4aKVt42NDvGYzOX6aMpe7wyU6JynRXvO9pCwV4J064A_HBO3KYwpSoH9CU8oe8mruplNeITrblAlgGPjqHV6XWM7jpliogSaN00du6R2rn_psPyu0soaXxnOsCB6nGDvhn6mZy0_f_P7FiEEi_isD_dFxs7NpfGvnqGaJsw_NvUr0wBxk6h0pUPwXEISIfTp3We9DqMgdrNehv_yAYxuXUmJss4JwC40s7amCnIkcpmyYvT5Rpu2lXktwseDQy2nQ3XaxqBtVt1ygFsAet-gTvRBZPckOjO2cVDvMhgt69IYIjfvCD_o3bEHAYZR9lGkSijRB8sFzcqprL8teU90dxPYmeFc_Y7ga5lYmC2fNb_Nyt7gpIX_msThAK1UVowr1vEN-xZbX6903H_Pqr8X5_OUvbrlnn1sH-ZTMmlWjTZdXRBtfQl13HFwwBOIUlwRRoIPlywhI-Z7rwl83A_k1Sg-RMRR4i6n2gKs2JhdsqyvQjKpdwKrFRgpNK1ZTYX2-Gm7a94c0&pos=3&redirect=https%3A%2F%2Ftiki.vn%2Ftu-lanh-inverter-samsung-rt35k5982s8-sv-360l-hang-chinh-hang-p1353567.html%3Fspid%3D1379057&reqid=vpAiRd3AeU',\n",
       "  'image': 'https://salt.tikicdn.com/cache/280x280/ts/product/62/42/d0/7ce6c7caf9465762940d86c0b1848eb2.jpg'},\n",
       " {'name': '<h3>Tủ lạnh Samsung Inverter 208 lít RT19M300BGS/SV</h3>',\n",
       "  'price': '5.610.000 ₫',\n",
       "  'product_url': 'https://tka.tiki.vn/pixel/pixel?CLICK=&data=djAwMZRkVOeGLVt6CjZOiEnnYjkU4cSl6TE5d_VNI7Urz0aBwiBifSSt5VXY-0xh3KT1xvP6XzG0hv664RbQycRTbGz9CykaqFtfAcSRuH51LZgtKzzuqVMiU6Kw2Lp6ljIyRk6AJVgXHAZv6DvLUgmQNmufOgIFufWqHpVaqxol1il3YT81p4QSUdROrrnJ9gtIlSKmzp0ah93_AbFPY_NkEbfu7fKPhPBdZteqz9R8Nw5KJaJ0OG8X04MIvbQ5kZ_BvezA-kaYwrCfu6T9TG_JEbOInDo_Nxqf4JF1rBOWTpEowd5Up3HPLLRwYzGAXA9ANu1qvOkXJUD0S3FtTUM0gKaPEMCedJvCHWK6EYw_AjIJeA9d4mNfhd1swxUv6MH-psWQgTT8s6cai1TglgLq7GQWHI9wQukCtRlbhFRUAWJaONz9oa1CP1a9bd4ewQgva5qkli6-SXJ_U7IrKmV7K58uVcz5TpWl_JbXUawfZCq9i1BB3f5pwE6RWiw0CwcBR5Fp3c2a60W4VuibZEtBbMCd2iyDnDeTMk5x3ofFlbfSDzuRkCQWoDMxCHqC-h7BpOKsksVYk3WxaMPVGEBM8-mHmh9L4QVhZfRxboErUutM84-XWMJD6HbzvQD59fAA07ndN__JnEwK7g0JeKI7_3P9T6QtrkoIaifA1x8c1186Q7nMU6bu_l44g2QnPkyX9fpfKGUZDAvl1MKeruIQryiLEijD4h-iEiViPMNegpGfBnBO4ZLsVrTZvIu1ja0TLD3k2rijQcMiIkBGZL8poMtirxFJY_5JFoVDKZSRiN87YlUmpwtrsmM17nTEcLPuvztaBOXZwI0i-FiBeiYqg3x8jspPhF-DHUTNImCXavl-g95wz2etV5ytII3a2O2Ud6A-kuQZSnGQ6nNft1wcjUZ9XLXex48fUuR_J5emRBqfNrnB5_klTr35kZMcgjWCVmjvoqhtgAmkddEWxte4L4oQP-odEHq-8mtsOS05zCXsAhdTcAGCtqZP8nQ8BcE-6VVhrgsn0gJiIJBvXguVfMUWei8odQ8RGzLKkyGITbHSqs2dFv1Nc900-5ZsozGhPG8YaP7JGrRBKzp86N5UXfkPd05HYoq-re2sqGXFKp-kVm0zjhsoWouzyRY7-ztg9fu3A4Khvgpbkxb0FhejCFbjjgEF9qDfSbiQasqokGwLszFaWBoFLye2mJkW0Nv10mjtvZiaRv_QEnS8KxTmBZTXWFB42OZ7RdZwDC8RGTIDl9mrb39GnRUWvXx_l4Aein5nh2nZr5L0Rmfn3myHzongv6rKkmiUUccindDKK-iC_PFzIrt_wVVKwy6dFrzzldVCyTyxhoEAF4SlNL1gEfR5Y1eVfl9BLarZ2ybI6UpsYrW1Ywp5NWfAPm8&pos=4&redirect=https%3A%2F%2Ftiki.vn%2Ftu-lanh-samsung-inverter-208-lit-rt19m300bgs-sv-p845744.html%3Fspid%3D851230&reqid=vpAiRd3AeU',\n",
       "  'image': 'https://salt.tikicdn.com/cache/280x280/ts/product/e9/e9/fe/e2426807bf337e17672b84054be44699.jpg'},\n",
       " {'name': '<h3>Máy lạnh Daikin Inverter 1 HP FTKB25WMVMV Mới 2022- Hàng chính hãng( Chỉ giao HCM)</h3>',\n",
       "  'price': '8.590.000 ₫',\n",
       "  'product_url': 'https://tiki.vn/may-lanh-daikin-inverter-1-hp-ftkb25wmvmv-moi-2022-hang-chinh-hang-chi-giao-hcm-p171580680.html?itm_campaign=tiki-reco_UNK_DT_UNK_UNK_tiki-listing_UNK_rulebase-tiki-listing-boost-astra-day_UNK_RB_batched_PID.192964795&itm_medium=CPC&itm_source=tiki-reco&spid=192964795',\n",
       "  'image': ''},\n",
       " {'name': '<h3>Tủ Lạnh Inverter Samsung RT20HAR8DBU/SV (208L) - Hàng Chính Hãng - Chỉ Giao tại HCM</h3>',\n",
       "  'price': '6.390.000 ₫',\n",
       "  'product_url': 'https://tiki.vn/tu-lanh-inverter-samsung-rt20har8dbu-sv-208l-hang-chinh-hang-chi-giao-tai-hcm-p53639843.html?itm_campaign=tiki-reco_UNK_DT_UNK_UNK_tiki-listing_UNK_rulebase-tiki-listing-boost-astra-day_UNK_RB_batched_PID.53639844&itm_medium=CPC&itm_source=tiki-reco&spid=53639844',\n",
       "  'image': ''},\n",
       " {'name': '<h3>Tủ Lạnh Inverter Samsung RT22M4032BU/SV (236L) - Hàng Chính Hãng - Chỉ Giao tại HCM</h3>',\n",
       "  'price': '6.690.000 ₫',\n",
       "  'product_url': 'https://tiki.vn/tu-lanh-inverter-samsung-rt22m4032bu-sv-236l-hang-chinh-hang-chi-giao-tai-hcm-p54414906.html?itm_campaign=tiki-reco_UNK_DT_UNK_UNK_tiki-listing_UNK_rulebase-tiki-listing-boost-astra-day_UNK_RB_batched_PID.54414907&itm_medium=CPC&itm_source=tiki-reco&spid=54414907',\n",
       "  'image': ''},\n",
       " {'name': '<h3>Máy lạnh Inverter Samsung AR09TYHQASINSV (1.0HP) - Hàng chính hãng - Chỉ giao tại HCM</h3>',\n",
       "  'price': '6.050.000 ₫',\n",
       "  'product_url': 'https://tiki.vn/may-lanh-inverter-samsung-ar09tyhqasinsv-1-0hp-hang-chinh-hang-chi-giao-tai-hcm-p54763799.html?itm_campaign=tiki-reco_UNK_DT_UNK_UNK_tiki-listing_UNK_rulebase-tiki-listing-boost-astra-day_UNK_RB_batched_PID.54763800&itm_medium=CPC&itm_source=tiki-reco&spid=54763800',\n",
       "  'image': ''},\n",
       " {'name': '<h3>Máy lạnh Inverter Samsung AR12TYHQASINSV (1.5HP) - Hàng chính hãng - Chỉ giao tại HCM</h3>',\n",
       "  'price': '7.280.000 ₫',\n",
       "  'product_url': 'https://tiki.vn/may-lanh-inverter-samsung-ar12tyhqasinsv-1-5hp-hang-chinh-hang-chi-giao-tai-hcm-p54763797.html?itm_campaign=tiki-reco_UNK_DT_UNK_UNK_tiki-listing_UNK_rulebase-tiki-listing-boost-astra-day_UNK_RB_batched_PID.54763798&itm_medium=CPC&itm_source=tiki-reco&spid=54763798',\n",
       "  'image': ''},\n",
       " {'name': '<h3>Tủ lạnh Samsung Inverter 488 lít RF48A4000B4/SV model 2021 - Hàng chính hãng (chỉ giao HCM)</h3>',\n",
       "  'price': '17.880.000 ₫',\n",
       "  'product_url': 'https://tiki.vn/tu-lanh-samsung-inverter-488-lit-rf48a4000b4-sv-model-2021-hang-chinh-hang-chi-giao-hcm-p92020827.html?itm_campaign=tiki-reco_UNK_DT_UNK_UNK_tiki-listing_UNK_rulebase-tiki-listing-boost-astra-day_UNK_RB_batched_PID.105086151&itm_medium=CPC&itm_source=tiki-reco&spid=105086151',\n",
       "  'image': ''},\n",
       " {'name': '<h3>Smart Tivi Qled The Frame Samsung 4K 50 inch QA50LS03A</h3>',\n",
       "  'price': '14.410.000 ₫',\n",
       "  'product_url': 'https://tiki.vn/smart-tivi-qled-the-frame-samsung-4k-50-inch-qa50ls03a-p88078084.html?itm_campaign=tiki-reco_UNK_DT_UNK_UNK_tiki-listing_UNK_rulebase-tiki-listing-boost-astra-day_UNK_RB_batched_PID.88078088&itm_medium=CPC&itm_source=tiki-reco&spid=88078088',\n",
       "  'image': ''},\n",
       " {'name': '<h3>Android Tivi Sony 4K 55 inch KD-55X80K - Model 2022</h3>',\n",
       "  'price': '20.470.000 ₫',\n",
       "  'product_url': 'https://tiki.vn/android-tivi-sony-4k-55-inch-kd-55x80k-model-2022-p172066794.html?itm_campaign=tiki-reco_UNK_DT_UNK_UNK_tiki-listing_UNK_rulebase-tiki-listing-boost-astra-day_UNK_RB_batched_PID.172066795&itm_medium=CPC&itm_source=tiki-reco&spid=172066795',\n",
       "  'image': ''},\n",
       " {'name': '<h3>Máy lạnh Inverter Samsung AR09TYHQASINSV (1.0HP) - Hàng chính hãng - Chỉ giao tại HCM</h3>',\n",
       "  'price': '5.680.000 ₫',\n",
       "  'product_url': 'https://tiki.vn/may-lanh-inverter-samsung-ar09tyhqasinsv-1-0hp-hang-chinh-hang-chi-giao-tai-hcm-p54763799.html?itm_campaign=tiki-reco_UNK_DT_UNK_UNK_tiki-listing_UNK_p-category-mpid-listing-v1_202209010600_MD_batched_PID.84784483&itm_medium=CPC&itm_source=tiki-reco&spid=84784483',\n",
       "  'image': ''},\n",
       " {'name': '<h3>Mạch điều khiển từ xa cho quạt bàn quạt cây( điều khiển bằng tiếng việt) -giúp điều khiển quạt bàn quạt cây từ xa</h3>',\n",
       "  'price': '45.000 ₫',\n",
       "  'product_url': 'https://tiki.vn/mach-dieu-khien-tu-xa-cho-quat-ban-quat-cay-dieu-khien-bang-tieng-viet-giup-dieu-khien-quat-ban-quat-cay-tu-xa-p144070572.html?itm_campaign=tiki-reco_UNK_DT_UNK_UNK_tiki-listing_UNK_p-category-mpid-listing-v1_202209010600_MD_batched_PID.144070577&itm_medium=CPC&itm_source=tiki-reco&spid=144070577',\n",
       "  'image': ''},\n",
       " {'name': '<h3>Tủ lạnh Samsung Inverter 208 lít RT19M300BGS/SV - Chỉ giao HCM</h3>',\n",
       "  'price': '4.789.000 ₫',\n",
       "  'product_url': 'https://tiki.vn/tu-lanh-samsung-inverter-208-lit-rt19m300bgs-sv-chi-gia-hcm-p845378.html?itm_campaign=tiki-reco_UNK_DT_UNK_UNK_tiki-listing_UNK_p-category-mpid-listing-v1_202209010600_MD_batched_PID.169761645&itm_medium=CPC&itm_source=tiki-reco&spid=169761645',\n",
       "  'image': ''},\n",
       " {'name': '<h3>Giá Treo Màn Hình Máy Tính North Bayou F80 Lắp Cho Màn Hình LCD 17 inch - 30 inch Hàng Nhập Khẩu</h3>',\n",
       "  'price': '297.900 ₫',\n",
       "  'product_url': 'https://tiki.vn/gia-treo-man-hinh-may-tinh-north-bayou-f80-lap-cho-man-hinh-lcd-17-inch-30-inch-hang-nhap-khau-p110791834.html?itm_campaign=tiki-reco_UNK_DT_UNK_UNK_tiki-listing_UNK_p-category-mpid-listing-v1_202209010600_MD_batched_PID.188731012&itm_medium=CPC&itm_source=tiki-reco&spid=188731012',\n",
       "  'image': ''},\n",
       " {'name': '<h3>Máy rửa chén Nagakawa NAG3602M14 - Chỉ giao tại HCM</h3>',\n",
       "  'price': '12.390.000 ₫',\n",
       "  'product_url': 'https://tka.tiki.vn/pixel/pixel?CLICK=&data=djAwMWqFV9WnQfD5V0Zbfa30OrfpILodCLGISO0oKZQsYEhW34BFkXb0xul8PBSn9__Hp_ijXgo-lrMU3Z48q3Wud-VhYsSPqbkY8d86kh7F9mJLN0KcZlwl8VJEXLrnmuhTVDo3odJT4jsAKhgoQwlApivfZAv8C1yij-Vl2G9gXv73cDJBs-MY3f6TIEvlI-6JJoyKWLVlsLAwlyatk3nadVJQRU2gElvWzbSVsYL-20FOOhQ-5rAIxLJqdh2ZMbgZPR02bQAIrGbJhs61po-aHxMBNgN3iO2V2waqzDvqDL2pcHrUlOqZRQeWf5xG3MW7HTJgFvpiP5UxlVoxuMvbE7dReJb08Osy1VQcCEXTSetfWqsRM-GNcRuehgrA96waeaedKh4zVGk3NL2esXVXIeNVSQz68VqWxB4bVOWxgOOJU-relYcunNkpER3Wv7lhaObdIWXmWGZeq3OBAKktphhBXhZ6JSGfZOMiPdUeitLnBnYDm3vsTItyduMwtzO2W6fgSD_zYf8v42Mn83PX-HvsbwGv2e2p5pUHgApQaxMtwsKwVL9AEO7wLt3-N6s3mxUHgka9EdVpQ_nH85IkfJFQ0lu-brkpN3mEZTZHH6zggtZJi1r-nZMBo3iahau9-SHiDf1W3TU0FUxikmIJT9YmU0aKUzmkW1kMCTEcX9yCzXtsZdPwTxO3Yo_txiejaY4qHvPGX0I48nnN-u98JJEtK7ExB_DXSMGxZpTgCUKygUZXgm2f1XIOAM6Rt7TO4oARLTsWjrRWnshEBDbif8TdHnQX94uVjrjgfLc_v7FH4_0juOk-JLn4z3vsnQRG8N5QT3a57jZJZN4ZsLRNhcVnusrfFku6cstl69yHVNynbDMCkt7b2xVXjSWI42pjb_jyqAHNpGPzw5NQp_OmM5ml2KHPl-2iHvfmxwRNzjUycM7qsTwSkPqV9S_FyPEFM1_9oEj26kfWKp8Azm_3YDr4wPdVSgbwhYxRfNjqmsuwPflPX6uLtfoJDOOhUgNwDIn_QczScvsN3NYVO1l4VbH5sOK2VYA-6W1U6BVihW-NpAyI0rBEtvzjmJublQC8wAJJbeVbL0kSLoqTZ894rCEOVnO9s6MaHiAt898-TPqXVGxNds9dqMNXhTN_IbRxEpwBB7un0yJE6G0O4HHwJQEOUxXcONq26VoTbQiyDslybouD5FWwnd7w47pNPEzypelOa2g-TWOPlfVg0E04btYmQIB_VtSPc_dXtFZdeFf8An0rSvlm1h1iV2CWRnhqg8s78ncJzge_MxB66YP5HCmOXNAS58Tq-2g3dryB1oMx1HKzAG5i&pos=17&redirect=https%3A%2F%2Ftiki.vn%2Fmay-rua-chen-nagakawa-nag3602m14-chi-giao-tai-hcm-p63911155.html%3Fspid%3D63911156&reqid=vpAiRd3AeU',\n",
       "  'image': ''},\n",
       " {'name': '<h3>Android Tivi Sony 4K 55 inch KD-55X80J/S</h3>',\n",
       "  'price': '17.750.000 ₫',\n",
       "  'product_url': 'https://tka.tiki.vn/pixel/pixel?CLICK=&data=djAwMdgB3sQZGa1FLpMiNyRx3jiHrS4eL9qVDhFFbIiezjfW7dAxd4Xsn-VL1t_FxxoN0Lqcr4L_YhQFoYI47FZX-1LAVR2afGsc9NNVV4ihXp7URDJpvWr6w562MNUubCDZQduYvjKw7ZH5Qgt84oxgJ-nyEE5F7hAc46FGmdLj1NRyus3XrEDPFHEShjlO8SYfGLhmVG4JFiDV9E9Sg19fELpUri7Jhony7zc8JCZgju6CesBpisBMR6cKM23uVjl-GxvFDKCge_pYqdIv4pDJT5X4zpAyG2XanGn_K9Gc3_IzPL3VPmYGjaAR5XpFgobIMOtp0XZEIj-eHjTaDG48hX02plrHRD9LONrX1HLZ7koAXAPipnLs_HCuS395A9OZ-a3tOaNJx560R9hXeUR_VGrYOASvH2jSX7gNKRhJ30umZGBdywGTYbzhGY89rZUdTPTvUC95TM8Qmoy3jjFW6ir1oSiiAu_A2C36QEOKoJsqI8ZASKGRdjPUsZc42dRcC_Q0prmHUPrCt81rzOu7PGXRDsWNbLJAKnNaDaPC4Ocou6rvyxlL97Gw7F5-sVpU_wrPJA0WrJPQF13hvGd1aZPEDwURt3j84WR9S-WQ6xQ1LrNzt2xBQoosbOD6avGdOCTI7fdlowVufb_iXhK6D6y23Hb5Q56gPpnEqIG1MI-PkxB9Ojwz5p78YCU9kqWvj0H_dYF60xtOrXj9mNXolnDSlov3r6_ZHydHpRNbSBAq2HLch5qOKavWTH2J4-VIC_W-UgNbSTAp2zbTHqcMTZ6UJLvW6c19I-Rz1Wh6VdAl9LNg8r-cvynB802_S_fiRn0bmwzrzhlfsVPfuq-tN9BIeP1GXoTy6F_417aS2MOJPJ3MZBuvanVZIRyF6mT6epOf2Z4Qq3_3nKh45dDvy6LNZeu06U1_f1YyI8QD17jXz-gHfLOD-S-RpNZY2FHctLtqZHDURnD68wxYlitqP8BFwAevdmso9kNsS0tDvHOwx00qKsUm25e0mw6OjA4B-kNoSCoRTvUj3RNPu-bsTRS5OLY8hvmK1ZyJQlXxhLz6cZXTaVMXZk0UUTmIOs6-lVXnrmRQjgnz7V2js0u7cZ_wL4G1mgBbh-LBstquK5unMVauSWca8JPaUl-XbFCFkiYRfOZB4m7Pl8cpSAXQ6gIjr9VVbN24H1AQZHALOlTpFKM2NrW4XOb8OhZS41t470zkg2_WwPCDJcl1SbohUEEGD0EcWPKBH19bL_8ADqRHlTDFrI2Nqd0hyz7eZbJBhxQPM-dEcM81QI9DBGSUwEaXn0QRngGpyzK18VGEOb5k8BBqhSIv2lpmVc39&pos=18&redirect=https%3A%2F%2Ftiki.vn%2Fandroid-tivi-sony-4k-55-inch-kd-55x80j-s-p95547156.html%3Fspid%3D95547158&reqid=vpAiRd3AeU',\n",
       "  'image': ''},\n",
       " {'name': '<h3>Android Tivi Sony 4K 43 inch KD-43X86J</h3>',\n",
       "  'price': '17.550.000 ₫',\n",
       "  'product_url': 'https://tka.tiki.vn/pixel/pixel?CLICK=&data=djAwMZ19yDUvfSEmp_GoSz8L0bwGQXf08BXjNvXuowqtvxKcMjQHWpbvNR_kRM7PS8vDH5eznGudUQyG6jVO72ZgOaiB9ct8yw8aKIDe6NpQfbA1t3Mp3WYW5gJx0ZgwmNw5IsgpD5SrZ0BfZSjCcHhaKOXshgYT0FLNwnzdyWyoeTLlTwEl_sw1gfHhfqjiucZzXcEhPsUyQ8DLeIeE2_vX46BMa7CMWq3xX2-bdyVHnJxGPl6ucI7VFpGrRmnvE00CvU1xz3wcpLyZLc7FwlDChz-7p9KmcbiOlNieqrOxmDfH6iqIaEU-3fIEGdcyWFwjM98vxxgsJoCzxpEdHKo02v1es2dg9c1Tv5rJ9UkW2QKUhAGcqdE4MEYMurn-5LEWLmNDD0KRNCRPLVfr3dlUgSoCev7obc5iOJDf9D9XF7WmFrYg9a6JTZiuTr4orKbY4b7TutRs-sDWdYtiXFnahBXRQVGnuyUvdndLB1v4znj1ZWYsgcmNgVKaDl4ct7zXapPsnS-3CsJWFhaDVvpFmXMwvHrN0UqAK1FPpCd4F_ywO7JL2S15z0Y9ABvbZ-yk1I9CRqsOsGWgxnUhAggqd8tWeUmGDSKm3zlTvcC1gWgv88evg8W2BDJXzwDvte3F4Wa3hw1tbbkK69Ufhd0H080RgvBYhJicbBT3xYJGVhXFwEJkk3MPluN9R43nGN5YRPWYJkR8KXR-eJ11kYgrldaBSwYUOxXtOEHGqI0pY8g2IdHwb8YD5EqrVyjSy4nS5Tc-cYgqqEcemWUWih9VK-BPR5jtjlq1cgi8iNkEg72cUNEvQyHbFx0CQP47QC4znETbsvIU80PZCJrkFAqXLX8d21UG2MaXddH51koS7DX5ljW7fy66WRdPoAQmnWtwFWJQGdQnxwm-PCadWKaLIEMLdoOD_-YgVaKFWoWdLIJ-_gwF9dTUA5Oz5_53K-Wo-mXtJ0OS88J-Yo6LX1Vuasfao7Nc9F0_N0zh5ERK1bRvLr7oVcPFtDuaE-Rp-d_zFUIsdmf4mcRRrrY3v7BVlA7HTMyJVV37h9g9lokKwGDm_i_fwdsUPgY0pFiFOlM82CFzouZfIP9blYHQBC2TQmgAeqtvNCnTc_dJ3CEyn5YKXvtmMSFDPKYuAZnO4bpCMPTNOAkYz8yaGVxBkQYOz_qvr8YnOTfJsi4Esoo9agpkhcspXYWL0vGHQB9AqOvsQUs8Fnrjy0Ee7AJjCDJdaZA_sF8c7l21yoiPU0xthtBbUh1xgaah36nSObjnSr6HtQvPc4_QasZq7Aom-lljnVgsFYBuW6p4LnAEt-7ldZcHvO2Js1uytAfLLA_MEg&pos=19&redirect=https%3A%2F%2Ftiki.vn%2Fandroid-tivi-sony-4k-43-inch-kd-43x86j-p108433857.html%3Fspid%3D108433858&reqid=vpAiRd3AeU',\n",
       "  'image': ''},\n",
       " {'name': '<h3>Máy giặt Samsung Inverter 8 kg WW80T3020WW - Chỉ giao HCM</h3>',\n",
       "  'price': '5.570.000 ₫',\n",
       "  'product_url': 'https://tka.tiki.vn/pixel/pixel?CLICK=&data=djAwMfNFY95S21hSiihAtLZnXbfGI50XIbZsTwJtQUpqTuAYIH-y5CJQs-9AMig650G24MGEHfH4Jhu5ZfETlN1YjcQLrR2CgnZnJoUQ17qoJ4T93SohX6wQiLPD61qTjPS1KvxpCSx8gqAPkzSVCMmTKTfr-xH-TmQ_ZGMduL9zDMBEtodDahGs-uQnGGPYn2WBt3Bg9Cv5YhAH1hP7gcfEZPjgaYqQ9S9_8ajiHoS-kHzMibjm69o1lNf7NSIHlBAawDoBVggQIKivtbbPBidynQH9muUZHwL5f8JjZ0vV9BTFikzwIrdLhS-4pG1G5-iBtEIEVxeyp8H9Zp05b1FtkSlQD1n0fZYWQWGbh6F_5x-KemaqJgpw5sowsPd-5R9NZy3FWvY3T1gRaoK431FqDriNNcjUaJTRj6IM51TtQ8w7pNzNiUw_bTKuE-xTQbRGG3BWiEHQFfJmTlDH7AZ6kZ7ezW3UVb3iugsZniKibPoO-uR4ArGAfYImwtHcJHvtvAMgsorMhsGRUf7c3cnDUXTTQ2g8jIrYzvtUaaUTHEAGB5WfXuFgj6EvQORZvF9pphrTIoY5AQzI5NqU2O2BaIwbmZmlNRWL17g4ZnYxahrjETjoIo2nQbGcAEt1b_ncq89sF3dwT6v59l_ZI8Z11-J6lja-BonF2QckOFc85jRKW4QFnypfXnSHxaBmEk6oJNs94oVZt62VAvOrJqfX_RW_6xhSzvtAIHjccuJrfQpwWvj3NLv0fj_L_7RWEhM7JuRadCJePNo_1pYGX6575ZWy1Cx725gQDGXF2hOVBwHsaUKNPV0AGV6vZudzDto7f2GAB1Eov14E96fYDNAT3Y6KdrjPFWvbBbAzCcczPJl6t-0J787Bk0x2xEwhCmsy0EYNGqAGoK2rRgjib1NgvSSHoXttaEjMbhJ5jojccCF2qiCDnlsPg1Gr3diQrXhR1JvhQE6l2uEv6NHGlF-KcjQQVlmMr-gDIoufqOXpqJdOa9piEM45Iv7DkdM2eCX-tP9aFndnDh5KkX8jHkmV5keKUIU2a21yXhO6IrwCcHobdel1oGh048_c06Ih-QdJXQN_ycyYcN0vZIuryt8FzhvwdE8gMcdUiSwwi3ai00XrXziOp-FnD-pE704wUjN6g1QO2XAm-bBzaGDrqMJrVt_g6N6logfKKl4NlZAD4Pwj_bleIYTwGL8HkR2-PJLI1hr1b_XMQstIyZr6c4o2M-QYJ2Vau_o0DPY7cNLzDrutWlZD9alNe2vR4jNFJCY5RJqQ5bvMvaAwAJlBIopydEcBuaQWyGm5EQrcxrbJgNoIerZ0KbFo5dHcwUHAtXd5ROxSLSTi7pf2ILUoF9zdgw&pos=20&redirect=https%3A%2F%2Ftiki.vn%2Fmay-giat-samsung-inverter-8-kg-ww80t3020ww-chi-giao-hcm-p72748642.html%3Fspid%3D72748643&reqid=vpAiRd3AeU',\n",
       "  'image': ''},\n",
       " {'name': '<h3>Android Tivi Box Tx3 Mini Plus 2022 - Android 11 - CPU S905W2 - Ram 2GB, Rom 16GB</h3>',\n",
       "  'price': '625.000 ₫',\n",
       "  'product_url': 'https://tiki.vn/android-tivi-box-tx3-mini-plus-2022-android-11-cpu-s905w2-ram-2gb-rom-16gb-p165043641.html?itm_campaign=tiki-reco_UNK_DT_UNK_UNK_tiki-listing_UNK_p-category-mpid-listing-v1_202209010600_MD_batched_PID.181113240&itm_medium=CPC&itm_source=tiki-reco&spid=181113240',\n",
       "  'image': ''},\n",
       " {'name': '<h3>Máy giặt Samsung Inverter 8.5 kg WW85T4040CX</h3>',\n",
       "  'price': '10.710.000 ₫',\n",
       "  'product_url': 'https://tiki.vn/may-giat-samsung-inverter-8-5-kg-ww85t4040cx-chi-giao-hcm-ha-noi-p108175089.html?itm_campaign=tiki-reco_UNK_DT_UNK_UNK_tiki-listing_UNK_p-category-mpid-listing-v1_202209010600_MD_batched_PID.108175090&itm_medium=CPC&itm_source=tiki-reco&spid=108175090',\n",
       "  'image': ''},\n",
       " {'name': '<h3>Tủ Lạnh Aqua 130 lít AQR-T150FA-BS</h3>',\n",
       "  'price': '3.989.000 ₫',\n",
       "  'product_url': 'https://tiki.vn/tu-tu-lanh-aqua-130-lit-aqr-t150fa-bs-p50560441.html?itm_campaign=tiki-reco_UNK_DT_UNK_UNK_tiki-listing_UNK_p-category-mpid-listing-v1_202209010600_MD_batched_PID.166123402&itm_medium=CPC&itm_source=tiki-reco&spid=166123402',\n",
       "  'image': ''},\n",
       " {'name': '<h3>Loa thanh soundbar Samsung HW-T420 - Hàng chính hãng</h3>',\n",
       "  'price': '1.189.000 ₫',\n",
       "  'product_url': 'https://tiki.vn/loa-thanh-soundbar-samsung-hw-t420-hang-chinh-hang-p73811766.html?itm_campaign=tiki-reco_UNK_DT_UNK_UNK_tiki-listing_UNK_p-category-mpid-listing-v1_202209010600_MD_batched_PID.154312619&itm_medium=CPC&itm_source=tiki-reco&spid=154312619',\n",
       "  'image': ''},\n",
       " {'name': '<h3>Giá treo màn hình máy tính F80 - Xoay 360 độ </h3>',\n",
       "  'price': '298.900 ₫',\n",
       "  'product_url': 'https://tiki.vn/gia-treo-man-hinh-may-tinh-f80-xoay-360-do-p123548222.html?itm_campaign=tiki-reco_UNK_DT_UNK_UNK_tiki-listing_UNK_p-category-mpid-listing-v1_202209010600_MD_batched_PID.188731064&itm_medium=CPC&itm_source=tiki-reco&spid=188731064',\n",
       "  'image': ''},\n",
       " {'name': '<h3>Máy giặt Samsung Inverter 8 kg WW80T3020WW - Chỉ giao HCM</h3>',\n",
       "  'price': '5.110.000 ₫',\n",
       "  'product_url': 'https://tiki.vn/may-giat-samsung-inverter-8-kg-ww80t3020ww-chi-giao-hcm-p72748642.html?itm_campaign=tiki-reco_UNK_DT_UNK_UNK_tiki-listing_UNK_p-category-mpid-listing-v1_202209010600_MD_batched_PID.166133135&itm_medium=CPC&itm_source=tiki-reco&spid=166133135',\n",
       "  'image': ''},\n",
       " {'name': '<h3>FPT Play Box S 2021 – Chính hãng FPT Telecom (Mã T590) – Kết hợp Tivi Box và Loa thông minh</h3>',\n",
       "  'price': '18.000 ₫',\n",
       "  'product_url': 'https://tiki.vn/fpt-play-box-s-2021-chinh-hang-fpt-telecom-ma-t590-ket-hop-tivi-box-va-loa-thong-minh-p113911986.html?itm_campaign=tiki-reco_UNK_DT_UNK_UNK_tiki-listing_UNK_p-category-mpid-listing-v1_202209010600_MD_batched_PID.191418502&itm_medium=CPC&itm_source=tiki-reco&spid=191418502',\n",
       "  'image': ''},\n",
       " {'name': '<h3>Tủ lạnh Samsung Inverter 208 lít RT19M300BGS/SV</h3>',\n",
       "  'price': '4.949.000 ₫',\n",
       "  'product_url': 'https://tiki.vn/tu-lanh-samsung-inverter-208-lit-rt19m300bgs-sv-p845744.html?itm_campaign=tiki-reco_UNK_DT_UNK_UNK_tiki-listing_UNK_p-category-mpid-listing-v1_202209010600_MD_batched_PID.71980330&itm_medium=CPC&itm_source=tiki-reco&spid=71980330',\n",
       "  'image': ''},\n",
       " {'name': '<h3>Điều khiển dùng cho quạt đứng và quạt treo tường Mitsubishi</h3>',\n",
       "  'price': '35.200 ₫',\n",
       "  'product_url': 'https://tiki.vn/dieu-khien-dung-cho-quat-dung-va-quat-treo-tuong-mitsubishi-p16931128.html?itm_campaign=tiki-reco_UNK_DT_UNK_UNK_tiki-listing_UNK_p-category-mpid-listing-v1_202209010600_MD_batched_PID.191763160&itm_medium=CPC&itm_source=tiki-reco&spid=191763160',\n",
       "  'image': ''},\n",
       " {'name': '<h3>Remote Điều khiển Tivi dành cho Sony RMT-TX300P</h3>',\n",
       "  'price': '26.900 ₫',\n",
       "  'product_url': 'https://tiki.vn/remote-dieu-khien-tivi-sony-rmt-tx300p-hang-moi-chinh-hang-100-tang-kem-pin-p126702028.html?itm_campaign=tiki-reco_UNK_DT_UNK_UNK_tiki-listing_UNK_p-category-mpid-listing-v1_202209010600_MD_batched_PID.188722374&itm_medium=CPC&itm_source=tiki-reco&spid=188722374',\n",
       "  'image': ''},\n",
       " {'name': '<h3>Máy Nước Nóng Ariston SB35E-VN (3500W)</h3>',\n",
       "  'price': '1.630.000 ₫',\n",
       "  'product_url': 'https://tiki.vn/may-nuoc-nong-ariston-sb35e-vn-3500w-p548549.html?itm_campaign=tiki-reco_UNK_DT_UNK_UNK_tiki-listing_UNK_p-category-mpid-listing-v1_202209010600_MD_batched_PID.272803&itm_medium=CPC&itm_source=tiki-reco&spid=272803',\n",
       "  'image': ''},\n",
       " {'name': '<h3>Loa Thanh Samsung 2.1ch 150W HW-T420/XV - Hàng Chính Hãng</h3>',\n",
       "  'price': '1.130.000 ₫',\n",
       "  'product_url': 'https://tiki.vn/loa-thanh-2-1ch-150w-hw-t420-xv-hang-chinh-hang-p55596971.html?itm_campaign=tiki-reco_UNK_DT_UNK_UNK_tiki-listing_UNK_p-category-mpid-listing-v1_202209010600_MD_batched_PID.176214583&itm_medium=CPC&itm_source=tiki-reco&spid=176214583',\n",
       "  'image': ''},\n",
       " {'name': '<h3>Giá Treo Tivi Góc Xoay Nhập Khẩu North Bayou P4 (32-55inch) </h3>',\n",
       "  'price': '188.200 ₫',\n",
       "  'product_url': 'https://tiki.vn/gia-treo-tivi-goc-xoay-nhap-khau-north-bayou-p4-32-55inch-p4374799.html?itm_campaign=tiki-reco_UNK_DT_UNK_UNK_tiki-listing_UNK_p-category-mpid-listing-v1_202209010600_MD_batched_PID.188927400&itm_medium=CPC&itm_source=tiki-reco&spid=188927400',\n",
       "  'image': ''},\n",
       " {'name': '<h3>Remote Điều Khiển TV Giọng Nói Dành Cho SAMSUNG Smart Tivi 4K, QLED - Grade A</h3>',\n",
       "  'price': '224.500 ₫',\n",
       "  'product_url': 'https://tiki.vn/remote-dieu-khien-tv-giong-noi-danh-cho-samsung-smart-tivi-4k-qled-grade-a-p97823773.html?itm_campaign=tiki-reco_UNK_DT_UNK_UNK_tiki-listing_UNK_p-category-mpid-listing-v1_202209010600_MD_batched_PID.191764707&itm_medium=CPC&itm_source=tiki-reco&spid=191764707',\n",
       "  'image': ''},\n",
       " {'name': '<h3>FPT Play Box+ 2020 2GB Hệ Điều Hành Android TV 10 Điều Khiển Giọng Nói (Model T550)- Hàng Chính Hãng</h3>',\n",
       "  'price': '918.000 ₫',\n",
       "  'product_url': 'https://tiki.vn/fpt-play-box-2020-2gb-4k-he-dieu-hanh-android-tv-10-dieu-khien-giong-noi-model-t550-chinh-hang-p181425245.html?itm_campaign=tiki-reco_UNK_DT_UNK_UNK_tiki-listing_UNK_p-category-mpid-listing-v1_202209010600_MD_batched_PID.181425246&itm_medium=CPC&itm_source=tiki-reco&spid=181425246',\n",
       "  'image': ''},\n",
       " {'name': '<h3>Máy Giặt Samsung Inverter 9 Kg WW90T3040WW - Chỉ Giao HCM</h3>',\n",
       "  'price': '5.290.000 ₫',\n",
       "  'product_url': 'https://tiki.vn/may-giat-samsung-inverter-9-kg-ww90t3040ww-chi-giao-hcm-p73169653.html?itm_campaign=tiki-reco_UNK_DT_UNK_UNK_tiki-listing_UNK_p-category-mpid-listing-v1_202209010600_MD_batched_PID.75816735&itm_medium=CPC&itm_source=tiki-reco&spid=75816735',\n",
       "  'image': ''},\n",
       " {'name': '<h3>Smart Tivi Qled The Frame Samsung 4K 55 inch QA55LS03A</h3>',\n",
       "  'price': '18.600.000 ₫',\n",
       "  'product_url': 'https://tiki.vn/smart-tivi-qled-the-frame-samsung-4k-55-inch-qa55ls03a-p88078057.html?itm_campaign=tiki-reco_UNK_DT_UNK_UNK_tiki-listing_UNK_p-category-mpid-listing-v1_202209010600_MD_batched_PID.88078058&itm_medium=CPC&itm_source=tiki-reco&spid=88078058',\n",
       "  'image': ''},\n",
       " {'name': '<h3>Tủ lạnh Samsung Inverter 280 lít RB27N4010S8/SV</h3>',\n",
       "  'price': '8.670.000 ₫',\n",
       "  'product_url': 'https://tiki.vn/tu-lanh-samsung-inverter-280-lit-rb27n4010s8-sv-p4444269.html?itm_campaign=tiki-reco_UNK_DT_UNK_UNK_tiki-listing_UNK_p-category-mpid-listing-v1_202209010600_MD_batched_PID.4444271&itm_medium=CPC&itm_source=tiki-reco&spid=4444271',\n",
       "  'image': ''},\n",
       " {'name': '<h3>Android Tivi Box Xiaomi Mibox S 4K Global Quốc Tế - Hàng Chính Hãng</h3>',\n",
       "  'price': '1.520.000 ₫',\n",
       "  'product_url': 'https://tiki.vn/android-tivi-box-xiaomi-mibox-s-4k-global-quoc-te-android-8-1-hang-chinh-hang-p7749111.html?itm_campaign=tiki-reco_UNK_DT_UNK_UNK_tiki-listing_UNK_p-category-mpid-listing-v1_202209010600_MD_batched_PID.7749112&itm_medium=CPC&itm_source=tiki-reco&spid=7749112',\n",
       "  'image': ''},\n",
       " {'name': '<h3>Máy lạnh Sharp Inverter 1 HP AH-X9XEW - Chỉ giao tại HCM</h3>',\n",
       "  'price': '6.249.000 ₫',\n",
       "  'product_url': 'https://tiki.vn/may-lanh-sharp-inverter-1-hp-ah-x9xew-chi-giao-tai-hcm-p47126547.html?itm_campaign=tiki-reco_UNK_DT_UNK_UNK_tiki-listing_UNK_p-category-mpid-listing-v1_202209010600_MD_batched_PID.165987883&itm_medium=CPC&itm_source=tiki-reco&spid=165987883',\n",
       "  'image': ''},\n",
       " {'name': '<h3>Smart Tivi Samsung 4K 50 inch UA50AU7700</h3>',\n",
       "  'price': '11.330.000 ₫',\n",
       "  'product_url': 'https://tiki.vn/smart-tivi-samsung-4k-50-inch-ua50au7700-p93088617.html?itm_campaign=tiki-reco_UNK_DT_UNK_UNK_tiki-listing_UNK_p-category-mpid-listing-v1_202209010600_MD_batched_PID.93925225&itm_medium=CPC&itm_source=tiki-reco&spid=93925225',\n",
       "  'image': ''},\n",
       " {'name': '<h3>Máy giặt Toshiba Inverter 8.5Kg TW-BK95S2V(WK) - Chỉ Giao Tại HCM</h3>',\n",
       "  'price': '6.990.000 ₫',\n",
       "  'product_url': 'https://tiki.vn/may-giat-toshiba-inverter-8-5kg-tw-bk95s2v-wk-chi-giao-tai-hcm-p77925952.html?itm_campaign=tiki-reco_UNK_DT_UNK_UNK_tiki-listing_UNK_p-category-mpid-listing-v1_202209010600_MD_batched_PID.77925955&itm_medium=CPC&itm_source=tiki-reco&spid=77925955',\n",
       "  'image': ''},\n",
       " {'name': '<h3>Smart Tivi NanoCell LG 4K 55 inch 55NANO86TPA</h3>',\n",
       "  'price': '26.900.000 ₫',\n",
       "  'product_url': 'https://tiki.vn/smart-tivi-nanocell-lg-4k-55-inch-55nano86tpa-p101367775.html?itm_campaign=tiki-reco_UNK_DT_UNK_UNK_tiki-listing_UNK_p-category-mpid-listing-v1_202209010600_MD_batched_PID.140429057&itm_medium=CPC&itm_source=tiki-reco&spid=140429057',\n",
       "  'image': ''},\n",
       " {'name': '<h3>Smart TV HD Coocaa 32 Inch Wifi - Model 32S3U - Hàng chính hãng</h3>',\n",
       "  'price': '3.590.000 ₫',\n",
       "  'product_url': 'https://tiki.vn/smart-tv-hd-coocaa-32-inch-wifi-model-32s3u-hang-chinh-hang-p118537278.html?itm_campaign=tiki-reco_UNK_DT_UNK_UNK_tiki-listing_UNK_p-category-mpid-listing-v1_202209010600_MD_batched_PID.118537282&itm_medium=CPC&itm_source=tiki-reco&spid=118537282',\n",
       "  'image': ''},\n",
       " {'name': '<h3>Loa Thanh LG 2.1ch SP2 (100W) - Hàng chính hãng</h3>',\n",
       "  'price': '1.058.000 ₫',\n",
       "  'product_url': 'https://tiki.vn/loa-thanh-lg-2-1ch-sp2-100w-hang-chinh-hang-p144534656.html?itm_campaign=tiki-reco_UNK_DT_UNK_UNK_tiki-listing_UNK_p-category-mpid-listing-v1_202209010600_MD_batched_PID.171049959&itm_medium=CPC&itm_source=tiki-reco&spid=171049959',\n",
       "  'image': ''},\n",
       " {'name': '<h3>Máy Giặt Samsung Inverter 9 kg WW90T634DLN</h3>',\n",
       "  'price': '13.320.000 ₫',\n",
       "  'product_url': 'https://tiki.vn/may-giat-samsung-inverter-9-kg-ww90t634dln-p108176128.html?itm_campaign=tiki-reco_UNK_DT_UNK_UNK_tiki-listing_UNK_p-category-mpid-listing-v1_202209010600_MD_batched_PID.108176129&itm_medium=CPC&itm_source=tiki-reco&spid=108176129',\n",
       "  'image': ''},\n",
       " {'name': '<h3>Anten thông minh thu sóng DVB T2 + 15m dây cáp + Jack nối dùng cho TiVI và đầu KTS</h3>',\n",
       "  'price': '49.000 ₫',\n",
       "  'product_url': 'https://tiki.vn/anten-thong-minh-thu-song-dvb-t2-15m-day-cap-jack-noi-dung-cho-tivi-va-dau-kts-p48549296.html?itm_campaign=tiki-reco_UNK_DT_UNK_UNK_tiki-listing_UNK_p-category-mpid-listing-v1_202209010600_MD_batched_PID.146764398&itm_medium=CPC&itm_source=tiki-reco&spid=146764398',\n",
       "  'image': ''},\n",
       " {'name': '<h3>Smart Tivi Casper HD 32 inch 32HX6200</h3>',\n",
       "  'price': '4.090.000 ₫',\n",
       "  'product_url': 'https://tiki.vn/smart-tivi-casper-hd-32-inch-32hx6200-p73681047.html?itm_campaign=tiki-reco_UNK_DT_UNK_UNK_tiki-listing_UNK_p-category-mpid-listing-v1_202209010600_MD_batched_PID.76000160&itm_medium=CPC&itm_source=tiki-reco&spid=76000160',\n",
       "  'image': ''}]"
      ]
     },
     "execution_count": 66,
     "metadata": {},
     "output_type": "execute_result"
    }
   ],
   "source": [
    "def get_product_info_from_page(page_url):\n",
    "    global DRIVER\n",
    "\n",
    "    # YOUR CODE HERE\n",
    "\n",
    "    data = []            # Store the info dictionary of each product in this list\n",
    "    DRIVER.get(page_url)                     # Use the driver to get info from the product page\n",
    "    \n",
    "    time.sleep(3)        # Sleep AFTER loading website in order to wait for it to finish\n",
    "\n",
    "    product_elements = DRIVER.find_elements(By.CLASS_NAME, 'product-item') # Get a list of product elements. Print number of products found if desired.\n",
    "    print(len(product_elements))\n",
    "    # Loop through list of product elements, read and add each product info into `data`\n",
    "    for product_item in product_elements:\n",
    "       data.append(get_product_info_single(product_item))\n",
    "                \n",
    "    return data\n",
    "     \n",
    "\n",
    "page_url = MAIN_CATEGORIES[3]['url']\n",
    "get_product_info_from_page(page_url) "
   ]
  },
  {
   "cell_type": "code",
   "execution_count": 84,
   "metadata": {},
   "outputs": [
    {
     "name": "stdout",
     "output_type": "stream",
     "text": [
      "Scraping <div class=\"style__StyledCateName-sc-x9fskq-1 fVbTIP\">Điện Tử</div>\n",
      "Link: https://tiki.vn/dien-tu-dien-lanh/c4221\n",
      "Initiating driver...\n",
      "Finished!\n",
      "35\n"
     ]
    }
   ],
   "source": [
    "cat_idx  = 3 # Pick any category you like by changing the index\n",
    "main_cat = MAIN_CATEGORIES[cat_idx]\n",
    "\n",
    "start_driver(force_restart=True)\n",
    "print('Scraping', main_cat['name'])\n",
    "print('Link:', main_cat['url'])\n",
    "initialize_driver()\n",
    "prod_data = [] # STORE YOUR PRODUCT INFO DICTIONARIES IN HERE\n",
    "\n",
    "DRIVER.get(main_cat['url'])\n",
    "time.sleep(3)\n",
    "product_list_info = DRIVER.find_elements(By.CLASS_NAME, 'product-item')\n",
    "prod_data = get_product_info_from_page(page_url)\n",
    "close_driver()"
   ]
  },
  {
   "cell_type": "code",
   "execution_count": 85,
   "metadata": {},
   "outputs": [
    {
     "data": {
      "text/html": [
       "<div>\n",
       "<style scoped>\n",
       "    .dataframe tbody tr th:only-of-type {\n",
       "        vertical-align: middle;\n",
       "    }\n",
       "\n",
       "    .dataframe tbody tr th {\n",
       "        vertical-align: top;\n",
       "    }\n",
       "\n",
       "    .dataframe thead th {\n",
       "        text-align: right;\n",
       "    }\n",
       "</style>\n",
       "<table border=\"1\" class=\"dataframe\">\n",
       "  <thead>\n",
       "    <tr style=\"text-align: right;\">\n",
       "      <th></th>\n",
       "      <th>name</th>\n",
       "      <th>price</th>\n",
       "      <th>product_url</th>\n",
       "      <th>image</th>\n",
       "    </tr>\n",
       "  </thead>\n",
       "  <tbody>\n",
       "    <tr>\n",
       "      <th>0</th>\n",
       "      <td>&lt;p style=\"background: rgb(242, 242, 242); line...</td>\n",
       "      <td>2.447.000 ₫</td>\n",
       "      <td>https://tka.tiki.vn/pixel/pixel?CLICK=&amp;data=dj...</td>\n",
       "      <td></td>\n",
       "    </tr>\n",
       "    <tr>\n",
       "      <th>1</th>\n",
       "      <td>&lt;p style=\"background: rgb(242, 242, 242); line...</td>\n",
       "      <td>294.000 ₫</td>\n",
       "      <td>https://tka.tiki.vn/pixel/pixel?CLICK=&amp;data=dj...</td>\n",
       "      <td></td>\n",
       "    </tr>\n",
       "    <tr>\n",
       "      <th>2</th>\n",
       "      <td>&lt;p style=\"background: rgb(242, 242, 242); line...</td>\n",
       "      <td>4.190.000 ₫</td>\n",
       "      <td>https://tka.tiki.vn/pixel/pixel?CLICK=&amp;data=dj...</td>\n",
       "      <td></td>\n",
       "    </tr>\n",
       "    <tr>\n",
       "      <th>3</th>\n",
       "      <td>&lt;p style=\"background: rgb(242, 242, 242); line...</td>\n",
       "      <td>549.000 ₫</td>\n",
       "      <td>https://tka.tiki.vn/pixel/pixel?CLICK=&amp;data=dj...</td>\n",
       "      <td></td>\n",
       "    </tr>\n",
       "    <tr>\n",
       "      <th>4</th>\n",
       "      <td>&lt;p style=\"background: rgb(242, 242, 242); line...</td>\n",
       "      <td>489.000 ₫</td>\n",
       "      <td>https://tka.tiki.vn/pixel/pixel?CLICK=&amp;data=dj...</td>\n",
       "      <td></td>\n",
       "    </tr>\n",
       "    <tr>\n",
       "      <th>5</th>\n",
       "      <td>&lt;h3&gt;Apple iPhone 11&lt;/h3&gt;</td>\n",
       "      <td>10.850.000 ₫</td>\n",
       "      <td>https://tiki.vn/apple-iphone-11-p184036446.htm...</td>\n",
       "      <td></td>\n",
       "    </tr>\n",
       "    <tr>\n",
       "      <th>6</th>\n",
       "      <td>&lt;h3&gt;Apple iPhone 13 Pro Max&lt;/h3&gt;</td>\n",
       "      <td>26.990.000 ₫</td>\n",
       "      <td>https://tiki.vn/apple-iphone-13-pro-max-hang-c...</td>\n",
       "      <td></td>\n",
       "    </tr>\n",
       "    <tr>\n",
       "      <th>7</th>\n",
       "      <td>&lt;h3&gt;Apple iPhone 13&lt;/h3&gt;</td>\n",
       "      <td>18.990.000 ₫</td>\n",
       "      <td>https://tiki.vn/apple-iphone-13-hang-chinh-han...</td>\n",
       "      <td></td>\n",
       "    </tr>\n",
       "    <tr>\n",
       "      <th>8</th>\n",
       "      <td>&lt;h3&gt;Apple iPhone 12&lt;/h3&gt;</td>\n",
       "      <td>15.200.000 ₫</td>\n",
       "      <td>https://tiki.vn/apple-iphone-12-hang-chinh-han...</td>\n",
       "      <td></td>\n",
       "    </tr>\n",
       "    <tr>\n",
       "      <th>9</th>\n",
       "      <td>&lt;h3&gt;Cây Cam Ngọt Của Tôi&lt;/h3&gt;</td>\n",
       "      <td>70.200 ₫</td>\n",
       "      <td>https://tiki.vn/cay-cam-ngot-cua-toi-p74021317...</td>\n",
       "      <td></td>\n",
       "    </tr>\n",
       "  </tbody>\n",
       "</table>\n",
       "</div>"
      ],
      "text/plain": [
       "                                                name         price  \\\n",
       "0  <p style=\"background: rgb(242, 242, 242); line...   2.447.000 ₫   \n",
       "1  <p style=\"background: rgb(242, 242, 242); line...     294.000 ₫   \n",
       "2  <p style=\"background: rgb(242, 242, 242); line...   4.190.000 ₫   \n",
       "3  <p style=\"background: rgb(242, 242, 242); line...     549.000 ₫   \n",
       "4  <p style=\"background: rgb(242, 242, 242); line...     489.000 ₫   \n",
       "5                           <h3>Apple iPhone 11</h3>  10.850.000 ₫   \n",
       "6                   <h3>Apple iPhone 13 Pro Max</h3>  26.990.000 ₫   \n",
       "7                           <h3>Apple iPhone 13</h3>  18.990.000 ₫   \n",
       "8                           <h3>Apple iPhone 12</h3>  15.200.000 ₫   \n",
       "9                      <h3>Cây Cam Ngọt Của Tôi</h3>      70.200 ₫   \n",
       "\n",
       "                                         product_url image  \n",
       "0  https://tka.tiki.vn/pixel/pixel?CLICK=&data=dj...        \n",
       "1  https://tka.tiki.vn/pixel/pixel?CLICK=&data=dj...        \n",
       "2  https://tka.tiki.vn/pixel/pixel?CLICK=&data=dj...        \n",
       "3  https://tka.tiki.vn/pixel/pixel?CLICK=&data=dj...        \n",
       "4  https://tka.tiki.vn/pixel/pixel?CLICK=&data=dj...        \n",
       "5  https://tiki.vn/apple-iphone-11-p184036446.htm...        \n",
       "6  https://tiki.vn/apple-iphone-13-pro-max-hang-c...        \n",
       "7  https://tiki.vn/apple-iphone-13-hang-chinh-han...        \n",
       "8  https://tiki.vn/apple-iphone-12-hang-chinh-han...        \n",
       "9  https://tiki.vn/cay-cam-ngot-cua-toi-p74021317...        "
      ]
     },
     "execution_count": 85,
     "metadata": {},
     "output_type": "execute_result"
    }
   ],
   "source": [
    "# SAVE DATA TO CSV FILE\n",
    "import pandas as pd\n",
    "df = pd.DataFrame(data=prod_data, columns=prod_data[0].keys())\n",
    "df.to_csv('tiki_products.csv')\n",
    "\n",
    "n_products_to_view = 10 # Change this as you like to check more products\n",
    "df.head(n_products_to_view)"
   ]
  },
  {
   "cell_type": "code",
   "execution_count": 86,
   "metadata": {},
   "outputs": [
    {
     "name": "stdout",
     "output_type": "stream",
     "text": [
      "<class 'pandas.core.frame.DataFrame'>\n",
      "RangeIndex: 35 entries, 0 to 34\n",
      "Data columns (total 4 columns):\n",
      " #   Column       Non-Null Count  Dtype \n",
      "---  ------       --------------  ----- \n",
      " 0   name         35 non-null     object\n",
      " 1   price        35 non-null     object\n",
      " 2   product_url  35 non-null     object\n",
      " 3   image        35 non-null     object\n",
      "dtypes: object(4)\n",
      "memory usage: 1.2+ KB\n"
     ]
    }
   ],
   "source": [
    "df.info()"
   ]
  }
 ],
 "metadata": {
  "kernelspec": {
   "display_name": "Python 3.8.2 ('venv': venv)",
   "language": "python",
   "name": "python3"
  },
  "language_info": {
   "codemirror_mode": {
    "name": "ipython",
    "version": 3
   },
   "file_extension": ".py",
   "mimetype": "text/x-python",
   "name": "python",
   "nbconvert_exporter": "python",
   "pygments_lexer": "ipython3",
   "version": "3.8.2"
  },
  "orig_nbformat": 4,
  "vscode": {
   "interpreter": {
    "hash": "7f0f0a5bda54a88f8eafd9259a42c924127259bb15ff958c7c019fa136360609"
   }
  }
 },
 "nbformat": 4,
 "nbformat_minor": 2
}
