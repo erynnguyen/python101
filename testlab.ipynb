{
 "cells": [
  {
   "cell_type": "code",
   "execution_count": 1,
   "metadata": {},
   "outputs": [],
   "source": [
    "import re\n",
    "import time\n",
    "import pandas as pd\n",
    "\n",
    "from selenium import webdriver\n",
    "from selenium.webdriver.common.by import By\n",
    "from selenium.common.exceptions import NoSuchElementException"
   ]
  },
  {
   "cell_type": "code",
   "execution_count": 2,
   "metadata": {},
   "outputs": [],
   "source": [
    "# Global driver to use throughout the script\n",
    "DRIVER = None\n",
    "\n",
    "# Wrapper to close driver if its created\n",
    "def close_driver():\n",
    "    global DRIVER\n",
    "    if DRIVER is not None:\n",
    "        DRIVER.close()\n",
    "    DRIVER = None\n",
    "\n",
    "# Function to (re)start driver\n",
    "def start_driver(force_restart=False):\n",
    "    global DRIVER\n",
    "    \n",
    "    if force_restart:\n",
    "        close_driver()\n",
    "    \n",
    "# Setting up the driver\n",
    "options = webdriver.ChromeOptions()\n",
    "options.add_argument('-headless') # we don't want a chrome browser opens, so it will run in the background\n",
    "options.add_argument('-no-sandbox')\n",
    "options.add_argument('-disable-dev-shm-usage')\n",
    "DRIVER = webdriver.Chrome('chromedriver',options=options)"
   ]
  },
  {
   "cell_type": "code",
   "execution_count": 4,
   "metadata": {},
   "outputs": [],
   "source": [
    "def initialize_driver():\n",
    "    global DRIVER\n",
    "    if DRIVER is None:\n",
    "        print('Initiating driver...')\n",
    "        chrome_options = webdriver.ChromeOptions()\n",
    "        chrome_options.add_argument('-headless') \n",
    "        chrome_options.add_argument('-no-sandbox') \n",
    "        DRIVER = webdriver.Chrome('chromedriver', options=chrome_options)  # Create the new chrome browser with specific options\n",
    "        print('Finished!')"
   ]
  },
  {
   "cell_type": "code",
   "execution_count": 5,
   "metadata": {},
   "outputs": [],
   "source": [
    "def close_driver():\n",
    "    global DRIVER\n",
    "    if not DRIVER is None:\n",
    "        DRIVER.quit()\n",
    "\n",
    "    DRIVER = None"
   ]
  },
  {
   "cell_type": "code",
   "execution_count": 6,
   "metadata": {},
   "outputs": [
    {
     "name": "stdout",
     "output_type": "stream",
     "text": [
      "Initiating driver...\n",
      "Finished!\n"
     ]
    }
   ],
   "source": [
    "close_driver()\n",
    "initialize_driver()"
   ]
  },
  {
   "cell_type": "code",
   "execution_count": 7,
   "metadata": {},
   "outputs": [],
   "source": [
    "TIKI = 'https://tiki.vn'\n",
    "DRIVER.get(TIKI)"
   ]
  },
  {
   "cell_type": "code",
   "execution_count": 8,
   "metadata": {},
   "outputs": [
    {
     "data": {
      "text/plain": [
       "'https://tiki.vn/'"
      ]
     },
     "execution_count": 8,
     "metadata": {},
     "output_type": "execute_result"
    }
   ],
   "source": [
    "DRIVER.current_url"
   ]
  },
  {
   "cell_type": "code",
   "execution_count": 10,
   "metadata": {},
   "outputs": [
    {
     "name": "stdout",
     "output_type": "stream",
     "text": [
      "<span class=\"slider\"><a href=\"https://tiki.vn/tikingon\"><div class=\"style__StyledCateName-sc-x9fskq-1 fVbTIP\">Thịt, Rau Củ</div></a><a href=\"https://tiki.vn/bach-hoa-online/c4384\"><div class=\"style__StyledCateName-sc-x9fskq-1 fVbTIP\">Bách Hóa</div></a><a href=\"https://tiki.vn/nha-cua-doi-song/c1883\"><div class=\"style__StyledCateName-sc-x9fskq-1 fVbTIP\">Nhà Cửa</div></a><a href=\"https://tiki.vn/dien-tu-dien-lanh/c4221\"><div class=\"style__StyledCateName-sc-x9fskq-1 fVbTIP\">Điện Tử</div></a><a href=\"https://tiki.vn/thiet-bi-kts-phu-kien-so/c1815\"><div class=\"style__StyledCateName-sc-x9fskq-1 fVbTIP\">Thiết Bị Số</div></a><a href=\"https://tiki.vn/dien-thoai-may-tinh-bang/c1789\"><div class=\"style__StyledCateName-sc-x9fskq-1 fVbTIP\">Điện Thoại</div></a><a href=\"https://tiki.vn/do-choi-me-be/c2549\"><div class=\"style__StyledCateName-sc-x9fskq-1 fVbTIP\">Mẹ &amp; Bé</div></a><a href=\"https://tiki.vn/lam-dep-suc-khoe/c1520\"><div class=\"style__StyledCateName-sc-x9fskq-1 fVbTIP\">Làm Đẹp</div></a><a href=\"https://tiki.vn/dien-gia-dung/c1882\"><div class=\"style__StyledCateName-sc-x9fskq-1 fVbTIP\">Gia Dụng</div></a><a href=\"https://tiki.vn/thoi-trang-nu/c931\"><div class=\"style__StyledCateName-sc-x9fskq-1 fVbTIP\">Thời trang nữ</div></a><a href=\"https://tiki.vn/thoi-trang-nam/c915\"><div class=\"style__StyledCateName-sc-x9fskq-1 fVbTIP\">Thời trang nam</div></a><a href=\"https://tiki.vn/giay-dep-nu/c1703\"><div class=\"style__StyledCateName-sc-x9fskq-1 fVbTIP\">Giày nữ</div></a><a href=\"https://tiki.vn/tui-vi-nu/c976\"><div class=\"style__StyledCateName-sc-x9fskq-1 fVbTIP\">Túi nữ</div></a><a href=\"https://tiki.vn/giay-dep-nam/c1686\"><div class=\"style__StyledCateName-sc-x9fskq-1 fVbTIP\">Giày nam</div></a><a href=\"https://tiki.vn/tui-thoi-trang-nam/c27616\"><div class=\"style__StyledCateName-sc-x9fskq-1 fVbTIP\">Túi nam</div></a><a href=\"https://tiki.vn/balo-va-vali/c6000\"><div class=\"style__StyledCateName-sc-x9fskq-1 fVbTIP\">Balo &amp; Vali</div></a><a href=\"https://tiki.vn/phu-kien-thoi-trang/c27498\"><div class=\"style__StyledCateName-sc-x9fskq-1 fVbTIP\">Phụ kiện</div></a><a href=\"https://tiki.vn/dong-ho-va-trang-suc/c8371\"><div class=\"style__StyledCateName-sc-x9fskq-1 fVbTIP\">Đồng hồ</div></a><a href=\"https://tiki.vn/laptop-may-vi-tinh-linh-kien/c1846\"><div class=\"style__StyledCateName-sc-x9fskq-1 fVbTIP\">Laptop</div></a><a href=\"https://tiki.vn/hang-quoc-te/c17166\"><div class=\"style__StyledCateName-sc-x9fskq-1 fVbTIP\">Quốc Tế</div></a><a href=\"https://tiki.vn/voucher-dich-vu/c11312\"><div class=\"style__StyledCateName-sc-x9fskq-1 fVbTIP\">Voucher</div></a><a href=\"https://tiki.vn/o-to-xe-may-xe-dap/c8594\"><div class=\"style__StyledCateName-sc-x9fskq-1 fVbTIP\">Xe</div></a><a href=\"https://tiki.vn/nha-sach-tiki/c8322\"><div class=\"style__StyledCateName-sc-x9fskq-1 fVbTIP\">Sách</div></a><a href=\"https://tiki.vn/the-thao-da-ngoai/c1975\"><div class=\"style__StyledCateName-sc-x9fskq-1 fVbTIP\">Thể Thao</div></a><a href=\"https://tiki.vn/may-anh/c1801\"><div class=\"style__StyledCateName-sc-x9fskq-1 fVbTIP\">Máy Ảnh</div></a></span>\n"
     ]
    }
   ],
   "source": [
    "#Get all categories from tiki.vn\n",
    "all_categories = DRIVER.find_element(By.CLASS_NAME, 'slider')\n",
    "print(all_categories.get_attribute('outerHTML'))"
   ]
  },
  {
   "cell_type": "code",
   "execution_count": 11,
   "metadata": {},
   "outputs": [
    {
     "data": {
      "text/plain": [
       "25"
      ]
     },
     "execution_count": 11,
     "metadata": {},
     "output_type": "execute_result"
    }
   ],
   "source": [
    "category_name = all_categories.find_elements(By.TAG_NAME, 'a')\n",
    "len(category_name)   "
   ]
  },
  {
   "cell_type": "code",
   "execution_count": 12,
   "metadata": {},
   "outputs": [
    {
     "name": "stdout",
     "output_type": "stream",
     "text": [
      "<div class=\"style__StyledCateName-sc-x9fskq-1 fVbTIP\">Thịt, Rau Củ</div>\n",
      "Thịt, Rau Củ\n"
     ]
    },
    {
     "data": {
      "text/plain": [
       "'https://tiki.vn/tikingon'"
      ]
     },
     "execution_count": 12,
     "metadata": {},
     "output_type": "execute_result"
    }
   ],
   "source": [
    "category_names = all_categories.find_elements(By.TAG_NAME, 'a')\n",
    "len(category_names)  \n",
    "category_name = all_categories.find_elements(By.TAG_NAME, 'a')[0]\n",
    "\n",
    "#category_name.get_attribute('outerHTML')\n",
    "name = category_name.get_attribute('innerHTML')\n",
    "print(name)\n",
    "pattern = r'>(.*)<'\n",
    "n = re.findall(pattern, name)\n",
    "print(n[0])\n",
    "category_name.get_attribute('href')"
   ]
  },
  {
   "cell_type": "code",
   "execution_count": 65,
   "metadata": {},
   "outputs": [
    {
     "ename": "AttributeError",
     "evalue": "'NoneType' object has no attribute 'find_elements'",
     "output_type": "error",
     "traceback": [
      "\u001b[0;31m---------------------------------------------------------------------------\u001b[0m",
      "\u001b[0;31mAttributeError\u001b[0m                            Traceback (most recent call last)",
      "\u001b[1;32m/Users/trang/Documents/github/python101/python101/testlab.ipynb Cell 9\u001b[0m in \u001b[0;36m<cell line: 1>\u001b[0;34m()\u001b[0m\n\u001b[0;32m----> <a href='vscode-notebook-cell:/Users/trang/Documents/github/python101/python101/testlab.ipynb#X11sZmlsZQ%3D%3D?line=0'>1</a>\u001b[0m all_categories_list \u001b[39m=\u001b[39m DRIVER\u001b[39m.\u001b[39;49mfind_elements(By\u001b[39m.\u001b[39mCLASS_NAME, \u001b[39m'\u001b[39m\u001b[39mslider\u001b[39m\u001b[39m'\u001b[39m)\n\u001b[1;32m      <a href='vscode-notebook-cell:/Users/trang/Documents/github/python101/python101/testlab.ipynb#X11sZmlsZQ%3D%3D?line=1'>2</a>\u001b[0m category_names \u001b[39m=\u001b[39m all_categories\u001b[39m.\u001b[39mfind_elements(By\u001b[39m.\u001b[39mTAG_NAME, \u001b[39m'\u001b[39m\u001b[39ma\u001b[39m\u001b[39m'\u001b[39m)\n\u001b[1;32m      <a href='vscode-notebook-cell:/Users/trang/Documents/github/python101/python101/testlab.ipynb#X11sZmlsZQ%3D%3D?line=2'>3</a>\u001b[0m \u001b[39mlen\u001b[39m(category_names)  \n",
      "\u001b[0;31mAttributeError\u001b[0m: 'NoneType' object has no attribute 'find_elements'"
     ]
    }
   ],
   "source": [
    "category_names = all_categories.find_elements(By.TAG_NAME, 'a')\n",
    "len(category_names)  \n",
    "category_name = all_categories.find_elements(By.TAG_NAME, 'a')[0]\n"
   ]
  },
  {
   "cell_type": "code",
   "execution_count": 13,
   "metadata": {},
   "outputs": [
    {
     "data": {
      "text/plain": [
       "{'name': 'Thịt, Rau Củ', 'url': 'https://tiki.vn/tikingon'}"
      ]
     },
     "execution_count": 13,
     "metadata": {},
     "output_type": "execute_result"
    }
   ],
   "source": [
    "# Function to get information from 1 category\n",
    "def main_category_lists(category_name): \n",
    "    category_dict = {'name':'' , 'url':''}\n",
    "    pattern = r'>(.*)<'\n",
    "    name_tag = category_name.get_attribute('innerHTML')\n",
    "    n = re.findall(pattern, name_tag)\n",
    "    category_dict['name'] = n[0]\n",
    "    category_dict['url'] = category_name.get_attribute('href')\n",
    "    return category_dict\n",
    "\n",
    "category_name = all_categories.find_elements(By.TAG_NAME, 'a')[0]\n",
    "main_category_lists(category_name)"
   ]
  },
  {
   "cell_type": "code",
   "execution_count": 14,
   "metadata": {},
   "outputs": [
    {
     "data": {
      "text/plain": [
       "[{'name': 'Thịt, Rau Củ', 'url': 'https://tiki.vn/tikingon'},\n",
       " {'name': 'Bách Hóa', 'url': 'https://tiki.vn/bach-hoa-online/c4384'},\n",
       " {'name': 'Nhà Cửa', 'url': 'https://tiki.vn/nha-cua-doi-song/c1883'},\n",
       " {'name': 'Điện Tử', 'url': 'https://tiki.vn/dien-tu-dien-lanh/c4221'},\n",
       " {'name': 'Thiết Bị Số',\n",
       "  'url': 'https://tiki.vn/thiet-bi-kts-phu-kien-so/c1815'},\n",
       " {'name': 'Điện Thoại',\n",
       "  'url': 'https://tiki.vn/dien-thoai-may-tinh-bang/c1789'},\n",
       " {'name': 'Mẹ &amp; Bé', 'url': 'https://tiki.vn/do-choi-me-be/c2549'},\n",
       " {'name': 'Làm Đẹp', 'url': 'https://tiki.vn/lam-dep-suc-khoe/c1520'},\n",
       " {'name': 'Gia Dụng', 'url': 'https://tiki.vn/dien-gia-dung/c1882'},\n",
       " {'name': 'Thời trang nữ', 'url': 'https://tiki.vn/thoi-trang-nu/c931'},\n",
       " {'name': 'Thời trang nam', 'url': 'https://tiki.vn/thoi-trang-nam/c915'},\n",
       " {'name': 'Giày nữ', 'url': 'https://tiki.vn/giay-dep-nu/c1703'},\n",
       " {'name': 'Túi nữ', 'url': 'https://tiki.vn/tui-vi-nu/c976'},\n",
       " {'name': 'Giày nam', 'url': 'https://tiki.vn/giay-dep-nam/c1686'},\n",
       " {'name': 'Túi nam', 'url': 'https://tiki.vn/tui-thoi-trang-nam/c27616'},\n",
       " {'name': 'Balo &amp; Vali', 'url': 'https://tiki.vn/balo-va-vali/c6000'},\n",
       " {'name': 'Phụ kiện', 'url': 'https://tiki.vn/phu-kien-thoi-trang/c27498'},\n",
       " {'name': 'Đồng hồ', 'url': 'https://tiki.vn/dong-ho-va-trang-suc/c8371'},\n",
       " {'name': 'Laptop',\n",
       "  'url': 'https://tiki.vn/laptop-may-vi-tinh-linh-kien/c1846'},\n",
       " {'name': 'Quốc Tế', 'url': 'https://tiki.vn/hang-quoc-te/c17166'},\n",
       " {'name': 'Voucher', 'url': 'https://tiki.vn/voucher-dich-vu/c11312'},\n",
       " {'name': 'Xe', 'url': 'https://tiki.vn/o-to-xe-may-xe-dap/c8594'},\n",
       " {'name': 'Sách', 'url': 'https://tiki.vn/nha-sach-tiki/c8322'},\n",
       " {'name': 'Thể Thao', 'url': 'https://tiki.vn/the-thao-da-ngoai/c1975'},\n",
       " {'name': 'Máy Ảnh', 'url': 'https://tiki.vn/may-anh/c1801'}]"
      ]
     },
     "execution_count": 14,
     "metadata": {},
     "output_type": "execute_result"
    }
   ],
   "source": [
    "#Function to get information for all categories\n",
    "def get_main_category_list(page_url):\n",
    "    global DRIVER\n",
    "    MAIN_CATEGORIES =[]\n",
    "    DRIVER.get(page_url) \n",
    "    time.sleep(3)\n",
    "    category_names = DRIVER.find_element(By.CLASS_NAME, 'slider').find_elements(By.TAG_NAME, 'a')\n",
    "    for category_name in category_names:\n",
    "        MAIN_CATEGORIES.append(main_category_lists(category_name))\n",
    "    return MAIN_CATEGORIES\n",
    "\n",
    "page_url = 'https://tiki.vn'\n",
    "get_main_category_list(page_url)\n"
   ]
  },
  {
   "cell_type": "code",
   "execution_count": 15,
   "metadata": {},
   "outputs": [
    {
     "name": "stdout",
     "output_type": "stream",
     "text": [
      "[{'name': 'Thịt, Rau Củ', 'url': 'https://tiki.vn/tikingon'}, {'name': 'Bách Hóa', 'url': 'https://tiki.vn/bach-hoa-online/c4384'}, {'name': 'Nhà Cửa', 'url': 'https://tiki.vn/nha-cua-doi-song/c1883'}, {'name': 'Điện Tử', 'url': 'https://tiki.vn/dien-tu-dien-lanh/c4221'}, {'name': 'Thiết Bị Số', 'url': 'https://tiki.vn/thiet-bi-kts-phu-kien-so/c1815'}, {'name': 'Điện Thoại', 'url': 'https://tiki.vn/dien-thoai-may-tinh-bang/c1789'}, {'name': 'Mẹ &amp; Bé', 'url': 'https://tiki.vn/do-choi-me-be/c2549'}, {'name': 'Làm Đẹp', 'url': 'https://tiki.vn/lam-dep-suc-khoe/c1520'}, {'name': 'Gia Dụng', 'url': 'https://tiki.vn/dien-gia-dung/c1882'}, {'name': 'Thời trang nữ', 'url': 'https://tiki.vn/thoi-trang-nu/c931'}, {'name': 'Thời trang nam', 'url': 'https://tiki.vn/thoi-trang-nam/c915'}, {'name': 'Giày nữ', 'url': 'https://tiki.vn/giay-dep-nu/c1703'}, {'name': 'Túi nữ', 'url': 'https://tiki.vn/tui-vi-nu/c976'}, {'name': 'Giày nam', 'url': 'https://tiki.vn/giay-dep-nam/c1686'}, {'name': 'Túi nam', 'url': 'https://tiki.vn/tui-thoi-trang-nam/c27616'}, {'name': 'Balo &amp; Vali', 'url': 'https://tiki.vn/balo-va-vali/c6000'}, {'name': 'Phụ kiện', 'url': 'https://tiki.vn/phu-kien-thoi-trang/c27498'}, {'name': 'Đồng hồ', 'url': 'https://tiki.vn/dong-ho-va-trang-suc/c8371'}, {'name': 'Laptop', 'url': 'https://tiki.vn/laptop-may-vi-tinh-linh-kien/c1846'}, {'name': 'Quốc Tế', 'url': 'https://tiki.vn/hang-quoc-te/c17166'}, {'name': 'Voucher', 'url': 'https://tiki.vn/voucher-dich-vu/c11312'}, {'name': 'Xe', 'url': 'https://tiki.vn/o-to-xe-may-xe-dap/c8594'}, {'name': 'Sách', 'url': 'https://tiki.vn/nha-sach-tiki/c8322'}, {'name': 'Thể Thao', 'url': 'https://tiki.vn/the-thao-da-ngoai/c1975'}, {'name': 'Máy Ảnh', 'url': 'https://tiki.vn/may-anh/c1801'}]\n"
     ]
    }
   ],
   "source": [
    "MAIN_CATEGORIES = get_main_category_list(page_url)\n",
    "print(MAIN_CATEGORIES)"
   ]
  },
  {
   "cell_type": "code",
   "execution_count": 16,
   "metadata": {},
   "outputs": [
    {
     "data": {
      "text/plain": [
       "'https://tiki.vn/dien-tu-dien-lanh/c4221'"
      ]
     },
     "execution_count": 16,
     "metadata": {},
     "output_type": "execute_result"
    }
   ],
   "source": [
    "DRIVER.get(MAIN_CATEGORIES[3]['url'])\n",
    "DRIVER.current_url"
   ]
  },
  {
   "cell_type": "code",
   "execution_count": 17,
   "metadata": {},
   "outputs": [
    {
     "data": {
      "text/plain": [
       "{'name': 'Giá Treo Tivi Góc Xoay Nhập Khẩu North Bayou P4 (32-55inch) ',\n",
       " 'price': '181.800 ₫',\n",
       " 'product_url': 'https://tiki.vn/gia-treo-tivi-goc-xoay-nhap-khau-north-bayou-p4-32-55inch-p4374799.html?itm_campaign=tiki-reco_UNK_DT_UNK_UNK_tiki-listing_UNK_p-category-mpid-listing-v1_202209090600_MD_batched_PID.4374801&itm_medium=CPC&itm_source=tiki-reco&spid=4374801',\n",
       " 'image': ''}"
      ]
     },
     "execution_count": 17,
     "metadata": {},
     "output_type": "execute_result"
    }
   ],
   "source": [
    "# Function to extract product info from the product\n",
    "def get_product_info_single(product_item):\n",
    "    info = {'name':'',\n",
    "            'price':'',\n",
    "            'product_url':'',\n",
    "            'image':''}\n",
    "    product_name_tag = product_item.find_element(By.CLASS_NAME, 'name').get_attribute('innerHTML')\n",
    "    pattern1 = r'>(.*)<'\n",
    "    product_name = re.findall(pattern1, product_name_tag)\n",
    "    try:\n",
    "        info['name'] = product_name[0]\n",
    "          \n",
    "        # get price\n",
    "        info['price'] = product_item.find_element(By.CLASS_NAME, 'price-discount__price').get_attribute('innerHTML')\n",
    "        \n",
    "        # get product link\n",
    "        info['product_url'] = product_item.get_attribute('href')\n",
    "\n",
    "        # get thumbnail url\n",
    "        info['image'] = product_item.find_element(By.CLASS_NAME, 'image-wrapper').find_element(By.TAG_NAME, 'img').get_attribute('src')\n",
    "         \n",
    "    except Exception:\n",
    "        pass\n",
    "\n",
    "    return info\n",
    "\n",
    "product_item = DRIVER.find_elements(By.CLASS_NAME, 'product-item')[35]\n",
    "get_product_info_single(product_item)"
   ]
  },
  {
   "cell_type": "code",
   "execution_count": 18,
   "metadata": {},
   "outputs": [
    {
     "name": "stdout",
     "output_type": "stream",
     "text": [
      "48\n"
     ]
    },
    {
     "data": {
      "text/plain": [
       "[{'name': 'Bộ Bàn tròn Latte Moka Jang In 1201200001-01',\n",
       "  'price': '6.885.000 ₫',\n",
       "  'product_url': 'https://tka.tiki.vn/pixel/pixel?CLICK=&data=djAwMR35xYF-Hmkr912Nh1XIGBNPWa1d6rYdg3I2GJDvLuCKPjViO2VvFGDz8gufTaRe9g2cAdj426QMf649v271EEV8EomudZwBekXp5tnhybpzG6joTclQbw9ed8pZ1efBdOF8UEeChHRWRcZq1HmuOuvhkypm3lmjVWnQe161m-2IPYjlySSniQ6DMfqNBeQ9AoNh7q7dn6rcXn1o2DNcsurcUZYdChQnRAwzstQ2jMUKVcNl2mP9z-MthiO0VHRGjU53lkMqaZGVUmhvn7K8zDfIlcSX3hC2yY7jaXmWqVCwAHRn0PoZFmIbDBEU-fWldOgEcxFpBxzn5zNQtbTeX1rD9HPpr9ohCfuoSjMViE_gNMBfaeyQu6R11gbs__tcQ9wRFIcin4_nCVZTBH9s0cD5HCAb88Xh__xcjKQJKfIzvw9cMBG431Oy-vDv97WhuJrwuY1Jijd5TuS-CKMbVJu9JsivvMedfdoVBoSRQ6i-KFf3FWC_CjLz8S2EBMvNvhrm1S9UkNDX7ydNqXVlfoSxCYzsuVz4tJ1VJ9c2oNxKep6wrCjLbCNle8CPubqAuxU8ai-slrPIsnu1a54B8GXvVdAdhhwnekoxsOntUxKAN_QglBotYo4ytlWDEr39h3JycFrWPOlMtBaxJOb5-hZ1Phw8vo_iIMflhDOCppguj38IeYogWXTXWNtdVU7QuAKqox_qXiAqEFU4VjnKtZoFtQj-uti-1krC85msqmxCATJzO17skUwW7ayN9UU8nr0fVcqsaAUq3tWtV9pyNdzwpNyeUS6gVCNDytPtfa-yInDiKnd69cBDn1bOWGcQEwv50tmvOBuxoj-HiCRQhwGnqrIt3bzgvaDgKyV9XxWfQbHEiDTpgquQz3YfgLkvaffgRmnPzhkJLuTiS5A--JSILHCHVIhJTGNbWrWz-PFbvc1DM3JuNcttpSNH2jUS6BDExf-7qJj_XmvSHm4-vEeh8fpYHwGtIjkNC9WMjnDKO4vZDyfwWwLfuZvmktsCoSgx1AxstYICwH5H-A4CFNTeKveIhCb_5EHILSx73o2yrmKY6ICUjNpLhGZrVT67ZnKnM9YK-2mp4EFkmggNduZqtyYI9_6jHkmZiKMi5ku69WqS56FDx7ZWmuLAofhuoeI39gnNsj9lbPnrXF0wwlGVGKjXJu-khv-7YgAZXgzqukCBFaKRNelDh-4E8E6DJj1CfUAyj5BVOPtErOHTJVLxgjEesr_qpJ8FHxTtG7mgU-M2M6XwudWCdAOe09UX7Y4KK8HuCBsFGzJCw6mY_HTv_y4uIbdXfwNMJ2VhAjfPwp7Dc6PHhmMCyCAo5H-M3OZmz-YEDFOzvJ1E3TqpfTEBvzgsRCx9Urbu3igIw51zWO0Ff5NA_QN2m7PVfQwg3JHIeHiucKv68MqJwyD7hAM44YrYQtTulQyTPx8wypdCuT1N9HD9jq4M316noEA7Lbe5T0BBjUbnGHE3-ufaxHJFkSuXcLA6E2u12ESJWLpjtBaL2Wjw6rSltkPBp0NVF6zjHYJNIasckxcWl7C-C9eFVZnKz1utZsjSgoKmSPbxhVCYmpCG6Y6bB-VFqOCtxO8Jm4g28oETO-ZRJSmi0gx4P9P3dTa8T3vXT-l8t9g99cr3WCImlVUr&pos=1&redirect=https%3A%2F%2Ftiki.vn%2Fbo-ba-n-tron-latte-moka-jang-in-1201200001-01-p114570109.html%3Fspid%3D114570110&reqid=FjtDT7gBXF',\n",
       "  'image': 'https://salt.tikicdn.com/cache/280x280/ts/product/6e/df/fd/1ca047cd7ab4bc516afa14b2abdf40e1.jpg'},\n",
       " {'name': 'Thác khói trầm hương - tặng nụ trầm Cao Cấp - Trầm hương khói ngược - Xông nhà, văn phòng, mùi dễ chịu, không kích mũi - Thiên Mộc Hương',\n",
       "  'price': '57.000 ₫',\n",
       "  'product_url': 'https://tka.tiki.vn/pixel/pixel?CLICK=&data=djAwMY2VRISmBi18_s3Fkn0K8VnQ2NFeAJrdm6DF_mz9ViKh9BYbU6Ue1bLNru_VIAQI9Ia2DdUJ0eo-uM2H36AIknZ99Fh6jlesM--EJGU0NHCf3RuWBTm7d2z3BnhYczfIGfwXORilqiLePt-2YdKZTgBVZ9l23dePDF3dZ-bQhm5hiNLVBIPyGghbTjKLo0Q4MfnKz0x-J5bi4jL0S8C97VtdzYQVWery-O_4Vq2mYAc_7do05LoC15rXtfCeUDue_4QNTLXm9zR1SEO7vEvL-_rHkfF__tf_IuDaxW_irt3UFRZ7ALRlW8BsyKpssheA3IsgAs-3x7jV6sHDHshVhYStIzGK4F_nQ07clkNKlHNrw5hU7Jr5kXzqPqXhOPb7lapPh_szDHXoqlET2fVoL-kRhIvlipIGxprTXa5cgkTYhT-KllzAM-mEGuUSZqDNf7S2QCgT8q-ptRGmM8dC4txx-ORQ2URFZNzBIM0rqtrGzpMGIuQ3p3KyAdaEMU6jUk7EgBCAbBKnHJf04BBEFfkm3PYn3L9AglPuPdjPGkPIt8_GfhJWXbsxdLHamM2ogEOcnWutnbeASndFyxa1nmLExXb_vLIOJibZDX5DwlvLGP10dr5M_qCXGsb-mb-a1HKVZkXu6Jt1P0AJE1htyNs_xm2-O-1x_20dEXRif8Q8Uz0aTT7Q-hsG61Nf_gERTHOXzHhc7yBqWaQexKJezVK-noU3l2SOr00l88-Nq4c4eqQkfX72UIerzxp3jbG6uCgajemGvyuW9qY792-PW70bzKgo9p3fOOSTE6bZyPKYnOkkRZFXaB3ile2T-LbZ0btaP1yWtQd3hEVyB2dsQHdbP3kL_rimQJ-ZQJ4KlNJW9S2uWr4LNpSKq7FN5x6vW0ArYK1VjCTfYSum_WazlPpbAOjbmhXemDb_Vn_A3MxrPvpRlxwCsVpO1cOP3OutkzRv5cpSJMgeUkompzgi9sRFtMV0e6w3WxMJZZYTnyeK3SY9PAp9BgD3j1rC87UAKkI-YwXAHiJjozYxJDykY6N1J2secPoo-nAaK_yQU-yX71Us13-bB_BW8pgn-lFt_3m7JzCOo2eJt8dxiXAZIrWsaLIdNbuIi-4IDw7o3fP_jVvmw7XQ0treabRauIQQS8JTYvcs3iFZUjWhT2VZUaCEYTz7azPBiQNHg4yVgJJVrczNvhOdmSveUU0A2mvbOHe4vCxXXdXJrhXvNW9isXpC0jli1-6zJX5HK2FIY-XrF446TgNZpt7J6R2hxyCKZJxaHj0foacIXWbaedQbwdtUC3YlLMarBFtjdpwPiickFFstRj-hqCAcUZi6eiTbVVbFm-CtFMCyw-8wSAzyrs5cfMI-r5ANAsUdSkV1kYyyjdN3VPNzGvavrDeHYn-kO_v38kzXfGVEfrs-jOMDqXxQ38CVq7uYjbPHTixjMK18NaurkRZK9V-IsMbMQi4p1XU9tFR858PCAM0hz5Dik4vncJFIAyc2dT6pov2M_p1ErIJXvTNkexiZcSfaPtGvCu9hr1fD9NwEC-eguD5RM8_jlWu-SJHkgzsrbXQbMxS2etPp3gUhiuhqXtjAnCfh0sICM02mIMqrqv_71mzM1uhDLUzr5EJurK5cQJYWvKAgmOr1SWGUZvPuhhPHvZKcPT-dDi38Zpj13yfXPnMhhUnzm1n5ejvzys648ne2Cmmc5ARoCKy7oq_OYo0cPigiDxeFlRQ9nwm4WsOXuKaTTqM&pos=2&redirect=https%3A%2F%2Ftiki.vn%2Fthac-khoi-tram-huong-tang-nu-tram-cao-cap-tram-huong-khoi-nguoc-xong-nha-van-phong-mui-de-chiu-khong-kich-mui-thien-moc-huong-p139979908.html%3Fspid%3D139979910&reqid=FjtDT7gBXF',\n",
       "  'image': 'https://salt.tikicdn.com/cache/280x280/ts/product/b8/9a/da/dcd4b6b728947d4c68192276695c6a98.jpg'},\n",
       " {'name': 'Thùng đựng gạo thông minh M&amp;L Royalcare 6068 - bao gồm khay đựng ngũ cốc - chống ẩm mốc côn trùng - đồ gia dụng tiện ích',\n",
       "  'price': '369.000 ₫',\n",
       "  'product_url': 'https://tka.tiki.vn/pixel/pixel?CLICK=&data=djAwMatZ9ZoMjfLtCQ4ovIScKuCVoI2KExEiDg7AdXfO9IW0pZ5lc3px7HpY3yWN-qFwlKL9nHkAfKdTBeSxVfezsbmHOnK1QE4x1AOedfVtUm3ocyrwKz8dErdDutPz6JCyTSCXRvMEKB5hYfdlzyVJry_toCWIpO7m5Rq7G4XNxtsNtC5eAZ8txyhZyMSgJZzrSCiuyr6208fv-jzKSUaE63qnYgYF9QnnB00LBq85Hn5eEvGrHewwLJrhvtWWWabWEPcsEqdF-edYd3mJM0ep-ImO9z50nW-CZL7lAqU8VqsZd_aMdYsAAPr8vpuIAwCiq0PShuDdVqdaCQpqyDMMgW2-TJ8TkI0jIZqT_j908HisWakc_kzAUw-fdj63ta64R-z9v_2VzifB3bGVf6Rvo25YSBuYsfCGqHJLueRyusTJd2CmODbSvjbM6gKuoAbLOAF4bmSpbPWUNV06d7Phs7WXhp7N2p1Ff6xDtzoXM6yge3SufYXx41vrwukxWH1T24G2dPgpk43riT00RCBZBLdM5ZFbIYeFAGvAFPYgturjPfN8kUr_CUPnudFmCicWnv_W4rd3fvFL3g6tTNWcMRWitkg3BGoCU_ZcDT4lwNseFhhBqqAhr5LGzPp2mNxTJjR6p5zn2CXDQGFYkyCNQuU1HFGhhguN19st3yRqmUrnQ2uIYUiyZrNlt4MCbpxWpNhcjRI9G8xA2WryxR0QtBrd7XZBgHuh52BjNO3_S1NiLFkVBeKBzB9IK44Pt1in8YTp0f1VPXvY9gsrbNZczSdIzG_Iu2IQj0mIrJKhylpb3mIyra3SP78Fl_H08qiqmwoUAB9EPSt3NioZspUESHag_RrLGgLXbqr2IVnvsKYT-18xmOIZqwA33E6dxREK93EmcBbG4M9LrgKU1DViAy9Ly5g90HlYXDa66UiEKYCFh1_MIuGuaSq5PUlgP3W9GD9vaBi7Jo7BYGS2ebrbimGqkr_CpvrK6R-t7ti50Ln8UEF_VtGF7JDK3xw79are6UGrLgdclPjcpNECqJq1bRaVeZbcsCUrQplHnFE0IyNCygBzi0z5WMJzr5K4aMb9dFqvqfA2akVYNjerco6tLFJ1GwR8TfZkPpaLd-uJl6vIMgN4HbNr1naS3y3uUbn6VbMd7FuVfgFwjlpWW0Rj0Nf164ePw0YUW5fuzDetiBLu45suHJywMyPYPH65pYkVyBFG87PI4JK21Cs-3SuJq7v7FUSR3dtH79zCTwZ_wAbEyQo9-FQSwd3F7fJGAUgcNI1hF_EOLZdtvoDDXnHFGWijmZK0JF0rZgDS1-MvZ7yZxdJbvPNM0IjBZ96Eu0EdNWSMaz20dmmxxv2MAuN6yfWmnY7GofNqWCpCf_dY0gMW0jF7yIHeLIn_SEGhm0GkGcFBY2lWGtZ_bed9-6GdRO4UhRVwBsdSnSZi_kY9UqwGLwR1NCyPIoTU9qCKAuEoFrZWLZhZ9R0RQpLz6I2lu75u0ZIEzHDxHxIq_g1u-xKka0V_JCaCoFep3hQN7TKyd-LMXhl9X2cBmggnWx_ji7V07fC68WE9gsbXYC5q9eoWn8oPJz_Kl1WKIOwQKUqDVazFg9lbbwOM32hQRgfzQPtO1NokGbsSUbZx1FmBLnOG4ZWhr_ZzBIypjKZcsHkYWbscjbuQlS-ToKcXGVpzG2c&pos=3&redirect=https%3A%2F%2Ftiki.vn%2Fthung-dung-gao-thong-minh-m-l-royalcare-6068-bao-gom-khay-dung-ngu-coc-chong-am-moc-con-trung-do-gia-dung-tien-ich-p149617968.html%3Fspid%3D149617976&reqid=FjtDT7gBXF',\n",
       "  'image': 'https://salt.tikicdn.com/cache/280x280/ts/product/d1/57/e8/565f2f09d54d8a51d6d73b67722a6b29.jpg'},\n",
       " {'name': 'Nệm xếp đa năng Goodnight 70x180cm, Nệm gấp văn phòng, Nệm xếp 3 thiết kế gọn nhẹ, kèm túi đựng (Giao màu ngẫu nhiên)',\n",
       "  'price': '319.000 ₫',\n",
       "  'product_url': 'https://tka.tiki.vn/pixel/pixel?CLICK=&data=djAwMYEHFHNRRKHszZCWb34KP6J7GrWi-8ZAJVylAMzBmdqvZo2osi1mMf3o47ArwTHlDvwP6SBAGRD_Ln39d7iZ41wClWsOCJsMQVbRQRZ1ABcirwFYv4wDzt6OUxZ6ZmDdlm2HYpXTi5PWQnsq7OtF6m22v8ubDQrvfk4IQaqZS1T_iMo7yMGIsD4mUm2Zqtby-WbSFBU0ZPRwwRYFDOOdVvozwfKeBuwkSVvYkWsPc7U4DK1gUt7HyxGM71TXfUyB8KB3bTsJN6aF-Q0sUwP4vFmRVktdIRpJXKMDpxFvFMKcacJjVPBUfe9VrRJHoPL1PQ2p65FI723AyrzeWRhI0ICzBXCeMnQ5Mcnb_4R3bydX5ZtKrvsUMyGfZ4PC_oWu2UsvHlU-vy1OM5dmgZDODwf47-7Azp_02LxXlNGMi5PzLDy-fV-P7nG4TWxCrzrxI4YtzmNQHS3UNIc3zxCtNlpNGyVmpZgQf99b3HEkj_ZuKkCHaNQ5XFvLFJGLxx7UVYv34porh-V-r9JLHteNJXALZpPBDHEcIw4Es-jlfj5pfaIafz48fTIODBxce5ZfYdnR6LkLd0qbKv5ThV_o4dFR-Ql2cYIQrFBDuXH5Lz_D-vcdvSs5tl_Knoy4JhkREtMyTuWZUbwn-thmJZlAAsbdYBXLGhGq-OgRFjJegiNA5KQe05LFoKMzjeuKJetZwv9eXsYdAVZ4KzZ-0Xc1-y98zsoJZGeR5mZ58bfz-yZPTCTUhmvtCEfqUO_QZ6fiKXuS1Dxj2F8k0K8j6ffM-ArbTvxN9d-tnPOffL7VRlpHNheiKZ-mpoqDKoPWlddkFuOS7JCjsQEs8GZ_dsFpuXCacG0ZdTLu4qo0i9sdm8gqY1ZSlYBaE_1yjGVf-a28-yNWoTp_FRFF5IDfUTYciM6r-rsxQfh-jfQhVZ14ZCulqNc9GqE8U1eaGBCYor7Is0gHJY_UDZf7LlvUxkCSCDC9CVY_QfGd0MBWiWcsnzwf8FnFWQ8smOGfZbWc5gIBaWipW7EEH1Cmx2evyUJP0phyuqQGYNb5W3d8j_isgfY08vdeY5zWTET_zieauhuRiCxV8J7WCfp09V90mQM_qAsq3CtzGtM4T1SieXHXXzJL-_vDqkc2p_skH5sNUB569QaJLMLuZrmKJJBSgnAI4yA4jYvMd_NYf8oNSgZusDpCc4WCO5DJTr3V8-VkJffce0Ij-hiLt4n3Q5nWC-0sr0anRIeLTBtgmvQWUuDEbc680lCx9MQpVkXQEjBvNMrb42_3s3Hytr74fRTEGCh1nLJB8-LCxPnrCEqq1ufH-CACGQWYFVJhiLVE2xFxjehQV09IP1GwfpcNFMoH4UUlQIcjAK0hkShEstfW9lQb2NBb3LHG5vfvSSe2Y-lPSqSUQae23IekML1LaFHnvjLTH5JC2ga9YmVbla_EBtjpcsT5qL9UcP7QuAhSXln6ltkoALlFo9fPK2gIrSe8o6UIqtoYHIgbld0QZ_TWyGnMdpp1oofRGZW5vw353dOpxHBnhp-jKTyekH4QuUUsKnBBDs4xUsT1286XoTTGGu91NuLEFTIvzJllCj4KpA9C1F6IY1A0w8tjbRmW3fj34g6Xam84HRThxmqlTAVzGOQqQy1xGO1s5mucHdG-Mvj-WqnRpDKJLtYomqyjRJh-XKcqoZUCbZIWsj8GCRSUeG_SJofyZZyeqlOQjSe-9WVhakQRBv109FOskDnhxEJ1ERFcoEp96g&pos=4&redirect=https%3A%2F%2Ftiki.vn%2Fnem-xep-da-nang-goodnight-70x180cm-nem-gap-van-phong-nem-xep-3-thiet-ke-gon-nhe-kem-tui-dung-giao-mau-ngau-nhien-p117318253.html%3Fspid%3D117318254&reqid=FjtDT7gBXF',\n",
       "  'image': 'https://salt.tikicdn.com/cache/280x280/ts/product/26/bd/8b/1a453c0eced3d6a957ba8f7b3976935f.jpg'},\n",
       " {'name': 'Đế Chống Rung Lắc Máy Giặt Proki Dùng Cho Mọi Loại Máy Giặt, bàn ghế, máy lọc nước mẫu mới, Chân Kê Máy Giặt Chống Rung chống ồn Tăng tuổi thọ, đệm chống rung máy giặt siêu êm, không tiếng động',\n",
       "  'price': '104.000 ₫',\n",
       "  'product_url': 'https://tiki.vn/de-chong-rung-lac-may-giat-proki-dung-cho-moi-loai-may-giat-ban-ghe-may-loc-nuoc-mau-moi-2022-chan-ke-may-giat-chong-rung-chong-on-tang-tuoi-tho-dem-chong-rung-may-giat-sieu-em-khong-tieng-dong-p177999497.html?itm_campaign=tiki-reco_UNK_DT_UNK_UNK_tiki-listing_UNK_rulebase-tiki-listing-boost-astra-day_UNK_RB_batched_PID.177999499&itm_medium=CPC&itm_source=tiki-reco&spid=177999499',\n",
       "  'image': ''},\n",
       " {'name': '6 lõi thay thế cho cây lăn bụi',\n",
       "  'price': '36.790 ₫',\n",
       "  'product_url': 'https://tiki.vn/6-loi-thay-the-cho-cay-lan-bui-p47296701.html?itm_campaign=tiki-reco_UNK_DT_UNK_UNK_tiki-listing_UNK_rulebase-tiki-listing-boost-astra-day_UNK_RB_batched_PID.171093148&itm_medium=CPC&itm_source=tiki-reco&spid=171093148',\n",
       "  'image': ''},\n",
       " {'name': 'Móc Treo Quần Áo Inox 7 Móc (Không Gỉ Sét)',\n",
       "  'price': '29.500 ₫',\n",
       "  'product_url': 'https://tiki.vn/moc-treo-quan-ao-inox-7-moc-khong-gi-set-p3969375.html?itm_campaign=tiki-reco_UNK_DT_UNK_UNK_tiki-listing_UNK_rulebase-tiki-listing-boost-astra-day_UNK_RB_batched_PID.4273829&itm_medium=CPC&itm_source=tiki-reco&spid=4273829',\n",
       "  'image': ''},\n",
       " {'name': 'giá treo quần áo thanh đơn- gỗ thông tự nhiên',\n",
       "  'price': '127.000 ₫',\n",
       "  'product_url': 'https://tiki.vn/gia-treo-quan-ao-thanh-don-go-thong-tu-nhien-p109651499.html?itm_campaign=tiki-reco_UNK_DT_UNK_UNK_tiki-listing_UNK_rulebase-tiki-listing-boost-astra-day_UNK_RB_batched_PID.126871784&itm_medium=CPC&itm_source=tiki-reco&spid=126871784',\n",
       "  'image': ''},\n",
       " {'name': 'Giàn phơi để sàn - Giá phơi đồ có kệ phơi giày, vớ - NKT815B',\n",
       "  'price': '1.069.000 ₫',\n",
       "  'product_url': 'https://tiki.vn/gian-phoi-de-san-gia-phoi-do-co-ke-phoi-giay-vo-nkt815b-p77015519.html?itm_campaign=tiki-reco_UNK_DT_UNK_UNK_tiki-listing_UNK_rulebase-tiki-listing-boost-astra-day_UNK_RB_batched_PID.95478072&itm_medium=CPC&itm_source=tiki-reco&spid=95478072',\n",
       "  'image': ''},\n",
       " {'name': 'Giàn phơi, kệ phơi đồ Inox xếp gọn có bánh xe - Chính hãng NIKITA 818ABX',\n",
       "  'price': '1.065.000 ₫',\n",
       "  'product_url': 'https://tiki.vn/gian-phoi-ke-phoi-do-inox-xep-gon-co-banh-xe-chinh-hang-nikita-818abx-p77118111.html?itm_campaign=tiki-reco_UNK_DT_UNK_UNK_tiki-listing_UNK_rulebase-tiki-listing-boost-astra-day_UNK_RB_batched_PID.95477932&itm_medium=CPC&itm_source=tiki-reco&spid=95477932',\n",
       "  'image': ''},\n",
       " {'name': 'Giàn phơi quần áo xếp gọn - Giàn phơi thông minh gắn tường - Chính hãng NIKITA',\n",
       "  'price': '1.049.000 ₫',\n",
       "  'product_url': 'https://tiki.vn/gian-phoi-quan-ao-xep-gon-gian-phoi-thong-minh-gan-tuong-chinh-hang-nikita-p88082837.html?itm_campaign=tiki-reco_UNK_DT_UNK_UNK_tiki-listing_UNK_rulebase-tiki-listing-boost-astra-day_UNK_RB_batched_PID.95474707&itm_medium=CPC&itm_source=tiki-reco&spid=95474707',\n",
       "  'image': ''},\n",
       " {'name': 'Túi Giặt CARDINA Dạng Lưới Đựng Quần Áo, Đồ Lót Chống Biến Dạng Khi Giặt Tiện Lợi TGTM',\n",
       "  'price': '45.000 ₫',\n",
       "  'product_url': 'https://tiki.vn/tui-giat-cardina-dang-luoi-dung-quan-ao-do-lot-chong-bien-dang-khi-giat-tien-loi-tgtm-p145431792.html?itm_campaign=tiki-reco_UNK_DT_UNK_UNK_tiki-listing_UNK_rulebase-tiki-listing-boost-astra-day_UNK_RB_batched_PID.145431793&itm_medium=CPC&itm_source=tiki-reco&spid=145431793',\n",
       "  'image': ''},\n",
       " {'name': 'Bộ cây lau nhà tự vắt thông minh, chổi lau nhà 360 độ, lau sạch khô nhanh - Parroti Pro PR01',\n",
       "  'price': '439.000 ₫',\n",
       "  'product_url': 'https://tiki.vn/bo-cay-lau-nha-tu-vat-thong-minh-choi-lau-nha-360-do-lau-sach-kho-nhanh-parroti-pro-pr01-p53789448.html?itm_campaign=tiki-reco_UNK_DT_UNK_UNK_tiki-listing_UNK_p-category-mpid-listing-v1_202209090600_MD_batched_PID.53789449&itm_medium=CPC&itm_source=tiki-reco&spid=53789449',\n",
       "  'image': ''},\n",
       " {'name': 'Vợt Muỗi Sunhouse SHE-E200 - Vàng',\n",
       "  'price': '76.000 ₫',\n",
       "  'product_url': 'https://tiki.vn/vot-muoi-sunhouse-she-e200-vang-p1657931.html?itm_campaign=tiki-reco_UNK_DT_UNK_UNK_tiki-listing_UNK_p-category-mpid-listing-v1_202209090600_MD_batched_PID.1661971&itm_medium=CPC&itm_source=tiki-reco&spid=1661971',\n",
       "  'image': ''},\n",
       " {'name': 'Bình Giữ Nhiệt Locknlock Bucket Tumbler LHC4269',\n",
       "  'price': '281.000 ₫',\n",
       "  'product_url': 'https://tiki.vn/binh-giu-nhiet-locknlock-bucket-tumbler-lhc4269-p99868980.html?itm_campaign=tiki-reco_UNK_DT_UNK_UNK_tiki-listing_UNK_p-category-mpid-listing-v1_202209090600_MD_batched_PID.99868982&itm_medium=CPC&itm_source=tiki-reco&spid=99868982',\n",
       "  'image': ''},\n",
       " {'name': 'Dụng cụ băm rau củ quả Lock&amp;Lock Quick Chopper',\n",
       "  'price': '95.100 ₫',\n",
       "  'product_url': 'https://tiki.vn/dung-cu-bam-rau-cu-qua-lock-lock-quick-chopper-p58804363.html?itm_campaign=tiki-reco_UNK_DT_UNK_UNK_tiki-listing_UNK_p-category-mpid-listing-v1_202209090600_MD_batched_PID.58804367&itm_medium=CPC&itm_source=tiki-reco&spid=58804367',\n",
       "  'image': ''},\n",
       " {'name': 'Leather care kit - Bộ chăm sóc da Sofa cao cấp Jang In 1401800001-01\\t',\n",
       "  'price': '700.000 ₫',\n",
       "  'product_url': 'https://tka.tiki.vn/pixel/pixel?CLICK=&data=djAwMQiyTl6BpypOEX3x1jSxMw0ayz67faddY-akDXbcewa14cobeLp87TLJQEQcInXkcj3VZjHOKx-0yFmUGIjWL0N7RMCFFIck9V_7lMECxwgDawyBsiQKEBsQJPuzWHCKId22zEFc50lJliHRIjCIqNf1aJmkU8YWxVdIiKOUJ_2dD7-IpfT5yMnbpSd24UI5Lyd9MhupvO1DrLQZf0nnu3n8x5R5Llph9BxI8YCo2cJOJNpfPnILzeKrseXCqvvqFqP5miBT33ZvTpsJbrkJussgNiJHa9Pmby_C18sZav-yBnPO1NKhApL6iauHFYrfu14Q9zczo3y-P-F-N1WH0mMN-sbEn2KmPCHEnT13VCAoKLm6wpSDOmWtX-oPMzY3rsCO1lqxSYWAucfLp1-uFolVOjuAybJZzUGNWoya5Th_dxghKFbVRl9M-tnexQL2DfzdHtapNzRyf-TADtdNufcpjcXHdgSwp2Hu41DLHi_aUUWaPxPZfTnQf9Tdxlq7GTwcIYm5GhY_fsH6fA5VHuWD4AqRmGrzJZKtdIEsiD1pQrPYxBY_vfvtF8FgbwyGoxVObLXaLJ5qrlr9PCS7Do-JdKMUlJbkCxJ5Rsry8We2q-hAEIlV4god_wcHESiqoImSR3UZBmerPYiHVqnBpvy3ofWWfTlFm6ZT_GnNSjIwudfQ7zKcorGHDPnp_98pRZ__hXVtOngJh4-SF1nKDEOvJvUnD62vz50fqJ7UalGtZcQqoNtHOrYkzSbihEoS6CLbqFhGLz065qbog52lNDekpQ2kTeNLJO_yZ81KdpwKnAMlLAkCLKyCzj4ec23gGjerIHruP9OCCBt8zQDRNMj_OpEfckhkkTlGSnMQVgCjiCdTu_bmQ1J5CcQ79bGZ6wYmW68_ANi2WV3b7BeakJwH7lphr64Nr4lVcun2-oYgSyDmHdZfJsghGKh6hcPL0SZuVEIsoKbSNWeNDYWFlDS5-2y85SzDmtFcl7nPbcpghKVGu1XIrMF5HNdutwGXx2stypis23-yN92qWTKc1Q35IWm6lAZGtA45X_XllIJ3nNDGdl1CATzH6YDvYcij_NDqq3BmY0-yFxNrEE-MWhY9OpK4ouiUsh5wxz5Gqm2shs8i8B6amqN4chQTfQxtkGIrxKSWP73Tv2L0Kb16bAbegYcP1Undg3LfOrifgiByYibC8TDjge-hjkhqLaKCHwTVEBrU-3deGnxBYr3vWfwJ4UAXZQOpsu0bUgDp37v2L7XpILTUP5PcwaLaGmF1adsnUiyL155w1SVbeBCGfVixCzHW_wpqULoxSkMro-1FsDhZ-IoDlRyIgZ5MR7ofdQi5BtxA_XSy2NO3KHryZfnvTJsfHHeybuC7-295t0B5WwYzzM8fHTee2ulxVQllGmJMw6i8ove7nlcDDJK7diBnOHO87VmIhnbR1qF4QQHrkT7ekgMy2y95yMqsc7bUT7z2dRfcuGEiit4CnTxa31HJuRVuQRbImbg7WJlBHGzfwvrqiTBRPRMSR3ZlCn9JlOes06fuoR_hfTBtRObVFX8bdIYrGqAXTsscd3EbnZmyVrK6HWnQGP1j13Ta8Rvs_k8LRk3wUlIJ6YeLV-S5bRf6rrp6d8KapD0fkjEQIRnFUC-yhD6mxcmz01pkM-whwDaxZUozY5yjiISkD-we5PVQX0OCJjupm4Ww57tKv4h0xg&pos=17&redirect=https%3A%2F%2Ftiki.vn%2Fleather-care-kit-bo-cham-soc-da-sofa-cao-cap-jang-in-1401800001-01-p182557930.html%3Fspid%3D182557931&reqid=FjtDT7gBXF',\n",
       "  'image': ''},\n",
       " {'name': 'Chổi Cọ Nhà Vệ Sinh Bồn Cầu Toilet Không Dây Đa Năng SENNAI Pin 4000mAh - Hàng Chính Hãng',\n",
       "  'price': '935.700 ₫',\n",
       "  'product_url': 'https://tka.tiki.vn/pixel/pixel?CLICK=&data=djAwMW8SbUHpP_KrAOW02oEgC8AQfELJIx6OL9zy3ReiC4WdGi2zXnxcCzSSQs01B7YzjfazA1LJ4AY9dhNdn84QvjAyVeW70l_N5qhTFThCbf5HaUtXjtQm8TdpDuHNVOg6jKzIEYrENrDC0E6JZAVoI2Ru7G2pvz1713E_7MPMfpldEMkhthWP55zYRgu8TXVpoaXkBzCcY4g7cXtKYrJHn0886fGYw0LtKbGwdZ_jT_OwETl0Zz_bboPxgpFOnLH7ZCkw6TjYLisURNo6XYTJUg38z984Y1LSON8tJ1HVPOrzBdQfU7HH6xzRSOnAonJrmXGI45atQyDYozYAmH2qaTkdLhudbzbu2wAnVfFhlhhxVtf8eLNagqJ0dm48s7UwobF0ZF3FYvn-eGakGMjgJ8J9I9j6-A_pBYEzKufmLU2Zb_XYjpLMIjGL7CNaaRukZIdwDGS_fzbwsa0G64gbNlCDZZwXKgdoEojeTBgipYU5gcRF6OBkwLcqmbO6StQ1yDZ7z_s3HiGdsNgZysxQaPmsBuvO_E2n9E06wSbIQzgYI0UXAsG8ylYS1RpBN20j6xBi_jkW2o1hVoit_IuTxWkyIDUeiwzadjKXQhRi4SJ1mjsfdkwZyx8MRRtgATpBXCEII0fD6lcanJRbVIYFYzZitAWT9t5Y4ypKFYUqA__gBIroUJYAVAg-6bSu1LjvUsg3JSKnBrPRKfdMfTJDanOKkU5CjIGpuClGOplqc7huu6rh2BUTvsI8b2vu5Cx7To-LFAKGhKoFydU_HF-5xJJbibPok4CDrU92hqSykHsO2K3dQ4n-Yj1j0f0cZGvj2quBU6UmjFlnkTgqqGOQgUziJrSYtDXHf1O8XHnlg9Nra0szV_IvBifBZyIsBWclQ4AtLpahz-ZcndcwXD98XkgUKE5jpSGL1Z5hvhMaTIVFifUM7__SVutVrRZYWCRS57lEVKC46MUFsXYI4piLnwquckgYlMjAPOoEm_uQfD5pPIe1uXnIFiLaAkvSaH2A5bkYwj8RWkIqZ61nFHYoFmT4FLiZnGvJmkde5Olbwbe_MrqhGPSBAXWJue5lDgqi96bLmnt6SJ4vj7yqKQzTR0Y8rgC7CpEzXOrHuufmKS3XsOp0pSDzdWMynh2UcnoaVKxEaNusynZJsehu__2qbu2I3ToBoIP7U3Eo4AANX_5nt1zC81eZgu4XhtEE2EmWHBaDlHwY1r8Rlsj2_5X_-NyXnMf2fOApAxqfKMl3H6exp56bvLXlIK_b4IRbL52MY5ZCmBVCex1-EoXzhF8s78C4yL_7G41CTa5x-OgdlfTZyZNj4aaeMjJA9GiwhrICDrajtp9Hm_PguxhFD3K1CIIWMh50XOzToMtgYQRZupIvwArDn0lMRqfMkneiaUaiXmXBB_TXKBVy95AjvHn5DMuIb2ED1wiDMM3M6mmfpizgw8iQlK9BhzfMtxFsS4TNMAym6Aoik1CpLhk28nPxm_wRdmrRiiDacDx6dZ4DfEJBokptV_5SYnvQVHjc9jI9CLq58Kzvs6co1hcixroNJufTraTTQQdO8J98rmDH4JTsIuihX41eNJ6mjrqX8L-tBAI5gWNzXCnynDdwgw86R00yESqRYS-FcWBlc2Zq900qQUfVVJBivtO9oy2PyIs6eeSH6XFEC3D5DcseEKUyYuwTQVu3rTls-ZZ4kfokbnbm-ndZM8mj22Qg2gd3eQ&pos=18&redirect=https%3A%2F%2Ftiki.vn%2Fchoi-co-nha-ve-sinh-bon-cau-toilet-khong-day-da-nang-sennai-pin-4000mah-hang-chinh-hang-p127152344.html%3Fspid%3D127152346&reqid=FjtDT7gBXF',\n",
       "  'image': ''},\n",
       " {'name': 'Kệ Đa Năng Để Lò Vi Sóng INOX Trắng Cao Cấp Chống Han Gỉ Kệ Để Đồ Nặng Siêu Gọn Cho Nhà Bếp VANDO',\n",
       "  'price': '388.000 ₫',\n",
       "  'product_url': 'https://tka.tiki.vn/pixel/pixel?CLICK=&data=djAwMbGJyQ56Tt4OgAg-MEEEoPnr3Rsxzr41nm8W_kSdkGcnM4mmV0bUK-ZWz7c2Mo1hIxPdhzm7AI4OTtD7QItlT3kUnvFRxasQSqgxyXL6YRKQgqagkxEAIEofnCGsh1zPeDIt7wwzztgGL7kzFS5DwPhlOKFo285FY0KfSXePOc6I7dsykia0BGUTZoE8TdCOuSJwGvDmga8nEW-jQ2bmo6Jgq8il_NVcpvpdUioCQNJcEgi6In-_5GMBg88IwZbo4S5Mkg4_UnmlLEWH6MwW6ohTH59pGg1bnlFVz8ceyO_CPdUz0R5PE33xLDPWCtCvufP83JwhCiOjeBJ7dnR6Wr7uLYC1N-vpUoxZBl_DZvEPZmm06bQcLRgr1B-SieFcLQeBUpWOw3d4Yu-HVhVuqtIPbPwWOxf7mRaNUFZKIqumQS1kUNha37-p8FCDmwABfA4Tr7eHXnO9wilGWTCn61bRtCVCs8gd9CdkHv_-vwwKVF0YWUu9ahGSWO2TV-GrU3mj8aqHIqfx7-XgsqBDFQ-cxoA3VzgXX_MW-eGc4WRFM97pawSmLIuU_6hkvCRVjVSK5oMyqdMGpTZFvAtNakoqLbky5gu3xKzp0Q4rGEuhOGtgXZxuBz5FbphSOdQe03Hq-WzLQKJHgHiyehBA_71l65F-oDA8NznQPBdlVeTB36lgugpSskkVmAf85hYfL2RYtiHM6GXINmwsj4qAOcx6_uh1FskdcWSK1DaKnFSaMtbQ8NuYa1ZhHH3WZSXDedP9uDa7EZZ4leEh-tb7clJLPFjwx1-HT-B0VHklRA7fr8wnMxcf-4uZLjTVsLYit1gS0q3XgFLGrdnmKWGmkvE0oxWzsbPdhJmgFRL3VRkGBUlgIOwHsFH5LYijttTSZxf139XBUY1DxT1SnZdkc7kjVezUgt_1L84tASkh_rAzD6OLGOJ5LinjWryn1K86sLhM_qUOLxikoAh1c2ttgILH5xvrUDZOHHYlcdbkH-e-7lVb9_VMMQcJ1QueAkTTwB-HPRmN-IdMl_i1ylIbtYT4YRX28e3taX-n6M22xhPIGha0u4TINnNs51Qve74oDPUHU0kiVAvNSoQAJizNXkXKhSj7Xrn6wS4ODANGW8nhv50T8giypX4tp6IQMxjcAzyLV75hcQCTJwzDeO3W6WlXQqEkVnVAVDaTFZo7IpzqY3jbV1CutiYx29fnOUvapiFu4FLm7OUtdHijmWMo-X3WhfK19RPdEH7hS_b5UpcrzkbgQlUzRYWVRXWnn2OzI1PaiChtbJi_tGTEg9-j8Nwc7zEovXUX4IP_FS7MtfKPUldfc73DWze0tTkTgdkxCvcMWxF7pRD5yfqbydQVvHpny3lbP6v0FaFS31IJOmr-d41NJU_mIDyFAJbCh_3kgjncOkS70puPOa_zSVjFqRZqUxAATjVQtwbCr2IHRsRhDjGjc36XvaNcLo2wh2QtA8A5NxoqS8uuDh73VlWIoT4hslCzX6cdIJmi_rFtpNGuEHBBl8qz0tUmVEvFhEC-MhDf7_f91fPSUGf5egZAv-sUt6y2T95sr0Kw2VXWCqcQ9-PMl8se58bhLRfaDBegArERkelihkhyDjDY920aTR75NALLBs_JIRN-ObFZbEDmisRMqh99VoP0qbMqHlUiMOUBXNHpmzCoiQL_sDsiA8ShlXCkPz-yChOD2-2yQnQM9o0QYNnwIKLLfcm5GFFjngyd3RMU-Wq-fFXEfuhB4taRDu1wra8_sMx_c8CODo5nHtCaJDltySwNp1vDAjE8GrbWuFDbjoO0GHg&pos=19&redirect=https%3A%2F%2Ftiki.vn%2Fke-da-nang-de-lo-vi-song-inox-trang-cao-cap-chong-han-gi-ke-de-do-nang-sieu-gon-cho-nha-bep-vando-p73758944.html%3Fspid%3D73758946&reqid=FjtDT7gBXF',\n",
       "  'image': ''},\n",
       " {'name': 'Chăn hè Microfiber Xám Đậm Everon Lite ELM204 200 x 220cm',\n",
       "  'price': '517.000 ₫',\n",
       "  'product_url': 'https://tka.tiki.vn/pixel/pixel?CLICK=&data=djAwMWNaBgxf38eu7xhaXPqHLXeZfVBrMT-Hi0xH7z-NCQ7BXfh5YGwqoq-R8POfDRDhARznwZL58GcsE_yB3kycEiNJ9ZbUGogjCLBAWDAzOhiCw8Bu95NNKO-192gu1PnvFmjxdTA6cW472Cu5kuP4m25PEkNkpoVAxDiYT_K5N3lSNxU5SFIx7NAgRHNs26f4SJYlWWxoB_drssDFxBkcHDVTwdCCyInkbwOy-kSSUySWzOPdgUYW__sr-Q2Eo7lKaEIfBSnJ4kCxE7juuEdTT-2Hbf00Ha9JtfwCPiOYnWyfES9nOUiTOQvU5DK7kTnzMOvsMWuW_4aevNRXocfTb0Kt2Qncw2D3qcxJ47Uc2_Y8DEBAR8V8toxhYAQq3yrFB2R_a8WJnedHZz6KmL0n_j9aGg0rB2RGM1zSF060IeeXM-RRM2OiRsCWT772jdIFPuTYWhomh6BmqaiP_M1Gu0zDHQGsA_Pj86-yKCH3smT1rjNQMFvw4Cr1k5FvXmmE9uWnrO_542tDsKk_zbHa8Ielvq1sPivKjxFsr6rhP3LCflk2rveLp1uK7Ga3_TEUVnU9sHujsiHSYlrGk_7rVt8WB1q9-F1WHxWABgSTUPpEDtaNUP5EZwvyPtI0IdTgZxkfuwQg8JpI9V5eIoFYtESDLJsua5KX0YHxqIJE-3WLAL2kBTUBV9k5FbP4Bb8GUZeymJMb3mOLLmPbX46BwCDqs7HM5FpC2lgtyE1LfF1L3bfdBbvYRqFzPMAJwMoDvEhx-4TtmTtpP9_2oPn6ie3mbqge0KTYF9l9Oqch5K3Ec6a3iTtw23EoHI9cCEEpKOld7u3dGhNHSKKsHXiKhjUVUptyOk0xhTheFmj32jwdnvkytQwGAM-olcn1mSJzPOemAcnisOgrpzO1s51ZHJPukdV3qjFn2aSijlEeZ8imK2MGS8Y0mEejMY0cNynnt8mnxPvjCBJ8Zgxznjo-sJiclDbWX7HH0Z81PJNJ_2CYjDfC_n6nFc75pvh6oTLFJq01XUPAqDXDyzWKrUt85k8Gco-SZGou7saySIR9lxcRB8gsFw16F38yo-KbIXS5ijJ1PZLKUeCRVIDTHHsaxJPCqIiQuZF7GzuQdGplLNCMoiDTxefAZfnWQcif1nTIoMzXPYSdgJ_H7KRsLOn-ljDXVtngwGdCNacfqeiTrqzai7wexLgxncIxrR6syJKqoELmR8yaIUwK4TqpypLT6O8z45CHTPmwV382j3Z2ax8jLqDeGmOHlhxT4uKnE6AydPG3861KTyK1GrIxV05e2RGzi7HgqepjfQCOmDvqhFXjoXtP292H0Vf1i0R9naBrtzoi2BtTqcb0mlz2w-pgghzr2dlmM28Z99RAslX7zafPTeUPVgBJ4rRTGU3isQj0LraRO7l_bcWUboGYOHtZQu7uaXqFp6kuq_SaicRFGfSKhp4C3g_H6z_crb7mlXlQ6kabAvLZbwmK59ZqFovdGW9KtJ-Nj6RFxXd88clqW9BNAuHpKteTQUcYG3hgL0LTSGXwGSoSQDg2LyIYG8vWvvNNwpdMioxRbXRY58RH-lLRgpW0LWRFpajrAtdbvkQWwtkyFE7ITGPds_1SbpYqo6hEt-s8rvmpirLH8a3KssXppJKiPQaACG-Yz8bP8KkJckR2mK4JylINf1QulNHTeLQUOBhDmcNRz-QpNJrrzM_kyQ&pos=20&redirect=https%3A%2F%2Ftiki.vn%2Fchan-he-microfiber-xam-dam-everon-lite-elm204-200-x-220cm-p115967350.html%3Fspid%3D115967351&reqid=FjtDT7gBXF',\n",
       "  'image': ''},\n",
       " {'name': 'giấy ăn gấu trúc Ycool khăn giấy tre 1 thùng 30 gói 300 tờ siêu dai mềm mại',\n",
       "  'price': '125.000 ₫',\n",
       "  'product_url': 'https://tiki.vn/giay-an-gau-truc-ycool-khan-giay-tre-1-thung-30-goi-300-to-sieu-dai-mem-mai-p70656791.html?itm_campaign=tiki-reco_UNK_DT_UNK_UNK_tiki-listing_UNK_p-category-mpid-listing-v1_202209090600_MD_batched_PID.70656792&itm_medium=CPC&itm_source=tiki-reco&spid=70656792',\n",
       "  'image': ''},\n",
       " {'name': 'Hộp cơm thủy tinh kèm muỗng đũa LocknLock LLG991CL 930ml',\n",
       "  'price': '182.000 ₫',\n",
       "  'product_url': 'https://tiki.vn/hop-com-thuy-tinh-kem-muong-dua-locknlock-llg991cl-930ml-p73125530.html?itm_campaign=tiki-reco_UNK_DT_UNK_UNK_tiki-listing_UNK_p-category-mpid-listing-v1_202209090600_MD_batched_PID.73125532&itm_medium=CPC&itm_source=tiki-reco&spid=73125532',\n",
       "  'image': ''},\n",
       " {'name': 'Bình Giữ Nhiệt Lock&amp;Lock Energetic One-Touch Tumbler LHC3249 - 550ML',\n",
       "  'price': '297.000 ₫',\n",
       "  'product_url': 'https://tiki.vn/binh-giu-nhiet-lock-lock-energetic-one-touch-tumbler-lhc3249-550ml-p83412126.html?itm_campaign=tiki-reco_UNK_DT_UNK_UNK_tiki-listing_UNK_p-category-mpid-listing-v1_202209090600_MD_batched_PID.83412141&itm_medium=CPC&itm_source=tiki-reco&spid=83412141',\n",
       "  'image': ''},\n",
       " {'name': 'Cây chà sàn thông minh cao cấp, chổi chà sàn đa năng 2 trong 1, cọ sàn và gạt nước – Parroti Easy ES02',\n",
       "  'price': '149.000 ₫',\n",
       "  'product_url': 'https://tiki.vn/cay-cha-san-thong-minh-cao-cap-choi-cha-san-da-nang-2-trong-1-co-san-va-gat-nuoc-parroti-easy-es02-p122692850.html?itm_campaign=tiki-reco_UNK_DT_UNK_UNK_tiki-listing_UNK_p-category-mpid-listing-v1_202209090600_MD_batched_PID.122692851&itm_medium=CPC&itm_source=tiki-reco&spid=122692851',\n",
       "  'image': ''},\n",
       " {'name': 'Bình Giữ Nhiệt Bằng Thép Không Gỉ Lock&amp;Lock Vacuum Bottle LHC6180SLV (800ML)',\n",
       "  'price': '348.000 ₫',\n",
       "  'product_url': 'https://tiki.vn/binh-giu-nhiet-bang-thep-khong-gi-lock-lock-vacuum-bottle-lhc6180slv-800ml-p73124602.html?itm_campaign=tiki-reco_UNK_DT_UNK_UNK_tiki-listing_UNK_p-category-mpid-listing-v1_202209090600_MD_batched_PID.73124606&itm_medium=CPC&itm_source=tiki-reco&spid=73124606',\n",
       "  'image': ''},\n",
       " {'name': 'Bình giữ nhiệt Lock&amp;Lock Belt Bottle LHC4267 490ml',\n",
       "  'price': '281.000 ₫',\n",
       "  'product_url': 'https://tiki.vn/binh-giu-nhiet-lock-lock-belt-bottle-lhc4267-490ml-p99621372.html?itm_campaign=tiki-reco_UNK_DT_UNK_UNK_tiki-listing_UNK_p-category-mpid-listing-v1_202209090600_MD_batched_PID.99621374&itm_medium=CPC&itm_source=tiki-reco&spid=99621374',\n",
       "  'image': ''},\n",
       " {'name': 'Cây Lau Nhà Dạng Xịt Nước Lock&amp;Lock ETM472',\n",
       "  'price': '298.000 ₫',\n",
       "  'product_url': 'https://tiki.vn/cay-lau-nha-dang-xit-nuoc-lock-lock-etm472-p2119173.html?itm_campaign=tiki-reco_UNK_DT_UNK_UNK_tiki-listing_UNK_p-category-mpid-listing-v1_202209090600_MD_batched_PID.2130487&itm_medium=CPC&itm_source=tiki-reco&spid=2130487',\n",
       "  'image': ''},\n",
       " {'name': 'Bộ lau nhà xoay 360 độ Sunhouse KS-CL330S',\n",
       "  'price': '284.000 ₫',\n",
       "  'product_url': 'https://tiki.vn/bo-lau-nha-xoay-360-do-sunhouse-ks-cl330s-p71890908.html?itm_campaign=tiki-reco_UNK_DT_UNK_UNK_tiki-listing_UNK_p-category-mpid-listing-v1_202209090600_MD_batched_PID.145696370&itm_medium=CPC&itm_source=tiki-reco&spid=145696370',\n",
       "  'image': ''},\n",
       " {'name': 'Đèn LED Mini Móc Khóa - Đèn Pin COB - Đèn Pin Dã Ngoại - Sạc Type C Tiện Dụng',\n",
       "  'price': '43.000 ₫',\n",
       "  'product_url': 'https://tiki.vn/den-led-mini-moc-khoa-den-pin-cob-den-pin-da-ngoai-sac-type-c-tien-dung-p189339895.html?itm_campaign=tiki-reco_UNK_DT_UNK_UNK_tiki-listing_UNK_p-category-mpid-listing-v1_202209090600_MD_batched_PID.190555831&itm_medium=CPC&itm_source=tiki-reco&spid=190555831',\n",
       "  'image': ''},\n",
       " {'name': 'Chảo chiên chống dính Tefal Light &amp; Clean 26cm, dùng cho bếp ga và hồng ngoại- Hàng chính hãng',\n",
       "  'price': '200.000 ₫',\n",
       "  'product_url': 'https://tiki.vn/chao-chien-chong-dinh-tefal-light-clean-26cm-dung-cho-bep-ga-va-hong-ngoai-hang-chinh-hang-p80617683.html?itm_campaign=tiki-reco_UNK_DT_UNK_UNK_tiki-listing_UNK_p-category-mpid-listing-v1_202209090600_MD_batched_PID.80617684&itm_medium=CPC&itm_source=tiki-reco&spid=80617684',\n",
       "  'image': ''},\n",
       " {'name': 'Combo 10 móc treo đồ dán tường',\n",
       "  'price': '23.868 ₫',\n",
       "  'product_url': 'https://tiki.vn/combo-10-moc-treo-do-dan-tuong-p14453485.html?itm_campaign=tiki-reco_UNK_DT_UNK_UNK_tiki-listing_UNK_p-category-mpid-listing-v1_202209090600_MD_batched_PID.77736338&itm_medium=CPC&itm_source=tiki-reco&spid=77736338',\n",
       "  'image': ''},\n",
       " {'name': 'Bộ Hộp Cơm Giữ Nhiệt Lock&amp;Lock Easy Carry 2L LHC8039 Có Túi (1 Hộp 720ml, 2 Hộp 420ml Kèm 1 Bộ Muỗng Và Nĩa)',\n",
       "  'price': '825.000 ₫',\n",
       "  'product_url': 'https://tiki.vn/bo-hop-com-giu-nhiet-lock-lock-easy-carry-2l-lhc8039-co-tui-1-hop-720ml-2-hop-420ml-kem-1-bo-muong-va-nia-p53583472.html?itm_campaign=tiki-reco_UNK_DT_UNK_UNK_tiki-listing_UNK_p-category-mpid-listing-v1_202209090600_MD_batched_PID.53583476&itm_medium=CPC&itm_source=tiki-reco&spid=53583476',\n",
       "  'image': ''},\n",
       " {'name': 'Kệ Wifi Treo Tường 2 Tầng Không Cần Khoan Để Đầu Thu Kỹ Thuận Số, Remote, Điện Thoại - IG407',\n",
       "  'price': '62.000 ₫',\n",
       "  'product_url': 'https://tiki.vn/ke-wifi-treo-tuong-2-tang-khong-can-khoan-de-dau-thu-ky-thuan-so-remote-dien-thoai-ig407-p169848307.html?itm_campaign=tiki-reco_UNK_DT_UNK_UNK_tiki-listing_UNK_p-category-mpid-listing-v1_202209090600_MD_batched_PID.169848309&itm_medium=CPC&itm_source=tiki-reco&spid=169848309',\n",
       "  'image': ''},\n",
       " {'name': 'Cây lau kính, gạt chùi kính đa năng 2 đầu trong 1 - Parroti Shiny SN01',\n",
       "  'price': '139.000 ₫',\n",
       "  'product_url': 'https://tiki.vn/cay-lau-kinh-gat-chui-kinh-da-nang-2-dau-trong-1-parroti-shiny-sn01-p122700651.html?itm_campaign=tiki-reco_UNK_DT_UNK_UNK_tiki-listing_UNK_p-category-mpid-listing-v1_202209090600_MD_batched_PID.122700652&itm_medium=CPC&itm_source=tiki-reco&spid=122700652',\n",
       "  'image': ''},\n",
       " {'name': 'Ổ cắm điện đa năng kết hợp ổ cắm USB Nakagami chất lượng cao công nghệ Nhật Bản - Màu ngẫu nhiên',\n",
       "  'price': '155.000 ₫',\n",
       "  'product_url': 'https://tiki.vn/o-cam-dien-da-nang-ket-hop-o-cam-usb-nakagami-chat-luong-cao-cong-nghe-nhat-ban-mau-ngau-nhien-p84566545.html?itm_campaign=tiki-reco_UNK_DT_UNK_UNK_tiki-listing_UNK_p-category-mpid-listing-v1_202209090600_MD_batched_PID.84566546&itm_medium=CPC&itm_source=tiki-reco&spid=84566546',\n",
       "  'image': ''},\n",
       " {'name': 'Keo Dán Giày, Dây Nịt Đa Năng Selleys Kwik Grip (50ml)',\n",
       "  'price': '35.000 ₫',\n",
       "  'product_url': 'https://tiki.vn/keo-dan-giay-day-nit-da-nang-selleys-kwik-grip-50ml-p1918591.html?itm_campaign=tiki-reco_UNK_DT_UNK_UNK_tiki-listing_UNK_p-category-mpid-listing-v1_202209090600_MD_batched_PID.1918593&itm_medium=CPC&itm_source=tiki-reco&spid=1918593',\n",
       "  'image': ''},\n",
       " {'name': 'Chăn chần Amando Promo 140x200cm thoáng mát, độ bền cao, không nhăn',\n",
       "  'price': '196.000 ₫',\n",
       "  'product_url': 'https://tiki.vn/chan-chan-amando-promo-140x200cm-thoang-mat-do-ben-cao-khong-nhan-p145311310.html?itm_campaign=tiki-reco_UNK_DT_UNK_UNK_tiki-listing_UNK_p-category-mpid-listing-v1_202209090600_MD_batched_PID.145311311&itm_medium=CPC&itm_source=tiki-reco&spid=145311311',\n",
       "  'image': ''},\n",
       " {'name': 'Đèn Học Chống Cận Thị, Đèn Đọc Sách, Đèn Làm Việc Để Bàn Chống Chói Mắt Lóa Mắt Bảo Vệ Mắt Chống Cận Thị, Cảm Ứng Siêu Sáng - VinBuy',\n",
       "  'price': '185.000 ₫',\n",
       "  'product_url': 'https://tiki.vn/den-hoc-chong-can-thi-den-doc-sach-den-lam-viec-de-ban-chong-choi-mat-loa-mat-bao-ve-mat-chong-can-thi-cam-ung-sieu-sang-vinbuy-p112321595.html?itm_campaign=tiki-reco_UNK_DT_UNK_UNK_tiki-listing_UNK_p-category-mpid-listing-v1_202209090600_MD_batched_PID.112334320&itm_medium=CPC&itm_source=tiki-reco&spid=112334320',\n",
       "  'image': ''},\n",
       " {'name': 'Bình giữ nhiệt inox 304 Elmich EL-8013OL dung tích 480ml',\n",
       "  'price': '161.000 ₫',\n",
       "  'product_url': 'https://tiki.vn/binh-giu-nhiet-inox-304-elmich-el-8013ol-dung-tich-480ml-p120552065.html?itm_campaign=tiki-reco_UNK_DT_UNK_UNK_tiki-listing_UNK_p-category-mpid-listing-v1_202209090600_MD_batched_PID.120552067&itm_medium=CPC&itm_source=tiki-reco&spid=120552067',\n",
       "  'image': ''},\n",
       " {'name': 'Thùng rác treo tủ bếp có nắp đậy thông minh, thùng rác treo tường dán tường, có thanh trượt cửa bếp – Parroti Bin BN01/BIN01',\n",
       "  'price': '189.000 ₫',\n",
       "  'product_url': 'https://tiki.vn/thung-rac-treo-tu-bep-co-nap-day-thong-minh-thung-rac-treo-tuong-dan-tuong-co-thanh-truot-cua-bep-parroti-bin-bn01-p75614459.html?itm_campaign=tiki-reco_UNK_DT_UNK_UNK_tiki-listing_UNK_p-category-mpid-listing-v1_202209090600_MD_batched_PID.75614460&itm_medium=CPC&itm_source=tiki-reco&spid=75614460',\n",
       "  'image': ''},\n",
       " {'name': 'Bộ lau nhà tự vắt thông minh, chổi lau nhà 360 độ, lau sạch khô nhanh - Parroti ProMax PX01',\n",
       "  'price': '539.000 ₫',\n",
       "  'product_url': 'https://tiki.vn/bo-lau-nha-tu-vat-thong-minh-choi-lau-nha-360-do-lau-sach-kho-nhanh-parroti-promax-px01-p119195755.html?itm_campaign=tiki-reco_UNK_DT_UNK_UNK_tiki-listing_UNK_p-category-mpid-listing-v1_202209090600_MD_batched_PID.119195756&itm_medium=CPC&itm_source=tiki-reco&spid=119195756',\n",
       "  'image': ''},\n",
       " {'name': 'Bộ 2 chảo vân đá chống dính Tefal Natura dùng cho bếp ga và hồng ngoại (20cm, 24cm) - Hàng chính hãng',\n",
       "  'price': '344.000 ₫',\n",
       "  'product_url': 'https://tiki.vn/bo-2-chao-van-da-chong-dinh-tefal-natura-dung-cho-bep-ga-va-hong-ngoai-20cm-24cm-hang-chinh-hang-p104991715.html?itm_campaign=tiki-reco_UNK_DT_UNK_UNK_tiki-listing_UNK_p-category-mpid-listing-v1_202209090600_MD_batched_PID.104991716&itm_medium=CPC&itm_source=tiki-reco&spid=104991716',\n",
       "  'image': ''},\n",
       " {'name': 'Đèn LED Mini Móc Khóa - Đèn Pin COB - Đèn Pin Dã Ngoại - Sạc USB Tiện Dụng',\n",
       "  'price': '48.000 ₫',\n",
       "  'product_url': 'https://tiki.vn/den-led-mini-moc-khoa-den-pin-cob-den-pin-da-ngoai-sac-usb-tien-dung-p186202546.html?itm_campaign=tiki-reco_UNK_DT_UNK_UNK_tiki-listing_UNK_p-category-mpid-listing-v1_202209090600_MD_batched_PID.195844727&itm_medium=CPC&itm_source=tiki-reco&spid=195844727',\n",
       "  'image': ''},\n",
       " {'name': 'Ghế chỉnh dáng ngồi đúng - Roichen Hàn Quốc (Made in Korea). Dùng cho Nam, Nữ, Trẻ em. Hàng chính hãng',\n",
       "  'price': '810.000 ₫',\n",
       "  'product_url': 'https://tiki.vn/ghe-chinh-dang-ngoi-dung-roichen-han-quoc-made-in-korea-dung-cho-nam-nu-tre-em-hang-chinh-hang-p164479566.html?itm_campaign=tiki-reco_UNK_DT_UNK_UNK_tiki-listing_UNK_p-category-mpid-listing-v1_202209090600_MD_batched_PID.164479572&itm_medium=CPC&itm_source=tiki-reco&spid=164479572',\n",
       "  'image': ''},\n",
       " {'name': 'Pin nút Panasonic 3V CR-2032 x01 vỉ',\n",
       "  'price': '90.000 ₫',\n",
       "  'product_url': 'https://tiki.vn/pin-nut-panasonic-3v-cr-2032-x01-vi-p17423771.html?itm_campaign=tiki-reco_UNK_DT_UNK_UNK_tiki-listing_UNK_p-category-mpid-listing-v1_202209090600_MD_batched_PID.49089631&itm_medium=CPC&itm_source=tiki-reco&spid=49089631',\n",
       "  'image': ''},\n",
       " {'name': 'Ly nhựa 2 lớp LocknLock kèm ống hút HAP507 750ml',\n",
       "  'price': '106.000 ₫',\n",
       "  'product_url': 'https://tiki.vn/ly-nhua-2-lop-locknlock-kem-ong-hut-hap507-750ml-p56941523.html?itm_campaign=tiki-reco_UNK_DT_UNK_UNK_tiki-listing_UNK_p-category-mpid-listing-v1_202209090600_MD_batched_PID.56941526&itm_medium=CPC&itm_source=tiki-reco&spid=56941526',\n",
       "  'image': ''},\n",
       " {'name': ' Móc INOX 304 Treo Đồ nặng, treo thớt, nồi niêu INOX 304 [CHỐNG NƯỚC, CHỐNG RỈ] Dán Mọi Bề Mặt',\n",
       "  'price': '15.000 ₫',\n",
       "  'product_url': 'https://tiki.vn/moc-inox-304-treo-do-nang-treo-thot-noi-nieu-inox-304-chong-nuoc-chong-ri-dan-moi-be-mat-p127058707.html?itm_campaign=tiki-reco_UNK_DT_UNK_UNK_tiki-listing_UNK_p-category-mpid-listing-v1_202209090600_MD_batched_PID.127058708&itm_medium=CPC&itm_source=tiki-reco&spid=127058708',\n",
       "  'image': ''},\n",
       " {'name': 'Gối Memory Foam 50D Hình Cong Lock&amp;Lock HLW111 (50 x 30 cm) - Trắng',\n",
       "  'price': '282.000 ₫',\n",
       "  'product_url': 'https://tiki.vn/goi-memory-foam-50d-hinh-cong-lock-lock-hlw111-50-x-30-cm-trang-p1399571.html?itm_campaign=tiki-reco_UNK_DT_UNK_UNK_tiki-listing_UNK_p-category-mpid-listing-v1_202209090600_MD_batched_PID.1408697&itm_medium=CPC&itm_source=tiki-reco&spid=1408697',\n",
       "  'image': ''}]"
      ]
     },
     "execution_count": 18,
     "metadata": {},
     "output_type": "execute_result"
    }
   ],
   "source": [
    "# Function to scrape all products from a page\n",
    "def get_product_info_from_page(page_url):\n",
    "    global DRIVER\n",
    "\n",
    "    # YOUR CODE HERE\n",
    "\n",
    "    data = []            # Store the info dictionary of each product in this list\n",
    "    DRIVER.get(page_url)                     # Use the driver to get info from the product page\n",
    "    \n",
    "    time.sleep(3)        # Sleep AFTER loading website in order to wait for it to finish\n",
    "\n",
    "    product_elements = DRIVER.find_elements(By.CLASS_NAME, 'product-item') # Get a list of product elements. Print number of products found if desired.\n",
    "    print(len(product_elements))\n",
    "    # Loop through list of product elements, read and add each product info into `data`\n",
    "    for product_item in product_elements:\n",
    "       data.append(get_product_info_single(product_item))\n",
    "                \n",
    "    return data\n",
    "     \n",
    "\n",
    "page_url = MAIN_CATEGORIES[2]['url']\n",
    "get_product_info_from_page(page_url) "
   ]
  },
  {
   "cell_type": "code",
   "execution_count": 19,
   "metadata": {},
   "outputs": [
    {
     "name": "stdout",
     "output_type": "stream",
     "text": [
      "Scraping Nhà Cửa\n",
      "Link: https://tiki.vn/nha-cua-doi-song/c1883\n",
      "Initiating driver...\n",
      "Finished!\n",
      "48\n"
     ]
    }
   ],
   "source": [
    "cat_idx  = 2 # Pick any category you like by changing the index\n",
    "main_cat = MAIN_CATEGORIES[cat_idx]\n",
    "\n",
    "start_driver(force_restart=True)\n",
    "print('Scraping', main_cat['name'])\n",
    "print('Link:', main_cat['url'])\n",
    "initialize_driver()\n",
    "prod_data = [] # STORE YOUR PRODUCT INFO DICTIONARIES IN HERE\n",
    "\n",
    "DRIVER.get(main_cat['url'])\n",
    "time.sleep(3)\n",
    "product_list_info = DRIVER.find_elements(By.CLASS_NAME, 'product-item')\n",
    "prod_data = get_product_info_from_page(page_url)\n",
    "\n",
    "\n",
    "close_driver() # Close driver when we're done"
   ]
  },
  {
   "cell_type": "code",
   "execution_count": 20,
   "metadata": {},
   "outputs": [
    {
     "data": {
      "text/html": [
       "<div>\n",
       "<style scoped>\n",
       "    .dataframe tbody tr th:only-of-type {\n",
       "        vertical-align: middle;\n",
       "    }\n",
       "\n",
       "    .dataframe tbody tr th {\n",
       "        vertical-align: top;\n",
       "    }\n",
       "\n",
       "    .dataframe thead th {\n",
       "        text-align: right;\n",
       "    }\n",
       "</style>\n",
       "<table border=\"1\" class=\"dataframe\">\n",
       "  <thead>\n",
       "    <tr style=\"text-align: right;\">\n",
       "      <th></th>\n",
       "      <th>name</th>\n",
       "      <th>price</th>\n",
       "      <th>product_url</th>\n",
       "      <th>image</th>\n",
       "    </tr>\n",
       "  </thead>\n",
       "  <tbody>\n",
       "    <tr>\n",
       "      <th>0</th>\n",
       "      <td>Bộ Bàn tròn Latte Moka Jang In 1201200001-01</td>\n",
       "      <td>6.885.000 ₫</td>\n",
       "      <td>https://tka.tiki.vn/pixel/pixel?CLICK=&amp;data=dj...</td>\n",
       "      <td>https://salt.tikicdn.com/cache/280x280/ts/prod...</td>\n",
       "    </tr>\n",
       "    <tr>\n",
       "      <th>1</th>\n",
       "      <td>Thác khói trầm hương - tặng nụ trầm Cao Cấp - ...</td>\n",
       "      <td>57.000 ₫</td>\n",
       "      <td>https://tka.tiki.vn/pixel/pixel?CLICK=&amp;data=dj...</td>\n",
       "      <td>https://salt.tikicdn.com/cache/280x280/ts/prod...</td>\n",
       "    </tr>\n",
       "    <tr>\n",
       "      <th>2</th>\n",
       "      <td>Thùng đựng gạo thông minh M&amp;amp;L Royalcare 60...</td>\n",
       "      <td>369.000 ₫</td>\n",
       "      <td>https://tka.tiki.vn/pixel/pixel?CLICK=&amp;data=dj...</td>\n",
       "      <td>https://salt.tikicdn.com/cache/280x280/ts/prod...</td>\n",
       "    </tr>\n",
       "    <tr>\n",
       "      <th>3</th>\n",
       "      <td>Nệm xếp đa năng Goodnight 70x180cm, Nệm gấp vă...</td>\n",
       "      <td>319.000 ₫</td>\n",
       "      <td>https://tka.tiki.vn/pixel/pixel?CLICK=&amp;data=dj...</td>\n",
       "      <td>https://salt.tikicdn.com/cache/280x280/ts/prod...</td>\n",
       "    </tr>\n",
       "    <tr>\n",
       "      <th>4</th>\n",
       "      <td>Đế Chống Rung Lắc Máy Giặt Proki Dùng Cho Mọi ...</td>\n",
       "      <td>104.000 ₫</td>\n",
       "      <td>https://tiki.vn/de-chong-rung-lac-may-giat-pro...</td>\n",
       "      <td></td>\n",
       "    </tr>\n",
       "    <tr>\n",
       "      <th>5</th>\n",
       "      <td>6 lõi thay thế cho cây lăn bụi</td>\n",
       "      <td>36.790 ₫</td>\n",
       "      <td>https://tiki.vn/6-loi-thay-the-cho-cay-lan-bui...</td>\n",
       "      <td></td>\n",
       "    </tr>\n",
       "    <tr>\n",
       "      <th>6</th>\n",
       "      <td>Móc Treo Quần Áo Inox 7 Móc (Không Gỉ Sét)</td>\n",
       "      <td>29.500 ₫</td>\n",
       "      <td>https://tiki.vn/moc-treo-quan-ao-inox-7-moc-kh...</td>\n",
       "      <td></td>\n",
       "    </tr>\n",
       "    <tr>\n",
       "      <th>7</th>\n",
       "      <td>giá treo quần áo thanh đơn- gỗ thông tự nhiên</td>\n",
       "      <td>127.000 ₫</td>\n",
       "      <td>https://tiki.vn/gia-treo-quan-ao-thanh-don-go-...</td>\n",
       "      <td></td>\n",
       "    </tr>\n",
       "    <tr>\n",
       "      <th>8</th>\n",
       "      <td>Giàn phơi để sàn - Giá phơi đồ có kệ phơi giày...</td>\n",
       "      <td>1.069.000 ₫</td>\n",
       "      <td>https://tiki.vn/gian-phoi-de-san-gia-phoi-do-c...</td>\n",
       "      <td></td>\n",
       "    </tr>\n",
       "    <tr>\n",
       "      <th>9</th>\n",
       "      <td>Giàn phơi, kệ phơi đồ Inox xếp gọn có bánh xe ...</td>\n",
       "      <td>1.065.000 ₫</td>\n",
       "      <td>https://tiki.vn/gian-phoi-ke-phoi-do-inox-xep-...</td>\n",
       "      <td></td>\n",
       "    </tr>\n",
       "  </tbody>\n",
       "</table>\n",
       "</div>"
      ],
      "text/plain": [
       "                                                name        price  \\\n",
       "0      Bộ Bàn tròn Latte Moka Jang In 1201200001-01  6.885.000 ₫   \n",
       "1  Thác khói trầm hương - tặng nụ trầm Cao Cấp - ...     57.000 ₫   \n",
       "2  Thùng đựng gạo thông minh M&amp;L Royalcare 60...    369.000 ₫   \n",
       "3  Nệm xếp đa năng Goodnight 70x180cm, Nệm gấp vă...    319.000 ₫   \n",
       "4  Đế Chống Rung Lắc Máy Giặt Proki Dùng Cho Mọi ...    104.000 ₫   \n",
       "5                     6 lõi thay thế cho cây lăn bụi     36.790 ₫   \n",
       "6         Móc Treo Quần Áo Inox 7 Móc (Không Gỉ Sét)     29.500 ₫   \n",
       "7      giá treo quần áo thanh đơn- gỗ thông tự nhiên    127.000 ₫   \n",
       "8  Giàn phơi để sàn - Giá phơi đồ có kệ phơi giày...  1.069.000 ₫   \n",
       "9  Giàn phơi, kệ phơi đồ Inox xếp gọn có bánh xe ...  1.065.000 ₫   \n",
       "\n",
       "                                         product_url  \\\n",
       "0  https://tka.tiki.vn/pixel/pixel?CLICK=&data=dj...   \n",
       "1  https://tka.tiki.vn/pixel/pixel?CLICK=&data=dj...   \n",
       "2  https://tka.tiki.vn/pixel/pixel?CLICK=&data=dj...   \n",
       "3  https://tka.tiki.vn/pixel/pixel?CLICK=&data=dj...   \n",
       "4  https://tiki.vn/de-chong-rung-lac-may-giat-pro...   \n",
       "5  https://tiki.vn/6-loi-thay-the-cho-cay-lan-bui...   \n",
       "6  https://tiki.vn/moc-treo-quan-ao-inox-7-moc-kh...   \n",
       "7  https://tiki.vn/gia-treo-quan-ao-thanh-don-go-...   \n",
       "8  https://tiki.vn/gian-phoi-de-san-gia-phoi-do-c...   \n",
       "9  https://tiki.vn/gian-phoi-ke-phoi-do-inox-xep-...   \n",
       "\n",
       "                                               image  \n",
       "0  https://salt.tikicdn.com/cache/280x280/ts/prod...  \n",
       "1  https://salt.tikicdn.com/cache/280x280/ts/prod...  \n",
       "2  https://salt.tikicdn.com/cache/280x280/ts/prod...  \n",
       "3  https://salt.tikicdn.com/cache/280x280/ts/prod...  \n",
       "4                                                     \n",
       "5                                                     \n",
       "6                                                     \n",
       "7                                                     \n",
       "8                                                     \n",
       "9                                                     "
      ]
     },
     "execution_count": 20,
     "metadata": {},
     "output_type": "execute_result"
    }
   ],
   "source": [
    "# SAVE DATA TO CSV FILE\n",
    "df = pd.DataFrame(data=prod_data, columns=prod_data[0].keys())\n",
    "df.to_csv('tiki_products.csv')\n",
    "\n",
    "n_products_to_view = 10 # Change this as you like to check more products\n",
    "df.head(n_products_to_view)"
   ]
  },
  {
   "cell_type": "code",
   "execution_count": 21,
   "metadata": {},
   "outputs": [
    {
     "name": "stdout",
     "output_type": "stream",
     "text": [
      "<class 'pandas.core.frame.DataFrame'>\n",
      "RangeIndex: 48 entries, 0 to 47\n",
      "Data columns (total 4 columns):\n",
      " #   Column       Non-Null Count  Dtype \n",
      "---  ------       --------------  ----- \n",
      " 0   name         48 non-null     object\n",
      " 1   price        48 non-null     object\n",
      " 2   product_url  48 non-null     object\n",
      " 3   image        48 non-null     object\n",
      "dtypes: object(4)\n",
      "memory usage: 1.6+ KB\n"
     ]
    }
   ],
   "source": [
    "# Overview of the table\n",
    "df.info()"
   ]
  }
 ],
 "metadata": {
  "kernelspec": {
   "display_name": "Python 3.8.2 ('venv': venv)",
   "language": "python",
   "name": "python3"
  },
  "language_info": {
   "codemirror_mode": {
    "name": "ipython",
    "version": 3
   },
   "file_extension": ".py",
   "mimetype": "text/x-python",
   "name": "python",
   "nbconvert_exporter": "python",
   "pygments_lexer": "ipython3",
   "version": "3.8.2"
  },
  "orig_nbformat": 4,
  "vscode": {
   "interpreter": {
    "hash": "7f0f0a5bda54a88f8eafd9259a42c924127259bb15ff958c7c019fa136360609"
   }
  }
 },
 "nbformat": 4,
 "nbformat_minor": 2
}
