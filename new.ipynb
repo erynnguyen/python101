{
 "cells": [
  {
   "cell_type": "code",
   "execution_count": 66,
   "metadata": {},
   "outputs": [
    {
     "name": "stdout",
     "output_type": "stream",
     "text": [
      "8\n"
     ]
    }
   ],
   "source": [
    "def heaviest_item(receipt):\n",
    "  total_weight = 0\n",
    "  temp = 0\n",
    "  for x, y in receipt.items():\n",
    "    receipt[x]['total_weight'] = receipt[x]['unit_weight'] * receipt[x]['number_of_units']\n",
    "    total_weight = receipt[x]['total_weight']\n",
    "    if total_weight > temp:\n",
    "      temp = total_weight\n",
    "  return temp\n",
    "    \n",
    "receipt_1 = {\n",
    "    'milk':   {'unit_weight': 1, 'unit_price': 10, 'number_of_units': 3},\n",
    "    'rice':   {'unit_weight': 2, 'unit_price': 5, 'number_of_units': 4},\n",
    "    'cookie': {'unit_weight': 0.2, 'unit_price': 2, 'number_of_un its': 10},\n",
    "    'sugar':  {'unit_weight': 0.5, 'unit_price': 7, 'number_of_units': 2},                                  \n",
    "     }\n",
    "print(heaviest_item(receipt_1))\n",
    "\n"
   ]
  },
  {
   "cell_type": "code",
   "execution_count": null,
   "metadata": {},
   "outputs": [],
   "source": [
    "def heaviest_item(receipt):\n",
    "    \n",
    "\n",
    "\n",
    "receipt_2 = {\n",
    "    'milk':   {'unit_weight': 1, 'unit_price': 10, 'number_of_units': 3},\n",
    "    'rice':   {'unit_weight': 2, 'unit_price': 5, 'number_of_units': 4},\n",
    "    'cookie': {'unit_weight': 0.2, 'unit_price': 2, 'number_of_units': 10},\n",
    "    'sugar':  {'unit_weight': 0.5, 'unit_price': 7, 'number_of_units': 2},\n",
    "     }"
   ]
  },
  {
   "cell_type": "code",
   "execution_count": 48,
   "metadata": {},
   "outputs": [
    {
     "name": "stdout",
     "output_type": "stream",
     "text": [
      "Joh*_D03+14/12\n"
     ]
    }
   ],
   "source": [
    "def extract_email(email, bool):\n",
    "  x = email.find('@')\n",
    "  result = ''\n",
    "  username = email[:x]\n",
    "  domain = email[x+1:]\n",
    "  if bool == True:\n",
    "    result = username\n",
    "  else:\n",
    "    result = domain\n",
    "  return result\n",
    "\n",
    "print(extract_email('Joh*_D03+14/12@obviousscam.com', True))\n",
    "\n",
    "\n",
    "\n",
    "\n",
    "    "
   ]
  },
  {
   "cell_type": "code",
   "execution_count": 57,
   "metadata": {},
   "outputs": [
    {
     "name": "stdout",
     "output_type": "stream",
     "text": [
      "3\n"
     ]
    }
   ],
   "source": [
    "def count_min(my_list):\n",
    "    temp = 0\n",
    "    for i in range(len(my_list)-1):\n",
    "        if my_list[i] < my_list[i +1]:\n",
    "            temp = my_list[i]\n",
    "    return my_list.count(temp)\n",
    "\n",
    "my_list_1 = [0, 1, 3, 2, 8, 0, 9, 10, 0, 5]\n",
    "print(count_min(my_list_1))\n"
   ]
  },
  {
   "cell_type": "code",
   "execution_count": 55,
   "metadata": {},
   "outputs": [
    {
     "name": "stdout",
     "output_type": "stream",
     "text": [
      "10\n"
     ]
    }
   ],
   "source": [
    "def item_calculator(item_1, bool):\n",
    "    total_price = item_1.get('unit_price') * item_1.get('number_of_units')\n",
    "    total_weight = item_1.get('unit_weight') * item_1.get('number_of_units')\n",
    "    result = 0\n",
    "    if bool == True:\n",
    "        result = total_weight\n",
    "    else:\n",
    "        result = total_price\n",
    "    return result\n",
    "\n",
    "item_1 = {'unit_weight': 1.5, 'unit_price': 2, 'number_of_units': 5}\n",
    "print(item_calculator(item_1, False))\n",
    "\n"
   ]
  },
  {
   "cell_type": "code",
   "execution_count": 53,
   "metadata": {},
   "outputs": [
    {
     "name": "stdout",
     "output_type": "stream",
     "text": [
      "7.5\n"
     ]
    }
   ],
   "source": [
    "item_1 = {'unit_weight': 1.5, 'unit_price': 2, 'number_of_units': 5}\n",
    "result = item_1.get('unit_weight') * item_1.get('number_of_units')\n",
    "print(result)"
   ]
  },
  {
   "cell_type": "code",
   "execution_count": null,
   "metadata": {},
   "outputs": [],
   "source": [
    "# dictionary\n",
    "# key-value\n",
    "#khởi tạo dictionary rỗng:\n",
    "my_dict = {}\n",
    "# thêm 1 cặp key-value vào dictionary\n",
    "my_dict['my_key'] = 'new_value'#nếu my_key đã có sẵn trong dictionary thì python sẽ gán 1 item mới \n",
    "\n",
    "#loop with dictionary\n",
    "for item in my_dict: ## cách 1: item chính là key\n",
    "    print(item) # không rõ nghĩa - ko nên dùng\n",
    "for item in my_dict.keys(): #nên dùng\n",
    "    print(key)\n",
    "for value in my_dict.values():#nên dùng\n",
    "    print(value)\n",
    "for key, value in my_dict.item():#nên dùng\n",
    "    print(key, value)"
   ]
  },
  {
   "cell_type": "markdown",
   "metadata": {},
   "source": [
    "# This is demo"
   ]
  }
 ],
 "metadata": {
  "kernelspec": {
   "display_name": "Python 3.8.2 ('venv': venv)",
   "language": "python",
   "name": "python3"
  },
  "language_info": {
   "codemirror_mode": {
    "name": "ipython",
    "version": 3
   },
   "file_extension": ".py",
   "mimetype": "text/x-python",
   "name": "python",
   "nbconvert_exporter": "python",
   "pygments_lexer": "ipython3",
   "version": "3.8.2"
  },
  "orig_nbformat": 4,
  "vscode": {
   "interpreter": {
    "hash": "7f0f0a5bda54a88f8eafd9259a42c924127259bb15ff958c7c019fa136360609"
   }
  }
 },
 "nbformat": 4,
 "nbformat_minor": 2
}
