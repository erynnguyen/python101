{
 "cells": [
  {
   "cell_type": "code",
   "execution_count": 1,
   "metadata": {},
   "outputs": [
    {
     "ename": "KeyError",
     "evalue": "'number_of_units'",
     "output_type": "error",
     "traceback": [
      "\u001b[1;31m---------------------------------------------------------------------------\u001b[0m",
      "\u001b[1;31mKeyError\u001b[0m                                  Traceback (most recent call last)",
      "Cell \u001b[1;32mIn [1], line 17\u001b[0m\n\u001b[0;32m      9\u001b[0m   \u001b[38;5;28;01mreturn\u001b[39;00m temp\n\u001b[0;32m     11\u001b[0m receipt_1 \u001b[38;5;241m=\u001b[39m {\n\u001b[0;32m     12\u001b[0m     \u001b[38;5;124m'\u001b[39m\u001b[38;5;124mmilk\u001b[39m\u001b[38;5;124m'\u001b[39m:   {\u001b[38;5;124m'\u001b[39m\u001b[38;5;124munit_weight\u001b[39m\u001b[38;5;124m'\u001b[39m: \u001b[38;5;241m1\u001b[39m, \u001b[38;5;124m'\u001b[39m\u001b[38;5;124munit_price\u001b[39m\u001b[38;5;124m'\u001b[39m: \u001b[38;5;241m10\u001b[39m, \u001b[38;5;124m'\u001b[39m\u001b[38;5;124mnumber_of_units\u001b[39m\u001b[38;5;124m'\u001b[39m: \u001b[38;5;241m3\u001b[39m},\n\u001b[0;32m     13\u001b[0m     \u001b[38;5;124m'\u001b[39m\u001b[38;5;124mrice\u001b[39m\u001b[38;5;124m'\u001b[39m:   {\u001b[38;5;124m'\u001b[39m\u001b[38;5;124munit_weight\u001b[39m\u001b[38;5;124m'\u001b[39m: \u001b[38;5;241m2\u001b[39m, \u001b[38;5;124m'\u001b[39m\u001b[38;5;124munit_price\u001b[39m\u001b[38;5;124m'\u001b[39m: \u001b[38;5;241m5\u001b[39m, \u001b[38;5;124m'\u001b[39m\u001b[38;5;124mnumber_of_units\u001b[39m\u001b[38;5;124m'\u001b[39m: \u001b[38;5;241m4\u001b[39m},\n\u001b[0;32m     14\u001b[0m     \u001b[38;5;124m'\u001b[39m\u001b[38;5;124mcookie\u001b[39m\u001b[38;5;124m'\u001b[39m: {\u001b[38;5;124m'\u001b[39m\u001b[38;5;124munit_weight\u001b[39m\u001b[38;5;124m'\u001b[39m: \u001b[38;5;241m0.2\u001b[39m, \u001b[38;5;124m'\u001b[39m\u001b[38;5;124munit_price\u001b[39m\u001b[38;5;124m'\u001b[39m: \u001b[38;5;241m2\u001b[39m, \u001b[38;5;124m'\u001b[39m\u001b[38;5;124mnumber_of_un its\u001b[39m\u001b[38;5;124m'\u001b[39m: \u001b[38;5;241m10\u001b[39m},\n\u001b[0;32m     15\u001b[0m     \u001b[38;5;124m'\u001b[39m\u001b[38;5;124msugar\u001b[39m\u001b[38;5;124m'\u001b[39m:  {\u001b[38;5;124m'\u001b[39m\u001b[38;5;124munit_weight\u001b[39m\u001b[38;5;124m'\u001b[39m: \u001b[38;5;241m0.5\u001b[39m, \u001b[38;5;124m'\u001b[39m\u001b[38;5;124munit_price\u001b[39m\u001b[38;5;124m'\u001b[39m: \u001b[38;5;241m7\u001b[39m, \u001b[38;5;124m'\u001b[39m\u001b[38;5;124mnumber_of_units\u001b[39m\u001b[38;5;124m'\u001b[39m: \u001b[38;5;241m2\u001b[39m},                                  \n\u001b[0;32m     16\u001b[0m      }\n\u001b[1;32m---> 17\u001b[0m \u001b[38;5;28mprint\u001b[39m(heaviest_item(receipt_1))\n",
      "Cell \u001b[1;32mIn [1], line 5\u001b[0m, in \u001b[0;36mheaviest_item\u001b[1;34m(receipt)\u001b[0m\n\u001b[0;32m      3\u001b[0m temp \u001b[38;5;241m=\u001b[39m \u001b[38;5;241m0\u001b[39m\n\u001b[0;32m      4\u001b[0m \u001b[38;5;28;01mfor\u001b[39;00m x, y \u001b[38;5;129;01min\u001b[39;00m receipt\u001b[38;5;241m.\u001b[39mitems():\n\u001b[1;32m----> 5\u001b[0m   receipt[x][\u001b[38;5;124m'\u001b[39m\u001b[38;5;124mtotal_weight\u001b[39m\u001b[38;5;124m'\u001b[39m] \u001b[38;5;241m=\u001b[39m receipt[x][\u001b[38;5;124m'\u001b[39m\u001b[38;5;124munit_weight\u001b[39m\u001b[38;5;124m'\u001b[39m] \u001b[38;5;241m*\u001b[39m \u001b[43mreceipt\u001b[49m\u001b[43m[\u001b[49m\u001b[43mx\u001b[49m\u001b[43m]\u001b[49m\u001b[43m[\u001b[49m\u001b[38;5;124;43m'\u001b[39;49m\u001b[38;5;124;43mnumber_of_units\u001b[39;49m\u001b[38;5;124;43m'\u001b[39;49m\u001b[43m]\u001b[49m\n\u001b[0;32m      6\u001b[0m   total_weight \u001b[38;5;241m=\u001b[39m receipt[x][\u001b[38;5;124m'\u001b[39m\u001b[38;5;124mtotal_weight\u001b[39m\u001b[38;5;124m'\u001b[39m]\n\u001b[0;32m      7\u001b[0m   \u001b[38;5;28;01mif\u001b[39;00m total_weight \u001b[38;5;241m>\u001b[39m temp:\n",
      "\u001b[1;31mKeyError\u001b[0m: 'number_of_units'"
     ]
    }
   ],
   "source": [
    "def heaviest_item(receipt):\n",
    "  total_weight = 0\n",
    "  temp = 0\n",
    "  for x, y in receipt.items():\n",
    "    receipt[x]['total_weight'] = receipt[x]['unit_weight'] * receipt[x]['number_of_units']\n",
    "    total_weight = receipt[x]['total_weight']\n",
    "    if total_weight > temp:\n",
    "      temp = total_weight\n",
    "  return temp\n",
    "    \n",
    "receipt_1 = {\n",
    "    'milk':   {'unit_weight': 1, 'unit_price': 10, 'number_of_units': 3},\n",
    "    'rice':   {'unit_weight': 2, 'unit_price': 5, 'number_of_units': 4},\n",
    "    'cookie': {'unit_weight': 0.2, 'unit_price': 2, 'number_of_un its': 10},\n",
    "    'sugar':  {'unit_weight': 0.5, 'unit_price': 7, 'number_of_units': 2},                                  \n",
    "     }\n",
    "print(heaviest_item(receipt_1))\n",
    "\n"
   ]
  },
  {
   "cell_type": "code",
   "execution_count": null,
   "metadata": {},
   "outputs": [],
   "source": [
    "def heaviest_item(receipt):\n",
    "    \n",
    "\n",
    "\n",
    "receipt_2 = {\n",
    "    'milk':   {'unit_weight': 1, 'unit_price': 10, 'number_of_units': 3},\n",
    "    'rice':   {'unit_weight': 2, 'unit_price': 5, 'number_of_units': 4},\n",
    "    'cookie': {'unit_weight': 0.2, 'unit_price': 2, 'number_of_units': 10},\n",
    "    'sugar':  {'unit_weight': 0.5, 'unit_price': 7, 'number_of_units': 2},\n",
    "     }"
   ]
  },
  {
   "cell_type": "code",
   "execution_count": 3,
   "metadata": {},
   "outputs": [
    {
     "name": "stdout",
     "output_type": "stream",
     "text": [
      "Joh*_D03+14/12\n"
     ]
    }
   ],
   "source": [
    "def extract_email(email, bool):\n",
    "  x = email.find('@')\n",
    "  result = ''\n",
    "  username = email[:x]\n",
    "  domain = email[x+1:]\n",
    "  if bool == True:\n",
    "    result = username\n",
    "  else:\n",
    "    result = domain\n",
    "  return result\n",
    "\n",
    "print(extract_email('Joh*_D03+14/12@obviousscam.com', True))\n",
    "\n",
    "\n",
    "\n",
    "\n",
    "    "
   ]
  },
  {
   "cell_type": "code",
   "execution_count": 3,
   "metadata": {},
   "outputs": [
    {
     "name": "stdout",
     "output_type": "stream",
     "text": [
      "3\n"
     ]
    }
   ],
   "source": [
    "def count_min(my_list):\n",
    "    temp = 0\n",
    "    for i in range(len(my_list)-1):\n",
    "        if my_list[i] < my_list[i +1]:\n",
    "            temp = my_list[i]\n",
    "    return my_list.count(temp)\n",
    "\n",
    "my_list_1 = [0, 1, 3, 2, 8, 0, 9, 10, 0, 5]\n",
    "print(count_min(my_list_1))\n"
   ]
  },
  {
   "cell_type": "code",
   "execution_count": 2,
   "metadata": {},
   "outputs": [
    {
     "name": "stdout",
     "output_type": "stream",
     "text": [
      "10\n"
     ]
    }
   ],
   "source": [
    "def item_calculator(item_1, bool):\n",
    "    total_price = item_1.get('unit_price') * item_1.get('number_of_units')\n",
    "    total_weight = item_1.get('unit_weight') * item_1.get('number_of_units')\n",
    "    result = 0\n",
    "    if bool == True:\n",
    "        result = total_weight\n",
    "    else:\n",
    "        result = total_price\n",
    "    return result\n",
    "\n",
    "item_1 = {'unit_weight': 1.5, 'unit_price': 2, 'number_of_units': 5}\n",
    "print(item_calculator(item_1, False))\n",
    "\n"
   ]
  },
  {
   "cell_type": "code",
   "execution_count": 53,
   "metadata": {},
   "outputs": [
    {
     "name": "stdout",
     "output_type": "stream",
     "text": [
      "7.5\n"
     ]
    }
   ],
   "source": [
    "item_1 = {'unit_weight': 1.5, 'unit_price': 2, 'number_of_units': 5}\n",
    "result = item_1.get('unit_weight') * item_1.get('number_of_units')\n",
    "print(result)"
   ]
  },
  {
   "cell_type": "code",
   "execution_count": null,
   "metadata": {},
   "outputs": [],
   "source": [
    "# dictionary\n",
    "# key-value\n",
    "#khởi tạo dictionary rỗng:\n",
    "my_dict = {}\n",
    "# thêm 1 cặp key-value vào dictionary\n",
    "my_dict['my_key'] = 'new_value'#nếu my_key đã có sẵn trong dictionary thì python sẽ gán 1 item mới \n",
    "\n",
    "#loop with dictionary\n",
    "for item in my_dict: ## cách 1: item chính là key\n",
    "    print(item) # không rõ nghĩa - ko nên dùng\n",
    "for item in my_dict.keys(): #nên dùng\n",
    "    print(key)\n",
    "for value in my_dict.values():#nên dùng\n",
    "    print(value)\n",
    "for key, value in my_dict.item():#nên dùng\n",
    "    print(key, value)"
   ]
  },
  {
   "cell_type": "markdown",
   "metadata": {},
   "source": [
    "# This is demo"
   ]
  }
 ],
 "metadata": {
  "kernelspec": {
   "display_name": "Python 3.10.7 64-bit",
   "language": "python",
   "name": "python3"
  },
  "language_info": {
   "codemirror_mode": {
    "name": "ipython",
    "version": 3
   },
   "file_extension": ".py",
   "mimetype": "text/x-python",
   "name": "python",
   "nbconvert_exporter": "python",
   "pygments_lexer": "ipython3",
   "version": "3.10.7"
  },
  "orig_nbformat": 4,
  "vscode": {
   "interpreter": {
    "hash": "d623b9fff8078de0876853c29573a4030e6e93105518608febd6bbf89a4f39fa"
   }
  }
 },
 "nbformat": 4,
 "nbformat_minor": 2
}
